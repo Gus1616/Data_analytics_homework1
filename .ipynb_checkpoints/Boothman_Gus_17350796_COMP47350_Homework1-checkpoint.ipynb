{
 "cells": [
  {
   "cell_type": "markdown",
   "id": "bdcf1879",
   "metadata": {},
   "source": [
    "# HomeWork 1- 17350796"
   ]
  },
  {
   "cell_type": "markdown",
   "id": "cb3d5d01",
   "metadata": {},
   "source": [
    "It includes Date of Sale, Price and Address of all residential properties purchased in Ireland since the 1st January 2010, \n",
    "as declared to the Revenue Commissioners for stamp duty purposes\n",
    "csv file = ppr-17350796.csv"
   ]
  },
  {
   "cell_type": "markdown",
   "id": "c026a4f3",
   "metadata": {},
   "source": [
    "Question 1: Preparing the data from CSV\n",
    "\n"
   ]
  },
  {
   "cell_type": "code",
   "execution_count": 146,
   "id": "116bb473",
   "metadata": {},
   "outputs": [],
   "source": [
    "import pandas as pd\n",
    "\n",
    "import numpy as np\n",
    "\n",
    "import matplotlib.pyplot as plt\n",
    "\n",
    "%matplotlib inline\n",
    "\n",
    "from matplotlib.backends.backend_pdf import PdfPages"
   ]
  },
  {
   "cell_type": "markdown",
   "id": "ff6dde25",
   "metadata": {},
   "source": [
    "Reading in the data and displaying the first 5 rows:\n"
   ]
  },
  {
   "cell_type": "code",
   "execution_count": 147,
   "id": "284f783d",
   "metadata": {
    "scrolled": true
   },
   "outputs": [
    {
     "data": {
      "text/html": [
       "<div>\n",
       "<style scoped>\n",
       "    .dataframe tbody tr th:only-of-type {\n",
       "        vertical-align: middle;\n",
       "    }\n",
       "\n",
       "    .dataframe tbody tr th {\n",
       "        vertical-align: top;\n",
       "    }\n",
       "\n",
       "    .dataframe thead th {\n",
       "        text-align: right;\n",
       "    }\n",
       "</style>\n",
       "<table border=\"1\" class=\"dataframe\">\n",
       "  <thead>\n",
       "    <tr style=\"text-align: right;\">\n",
       "      <th></th>\n",
       "      <th>Date of Sale (dd/mm/yyyy)</th>\n",
       "      <th>Address</th>\n",
       "      <th>Postal Code</th>\n",
       "      <th>County</th>\n",
       "      <th>Price (€)</th>\n",
       "      <th>Not Full Market Price</th>\n",
       "      <th>VAT Exclusive</th>\n",
       "      <th>Description of Property</th>\n",
       "      <th>Property Size Description</th>\n",
       "    </tr>\n",
       "  </thead>\n",
       "  <tbody>\n",
       "    <tr>\n",
       "      <th>0</th>\n",
       "      <td>06/05/2016</td>\n",
       "      <td>21 CURZON ST, PORTOBELLO, DUBLIN 8</td>\n",
       "      <td>Dublin 8</td>\n",
       "      <td>Dublin</td>\n",
       "      <td>€630,000.00</td>\n",
       "      <td>No</td>\n",
       "      <td>No</td>\n",
       "      <td>Second-Hand Dwelling house /Apartment</td>\n",
       "      <td>NaN</td>\n",
       "    </tr>\n",
       "    <tr>\n",
       "      <th>1</th>\n",
       "      <td>22/12/2014</td>\n",
       "      <td>44 ROTHE ABBEY, KILMAINHAM, DUBLIN 8</td>\n",
       "      <td>Dublin 8</td>\n",
       "      <td>Dublin</td>\n",
       "      <td>€281,000.00</td>\n",
       "      <td>No</td>\n",
       "      <td>No</td>\n",
       "      <td>Second-Hand Dwelling house /Apartment</td>\n",
       "      <td>NaN</td>\n",
       "    </tr>\n",
       "    <tr>\n",
       "      <th>2</th>\n",
       "      <td>22/05/2020</td>\n",
       "      <td>17 MERRION PARK, BLACKROCK, DUBLIN</td>\n",
       "      <td>NaN</td>\n",
       "      <td>Dublin</td>\n",
       "      <td>€560,000.00</td>\n",
       "      <td>No</td>\n",
       "      <td>No</td>\n",
       "      <td>Second-Hand Dwelling house /Apartment</td>\n",
       "      <td>NaN</td>\n",
       "    </tr>\n",
       "    <tr>\n",
       "      <th>3</th>\n",
       "      <td>27/11/2014</td>\n",
       "      <td>KNOCKROE, RATHMOYLE, CO.KILKENNY</td>\n",
       "      <td>NaN</td>\n",
       "      <td>Kilkenny</td>\n",
       "      <td>€46,000.00</td>\n",
       "      <td>No</td>\n",
       "      <td>No</td>\n",
       "      <td>Second-Hand Dwelling house /Apartment</td>\n",
       "      <td>NaN</td>\n",
       "    </tr>\n",
       "    <tr>\n",
       "      <th>4</th>\n",
       "      <td>22/11/2018</td>\n",
       "      <td>15 SHANNON PARK, LIFFORD RD, ENNIS</td>\n",
       "      <td>NaN</td>\n",
       "      <td>Clare</td>\n",
       "      <td>€204,000.00</td>\n",
       "      <td>No</td>\n",
       "      <td>No</td>\n",
       "      <td>Second-Hand Dwelling house /Apartment</td>\n",
       "      <td>NaN</td>\n",
       "    </tr>\n",
       "  </tbody>\n",
       "</table>\n",
       "</div>"
      ],
      "text/plain": [
       "  Date of Sale (dd/mm/yyyy)                               Address Postal Code  \\\n",
       "0                06/05/2016    21 CURZON ST, PORTOBELLO, DUBLIN 8    Dublin 8   \n",
       "1                22/12/2014  44 ROTHE ABBEY, KILMAINHAM, DUBLIN 8    Dublin 8   \n",
       "2                22/05/2020    17 MERRION PARK, BLACKROCK, DUBLIN         NaN   \n",
       "3                27/11/2014      KNOCKROE, RATHMOYLE, CO.KILKENNY         NaN   \n",
       "4                22/11/2018    15 SHANNON PARK, LIFFORD RD, ENNIS         NaN   \n",
       "\n",
       "     County    Price (€) Not Full Market Price VAT Exclusive  \\\n",
       "0    Dublin  €630,000.00                    No            No   \n",
       "1    Dublin  €281,000.00                    No            No   \n",
       "2    Dublin  €560,000.00                    No            No   \n",
       "3  Kilkenny   €46,000.00                    No            No   \n",
       "4     Clare  €204,000.00                    No            No   \n",
       "\n",
       "                 Description of Property Property Size Description  \n",
       "0  Second-Hand Dwelling house /Apartment                       NaN  \n",
       "1  Second-Hand Dwelling house /Apartment                       NaN  \n",
       "2  Second-Hand Dwelling house /Apartment                       NaN  \n",
       "3  Second-Hand Dwelling house /Apartment                       NaN  \n",
       "4  Second-Hand Dwelling house /Apartment                       NaN  "
      ]
     },
     "execution_count": 147,
     "metadata": {},
     "output_type": "execute_result"
    }
   ],
   "source": [
    "df = pd.read_csv('ppr-17350796.csv', keep_default_na=True, sep=',\\s+', delimiter=',', skipinitialspace=True)\n",
    "# Show data frame first few rows\n",
    "df.head(5)"
   ]
  },
  {
   "cell_type": "markdown",
   "id": "040f20f1",
   "metadata": {},
   "source": [
    "Displaying the last 5 rows"
   ]
  },
  {
   "cell_type": "code",
   "execution_count": 148,
   "id": "4ec2c4cd",
   "metadata": {},
   "outputs": [
    {
     "data": {
      "text/html": [
       "<div>\n",
       "<style scoped>\n",
       "    .dataframe tbody tr th:only-of-type {\n",
       "        vertical-align: middle;\n",
       "    }\n",
       "\n",
       "    .dataframe tbody tr th {\n",
       "        vertical-align: top;\n",
       "    }\n",
       "\n",
       "    .dataframe thead th {\n",
       "        text-align: right;\n",
       "    }\n",
       "</style>\n",
       "<table border=\"1\" class=\"dataframe\">\n",
       "  <thead>\n",
       "    <tr style=\"text-align: right;\">\n",
       "      <th></th>\n",
       "      <th>Date of Sale (dd/mm/yyyy)</th>\n",
       "      <th>Address</th>\n",
       "      <th>Postal Code</th>\n",
       "      <th>County</th>\n",
       "      <th>Price (€)</th>\n",
       "      <th>Not Full Market Price</th>\n",
       "      <th>VAT Exclusive</th>\n",
       "      <th>Description of Property</th>\n",
       "      <th>Property Size Description</th>\n",
       "    </tr>\n",
       "  </thead>\n",
       "  <tbody>\n",
       "    <tr>\n",
       "      <th>9995</th>\n",
       "      <td>15/12/2017</td>\n",
       "      <td>KNOCKASARTNETT, KILLARNEY, KERRY</td>\n",
       "      <td>NaN</td>\n",
       "      <td>Kerry</td>\n",
       "      <td>€200,000.00</td>\n",
       "      <td>No</td>\n",
       "      <td>No</td>\n",
       "      <td>Second-Hand Dwelling house /Apartment</td>\n",
       "      <td>NaN</td>\n",
       "    </tr>\n",
       "    <tr>\n",
       "      <th>9996</th>\n",
       "      <td>18/12/2012</td>\n",
       "      <td>17 the court, cypress downs, templeogue</td>\n",
       "      <td>NaN</td>\n",
       "      <td>Dublin</td>\n",
       "      <td>€605,000.00</td>\n",
       "      <td>No</td>\n",
       "      <td>No</td>\n",
       "      <td>Second-Hand Dwelling house /Apartment</td>\n",
       "      <td>NaN</td>\n",
       "    </tr>\n",
       "    <tr>\n",
       "      <th>9997</th>\n",
       "      <td>14/12/2016</td>\n",
       "      <td>THE LOG CABIN, FORGE COTTAGE, CULLENSTOWN</td>\n",
       "      <td>NaN</td>\n",
       "      <td>Wexford</td>\n",
       "      <td>€46,666.67</td>\n",
       "      <td>No</td>\n",
       "      <td>No</td>\n",
       "      <td>Second-Hand Dwelling house /Apartment</td>\n",
       "      <td>NaN</td>\n",
       "    </tr>\n",
       "    <tr>\n",
       "      <th>9998</th>\n",
       "      <td>19/06/2017</td>\n",
       "      <td>CARRIG RD, PARKMORE, ROSCREA</td>\n",
       "      <td>NaN</td>\n",
       "      <td>Tipperary</td>\n",
       "      <td>€176,000.00</td>\n",
       "      <td>No</td>\n",
       "      <td>No</td>\n",
       "      <td>Second-Hand Dwelling house /Apartment</td>\n",
       "      <td>NaN</td>\n",
       "    </tr>\n",
       "    <tr>\n",
       "      <th>9999</th>\n",
       "      <td>02/11/2017</td>\n",
       "      <td>26 KILSHANE RD, FINGLAS, DUBLIN 11</td>\n",
       "      <td>Dublin 11</td>\n",
       "      <td>Dublin</td>\n",
       "      <td>€86,738.06</td>\n",
       "      <td>Yes</td>\n",
       "      <td>No</td>\n",
       "      <td>Second-Hand Dwelling house /Apartment</td>\n",
       "      <td>NaN</td>\n",
       "    </tr>\n",
       "  </tbody>\n",
       "</table>\n",
       "</div>"
      ],
      "text/plain": [
       "     Date of Sale (dd/mm/yyyy)                                    Address  \\\n",
       "9995                15/12/2017           KNOCKASARTNETT, KILLARNEY, KERRY   \n",
       "9996                18/12/2012    17 the court, cypress downs, templeogue   \n",
       "9997                14/12/2016  THE LOG CABIN, FORGE COTTAGE, CULLENSTOWN   \n",
       "9998                19/06/2017               CARRIG RD, PARKMORE, ROSCREA   \n",
       "9999                02/11/2017         26 KILSHANE RD, FINGLAS, DUBLIN 11   \n",
       "\n",
       "     Postal Code     County    Price (€) Not Full Market Price VAT Exclusive  \\\n",
       "9995         NaN      Kerry  €200,000.00                    No            No   \n",
       "9996         NaN     Dublin  €605,000.00                    No            No   \n",
       "9997         NaN    Wexford   €46,666.67                    No            No   \n",
       "9998         NaN  Tipperary  €176,000.00                    No            No   \n",
       "9999   Dublin 11     Dublin   €86,738.06                   Yes            No   \n",
       "\n",
       "                    Description of Property Property Size Description  \n",
       "9995  Second-Hand Dwelling house /Apartment                       NaN  \n",
       "9996  Second-Hand Dwelling house /Apartment                       NaN  \n",
       "9997  Second-Hand Dwelling house /Apartment                       NaN  \n",
       "9998  Second-Hand Dwelling house /Apartment                       NaN  \n",
       "9999  Second-Hand Dwelling house /Apartment                       NaN  "
      ]
     },
     "execution_count": 148,
     "metadata": {},
     "output_type": "execute_result"
    }
   ],
   "source": [
    "df.tail(5)"
   ]
  },
  {
   "cell_type": "markdown",
   "id": "f569986d",
   "metadata": {},
   "source": [
    "Display number of rows and columns- 10000 = Rows, 9 = columns"
   ]
  },
  {
   "cell_type": "code",
   "execution_count": 149,
   "id": "635a10df",
   "metadata": {},
   "outputs": [
    {
     "data": {
      "text/plain": [
       "(10000, 9)"
      ]
     },
     "execution_count": 149,
     "metadata": {},
     "output_type": "execute_result"
    }
   ],
   "source": [
    "# number of rows and columns\n",
    "df.shape"
   ]
  },
  {
   "cell_type": "markdown",
   "id": "198cd050",
   "metadata": {},
   "source": [
    "The data is currently all read as object. The data need to be change to the appropriate data type"
   ]
  },
  {
   "cell_type": "code",
   "execution_count": 150,
   "id": "6ea8e8ca",
   "metadata": {},
   "outputs": [
    {
     "name": "stdout",
     "output_type": "stream",
     "text": [
      "<class 'pandas.core.frame.DataFrame'>\n",
      "RangeIndex: 10000 entries, 0 to 9999\n",
      "Data columns (total 9 columns):\n",
      " #   Column                     Non-Null Count  Dtype \n",
      "---  ------                     --------------  ----- \n",
      " 0   Date of Sale (dd/mm/yyyy)  10000 non-null  object\n",
      " 1   Address                    10000 non-null  object\n",
      " 2   Postal Code                1860 non-null   object\n",
      " 3   County                     10000 non-null  object\n",
      " 4   Price (€)                  10000 non-null  object\n",
      " 5   Not Full Market Price      10000 non-null  object\n",
      " 6   VAT Exclusive              10000 non-null  object\n",
      " 7   Description of Property    10000 non-null  object\n",
      " 8   Property Size Description  1029 non-null   object\n",
      "dtypes: object(9)\n",
      "memory usage: 703.2+ KB\n"
     ]
    }
   ],
   "source": [
    "df.info()"
   ]
  },
  {
   "cell_type": "markdown",
   "id": "eb439a5a",
   "metadata": {},
   "source": [
    "Looking at the column names for errrors "
   ]
  },
  {
   "cell_type": "code",
   "execution_count": 151,
   "id": "6c10ab31",
   "metadata": {},
   "outputs": [
    {
     "data": {
      "text/plain": [
       "Index(['Date of Sale (dd/mm/yyyy)', 'Address', 'Postal Code', 'County',\n",
       "       'Price (€)', 'Not Full Market Price', 'VAT Exclusive',\n",
       "       'Description of Property', 'Property Size Description'],\n",
       "      dtype='object')"
      ]
     },
     "execution_count": 151,
     "metadata": {},
     "output_type": "execute_result"
    }
   ],
   "source": [
    "df.columns"
   ]
  },
  {
   "cell_type": "code",
   "execution_count": 152,
   "id": "3b59acfe",
   "metadata": {},
   "outputs": [
    {
     "data": {
      "text/html": [
       "<div>\n",
       "<style scoped>\n",
       "    .dataframe tbody tr th:only-of-type {\n",
       "        vertical-align: middle;\n",
       "    }\n",
       "\n",
       "    .dataframe tbody tr th {\n",
       "        vertical-align: top;\n",
       "    }\n",
       "\n",
       "    .dataframe thead th {\n",
       "        text-align: right;\n",
       "    }\n",
       "</style>\n",
       "<table border=\"1\" class=\"dataframe\">\n",
       "  <thead>\n",
       "    <tr style=\"text-align: right;\">\n",
       "      <th></th>\n",
       "      <th>Price (€)</th>\n",
       "    </tr>\n",
       "  </thead>\n",
       "  <tbody>\n",
       "    <tr>\n",
       "      <th>0</th>\n",
       "      <td>630000.00</td>\n",
       "    </tr>\n",
       "    <tr>\n",
       "      <th>1</th>\n",
       "      <td>281000.00</td>\n",
       "    </tr>\n",
       "    <tr>\n",
       "      <th>2</th>\n",
       "      <td>560000.00</td>\n",
       "    </tr>\n",
       "    <tr>\n",
       "      <th>3</th>\n",
       "      <td>46000.00</td>\n",
       "    </tr>\n",
       "    <tr>\n",
       "      <th>4</th>\n",
       "      <td>204000.00</td>\n",
       "    </tr>\n",
       "    <tr>\n",
       "      <th>...</th>\n",
       "      <td>...</td>\n",
       "    </tr>\n",
       "    <tr>\n",
       "      <th>9995</th>\n",
       "      <td>200000.00</td>\n",
       "    </tr>\n",
       "    <tr>\n",
       "      <th>9996</th>\n",
       "      <td>605000.00</td>\n",
       "    </tr>\n",
       "    <tr>\n",
       "      <th>9997</th>\n",
       "      <td>46666.67</td>\n",
       "    </tr>\n",
       "    <tr>\n",
       "      <th>9998</th>\n",
       "      <td>176000.00</td>\n",
       "    </tr>\n",
       "    <tr>\n",
       "      <th>9999</th>\n",
       "      <td>86738.06</td>\n",
       "    </tr>\n",
       "  </tbody>\n",
       "</table>\n",
       "<p>10000 rows × 1 columns</p>\n",
       "</div>"
      ],
      "text/plain": [
       "      Price (€)\n",
       "0     630000.00\n",
       "1     281000.00\n",
       "2     560000.00\n",
       "3      46000.00\n",
       "4     204000.00\n",
       "...         ...\n",
       "9995  200000.00\n",
       "9996  605000.00\n",
       "9997   46666.67\n",
       "9998  176000.00\n",
       "9999   86738.06\n",
       "\n",
       "[10000 rows x 1 columns]"
      ]
     },
     "execution_count": 152,
     "metadata": {},
     "output_type": "execute_result"
    }
   ],
   "source": [
    "# Converting price to float, you need to remove all symbols from strings for the command to work. \n",
    "\n",
    "\n",
    "\n",
    "df['Price (€)'] = df['Price (€)'].str.replace(',', '')\n",
    "\n",
    "\n",
    "df['Price (€)'] = df['Price (€)'].str.replace('€', '')\n",
    "\n",
    "df['Price (€)'] = df['Price (€)'].astype(float)\n",
    "\n",
    "df[['Price (€)']]"
   ]
  },
  {
   "cell_type": "code",
   "execution_count": null,
   "id": "44a9b97b",
   "metadata": {},
   "outputs": [],
   "source": []
  },
  {
   "cell_type": "code",
   "execution_count": 153,
   "id": "f917d9ec",
   "metadata": {},
   "outputs": [
    {
     "data": {
      "text/plain": [
       "Date of Sale (dd/mm/yyyy)      object\n",
       "Address                        object\n",
       "Postal Code                  category\n",
       "County                       category\n",
       "Price (€)                     float64\n",
       "Not Full Market Price        category\n",
       "VAT Exclusive                category\n",
       "Description of Property      category\n",
       "Property Size Description    category\n",
       "dtype: object"
      ]
     },
     "execution_count": 153,
     "metadata": {},
     "output_type": "execute_result"
    }
   ],
   "source": [
    "\n",
    "\n",
    "df['County'] = df['County'].astype('category')\n",
    "df['Description of Property'] = df['Description of Property'].astype('category')\n",
    "df['Postal Code'] = df['Postal Code'].astype('category')\n",
    "df['Property Size Description'] = df['Property Size Description'].astype('category')\n",
    "df['VAT Exclusive'] = df['VAT Exclusive'].astype('category')\n",
    "df['Not Full Market Price'] = df['Not Full Market Price'].astype('category')\n",
    "\n",
    "\n",
    "\n",
    "\n",
    "\n",
    "\n",
    "df.dtypes"
   ]
  },
  {
   "cell_type": "code",
   "execution_count": 154,
   "id": "b5b1e84c",
   "metadata": {},
   "outputs": [
    {
     "data": {
      "text/plain": [
       "Date of Sale (dd/mm/yyyy)    datetime64[ns]\n",
       "Address                              object\n",
       "Postal Code                        category\n",
       "County                             category\n",
       "Price (€)                           float64\n",
       "Not Full Market Price              category\n",
       "VAT Exclusive                      category\n",
       "Description of Property            category\n",
       "Property Size Description          category\n",
       "dtype: object"
      ]
     },
     "execution_count": 154,
     "metadata": {},
     "output_type": "execute_result"
    }
   ],
   "source": [
    "# converting dates to date data type\n",
    "df['Date of Sale (dd/mm/yyyy)'] = pd.to_datetime(df['Date of Sale (dd/mm/yyyy)'])\n",
    "\n",
    "df.dtypes"
   ]
  },
  {
   "cell_type": "markdown",
   "id": "456e854e",
   "metadata": {},
   "source": [
    "Looking for duplicate rows and columns"
   ]
  },
  {
   "cell_type": "code",
   "execution_count": 155,
   "id": "dddbac74",
   "metadata": {},
   "outputs": [
    {
     "data": {
      "text/plain": [
       "Date of Sale (dd/mm/yyyy)    2759\n",
       "Address                      9980\n",
       "Postal Code                    22\n",
       "County                         26\n",
       "Price (€)                    2285\n",
       "Not Full Market Price           2\n",
       "VAT Exclusive                   2\n",
       "Description of Property         3\n",
       "Property Size Description       4\n",
       "dtype: int64"
      ]
     },
     "execution_count": 155,
     "metadata": {},
     "output_type": "execute_result"
    }
   ],
   "source": [
    "# There is 20 non unique addresses \n",
    "df.nunique()"
   ]
  },
  {
   "cell_type": "code",
   "execution_count": 156,
   "id": "f219a262",
   "metadata": {},
   "outputs": [
    {
     "data": {
      "text/plain": [
       "Date of Sale (dd/mm/yyyy)       0\n",
       "Address                         0\n",
       "Postal Code                  8140\n",
       "County                          0\n",
       "Price (€)                       0\n",
       "Not Full Market Price           0\n",
       "VAT Exclusive                   0\n",
       "Description of Property         0\n",
       "Property Size Description    8971\n",
       "dtype: int64"
      ]
     },
     "execution_count": 156,
     "metadata": {},
     "output_type": "execute_result"
    }
   ],
   "source": [
    "df.isnull().sum()"
   ]
  },
  {
   "cell_type": "markdown",
   "id": "d1c00854",
   "metadata": {},
   "source": [
    "The columm 'Property Size Description' has been dropped due to over 50% of the data is missing and cannot be inferred with accuracy"
   ]
  },
  {
   "cell_type": "code",
   "execution_count": 170,
   "id": "9ddd17d9",
   "metadata": {},
   "outputs": [
    {
     "ename": "KeyError",
     "evalue": "\"['Property Size Description'] not found in axis\"",
     "output_type": "error",
     "traceback": [
      "\u001b[1;31m---------------------------------------------------------------------------\u001b[0m",
      "\u001b[1;31mKeyError\u001b[0m                                  Traceback (most recent call last)",
      "\u001b[1;32m<ipython-input-170-4e80086ef460>\u001b[0m in \u001b[0;36m<module>\u001b[1;34m\u001b[0m\n\u001b[1;32m----> 1\u001b[1;33m \u001b[0mdf\u001b[0m\u001b[1;33m.\u001b[0m\u001b[0mdrop\u001b[0m\u001b[1;33m(\u001b[0m\u001b[1;34m'Property Size Description'\u001b[0m\u001b[1;33m,\u001b[0m \u001b[0maxis\u001b[0m\u001b[1;33m=\u001b[0m\u001b[1;36m1\u001b[0m\u001b[1;33m,\u001b[0m \u001b[0minplace\u001b[0m\u001b[1;33m=\u001b[0m\u001b[1;32mTrue\u001b[0m\u001b[1;33m)\u001b[0m\u001b[1;33m\u001b[0m\u001b[1;33m\u001b[0m\u001b[0m\n\u001b[0m\u001b[0;32m      2\u001b[0m \u001b[0mdf\u001b[0m\u001b[1;33m.\u001b[0m\u001b[0mtail\u001b[0m\u001b[1;33m(\u001b[0m\u001b[1;36m5\u001b[0m\u001b[1;33m)\u001b[0m\u001b[1;33m\u001b[0m\u001b[1;33m\u001b[0m\u001b[0m\n",
      "\u001b[1;32m~\\anaconda3\\lib\\site-packages\\pandas\\core\\frame.py\u001b[0m in \u001b[0;36mdrop\u001b[1;34m(self, labels, axis, index, columns, level, inplace, errors)\u001b[0m\n\u001b[0;32m   4306\u001b[0m                 \u001b[0mweight\u001b[0m  \u001b[1;36m1.0\u001b[0m     \u001b[1;36m0.8\u001b[0m\u001b[1;33m\u001b[0m\u001b[1;33m\u001b[0m\u001b[0m\n\u001b[0;32m   4307\u001b[0m         \"\"\"\n\u001b[1;32m-> 4308\u001b[1;33m         return super().drop(\n\u001b[0m\u001b[0;32m   4309\u001b[0m             \u001b[0mlabels\u001b[0m\u001b[1;33m=\u001b[0m\u001b[0mlabels\u001b[0m\u001b[1;33m,\u001b[0m\u001b[1;33m\u001b[0m\u001b[1;33m\u001b[0m\u001b[0m\n\u001b[0;32m   4310\u001b[0m             \u001b[0maxis\u001b[0m\u001b[1;33m=\u001b[0m\u001b[0maxis\u001b[0m\u001b[1;33m,\u001b[0m\u001b[1;33m\u001b[0m\u001b[1;33m\u001b[0m\u001b[0m\n",
      "\u001b[1;32m~\\anaconda3\\lib\\site-packages\\pandas\\core\\generic.py\u001b[0m in \u001b[0;36mdrop\u001b[1;34m(self, labels, axis, index, columns, level, inplace, errors)\u001b[0m\n\u001b[0;32m   4151\u001b[0m         \u001b[1;32mfor\u001b[0m \u001b[0maxis\u001b[0m\u001b[1;33m,\u001b[0m \u001b[0mlabels\u001b[0m \u001b[1;32min\u001b[0m \u001b[0maxes\u001b[0m\u001b[1;33m.\u001b[0m\u001b[0mitems\u001b[0m\u001b[1;33m(\u001b[0m\u001b[1;33m)\u001b[0m\u001b[1;33m:\u001b[0m\u001b[1;33m\u001b[0m\u001b[1;33m\u001b[0m\u001b[0m\n\u001b[0;32m   4152\u001b[0m             \u001b[1;32mif\u001b[0m \u001b[0mlabels\u001b[0m \u001b[1;32mis\u001b[0m \u001b[1;32mnot\u001b[0m \u001b[1;32mNone\u001b[0m\u001b[1;33m:\u001b[0m\u001b[1;33m\u001b[0m\u001b[1;33m\u001b[0m\u001b[0m\n\u001b[1;32m-> 4153\u001b[1;33m                 \u001b[0mobj\u001b[0m \u001b[1;33m=\u001b[0m \u001b[0mobj\u001b[0m\u001b[1;33m.\u001b[0m\u001b[0m_drop_axis\u001b[0m\u001b[1;33m(\u001b[0m\u001b[0mlabels\u001b[0m\u001b[1;33m,\u001b[0m \u001b[0maxis\u001b[0m\u001b[1;33m,\u001b[0m \u001b[0mlevel\u001b[0m\u001b[1;33m=\u001b[0m\u001b[0mlevel\u001b[0m\u001b[1;33m,\u001b[0m \u001b[0merrors\u001b[0m\u001b[1;33m=\u001b[0m\u001b[0merrors\u001b[0m\u001b[1;33m)\u001b[0m\u001b[1;33m\u001b[0m\u001b[1;33m\u001b[0m\u001b[0m\n\u001b[0m\u001b[0;32m   4154\u001b[0m \u001b[1;33m\u001b[0m\u001b[0m\n\u001b[0;32m   4155\u001b[0m         \u001b[1;32mif\u001b[0m \u001b[0minplace\u001b[0m\u001b[1;33m:\u001b[0m\u001b[1;33m\u001b[0m\u001b[1;33m\u001b[0m\u001b[0m\n",
      "\u001b[1;32m~\\anaconda3\\lib\\site-packages\\pandas\\core\\generic.py\u001b[0m in \u001b[0;36m_drop_axis\u001b[1;34m(self, labels, axis, level, errors)\u001b[0m\n\u001b[0;32m   4186\u001b[0m                 \u001b[0mnew_axis\u001b[0m \u001b[1;33m=\u001b[0m \u001b[0maxis\u001b[0m\u001b[1;33m.\u001b[0m\u001b[0mdrop\u001b[0m\u001b[1;33m(\u001b[0m\u001b[0mlabels\u001b[0m\u001b[1;33m,\u001b[0m \u001b[0mlevel\u001b[0m\u001b[1;33m=\u001b[0m\u001b[0mlevel\u001b[0m\u001b[1;33m,\u001b[0m \u001b[0merrors\u001b[0m\u001b[1;33m=\u001b[0m\u001b[0merrors\u001b[0m\u001b[1;33m)\u001b[0m\u001b[1;33m\u001b[0m\u001b[1;33m\u001b[0m\u001b[0m\n\u001b[0;32m   4187\u001b[0m             \u001b[1;32melse\u001b[0m\u001b[1;33m:\u001b[0m\u001b[1;33m\u001b[0m\u001b[1;33m\u001b[0m\u001b[0m\n\u001b[1;32m-> 4188\u001b[1;33m                 \u001b[0mnew_axis\u001b[0m \u001b[1;33m=\u001b[0m \u001b[0maxis\u001b[0m\u001b[1;33m.\u001b[0m\u001b[0mdrop\u001b[0m\u001b[1;33m(\u001b[0m\u001b[0mlabels\u001b[0m\u001b[1;33m,\u001b[0m \u001b[0merrors\u001b[0m\u001b[1;33m=\u001b[0m\u001b[0merrors\u001b[0m\u001b[1;33m)\u001b[0m\u001b[1;33m\u001b[0m\u001b[1;33m\u001b[0m\u001b[0m\n\u001b[0m\u001b[0;32m   4189\u001b[0m             \u001b[0mresult\u001b[0m \u001b[1;33m=\u001b[0m \u001b[0mself\u001b[0m\u001b[1;33m.\u001b[0m\u001b[0mreindex\u001b[0m\u001b[1;33m(\u001b[0m\u001b[1;33m**\u001b[0m\u001b[1;33m{\u001b[0m\u001b[0maxis_name\u001b[0m\u001b[1;33m:\u001b[0m \u001b[0mnew_axis\u001b[0m\u001b[1;33m}\u001b[0m\u001b[1;33m)\u001b[0m\u001b[1;33m\u001b[0m\u001b[1;33m\u001b[0m\u001b[0m\n\u001b[0;32m   4190\u001b[0m \u001b[1;33m\u001b[0m\u001b[0m\n",
      "\u001b[1;32m~\\anaconda3\\lib\\site-packages\\pandas\\core\\indexes\\base.py\u001b[0m in \u001b[0;36mdrop\u001b[1;34m(self, labels, errors)\u001b[0m\n\u001b[0;32m   5589\u001b[0m         \u001b[1;32mif\u001b[0m \u001b[0mmask\u001b[0m\u001b[1;33m.\u001b[0m\u001b[0many\u001b[0m\u001b[1;33m(\u001b[0m\u001b[1;33m)\u001b[0m\u001b[1;33m:\u001b[0m\u001b[1;33m\u001b[0m\u001b[1;33m\u001b[0m\u001b[0m\n\u001b[0;32m   5590\u001b[0m             \u001b[1;32mif\u001b[0m \u001b[0merrors\u001b[0m \u001b[1;33m!=\u001b[0m \u001b[1;34m\"ignore\"\u001b[0m\u001b[1;33m:\u001b[0m\u001b[1;33m\u001b[0m\u001b[1;33m\u001b[0m\u001b[0m\n\u001b[1;32m-> 5591\u001b[1;33m                 \u001b[1;32mraise\u001b[0m \u001b[0mKeyError\u001b[0m\u001b[1;33m(\u001b[0m\u001b[1;34mf\"{labels[mask]} not found in axis\"\u001b[0m\u001b[1;33m)\u001b[0m\u001b[1;33m\u001b[0m\u001b[1;33m\u001b[0m\u001b[0m\n\u001b[0m\u001b[0;32m   5592\u001b[0m             \u001b[0mindexer\u001b[0m \u001b[1;33m=\u001b[0m \u001b[0mindexer\u001b[0m\u001b[1;33m[\u001b[0m\u001b[1;33m~\u001b[0m\u001b[0mmask\u001b[0m\u001b[1;33m]\u001b[0m\u001b[1;33m\u001b[0m\u001b[1;33m\u001b[0m\u001b[0m\n\u001b[0;32m   5593\u001b[0m         \u001b[1;32mreturn\u001b[0m \u001b[0mself\u001b[0m\u001b[1;33m.\u001b[0m\u001b[0mdelete\u001b[0m\u001b[1;33m(\u001b[0m\u001b[0mindexer\u001b[0m\u001b[1;33m)\u001b[0m\u001b[1;33m\u001b[0m\u001b[1;33m\u001b[0m\u001b[0m\n",
      "\u001b[1;31mKeyError\u001b[0m: \"['Property Size Description'] not found in axis\""
     ]
    }
   ],
   "source": [
    "df.drop('Property Size Description', axis=1, inplace=True)\n",
    "df.tail(5)"
   ]
  },
  {
   "cell_type": "code",
   "execution_count": 161,
   "id": "01958fdf",
   "metadata": {},
   "outputs": [
    {
     "data": {
      "text/plain": [
       "No     9552\n",
       "Yes     448\n",
       "Name: Not Full Market Price, dtype: int64"
      ]
     },
     "execution_count": 161,
     "metadata": {},
     "output_type": "execute_result"
    }
   ],
   "source": [
    "df['Not Full Market Price'].value_counts(dropna=False)"
   ]
  },
  {
   "cell_type": "markdown",
   "id": "5457cbc7",
   "metadata": {},
   "source": [
    "There is some logical integrity issues with the data. Some post codes do not match the post codes in their addresses."
   ]
  },
  {
   "cell_type": "code",
   "execution_count": 162,
   "id": "dbafc444",
   "metadata": {},
   "outputs": [
    {
     "data": {
      "text/html": [
       "<div>\n",
       "<style scoped>\n",
       "    .dataframe tbody tr th:only-of-type {\n",
       "        vertical-align: middle;\n",
       "    }\n",
       "\n",
       "    .dataframe tbody tr th {\n",
       "        vertical-align: top;\n",
       "    }\n",
       "\n",
       "    .dataframe thead th {\n",
       "        text-align: right;\n",
       "    }\n",
       "</style>\n",
       "<table border=\"1\" class=\"dataframe\">\n",
       "  <thead>\n",
       "    <tr style=\"text-align: right;\">\n",
       "      <th></th>\n",
       "      <th>Postal Code</th>\n",
       "      <th>County</th>\n",
       "      <th>Not Full Market Price</th>\n",
       "      <th>VAT Exclusive</th>\n",
       "      <th>Description of Property</th>\n",
       "    </tr>\n",
       "  </thead>\n",
       "  <tbody>\n",
       "    <tr>\n",
       "      <th>0</th>\n",
       "      <td>Dublin 8</td>\n",
       "      <td>Dublin</td>\n",
       "      <td>No</td>\n",
       "      <td>No</td>\n",
       "      <td>Second-Hand Dwelling house /Apartment</td>\n",
       "    </tr>\n",
       "    <tr>\n",
       "      <th>1</th>\n",
       "      <td>Dublin 8</td>\n",
       "      <td>Dublin</td>\n",
       "      <td>No</td>\n",
       "      <td>No</td>\n",
       "      <td>Second-Hand Dwelling house /Apartment</td>\n",
       "    </tr>\n",
       "    <tr>\n",
       "      <th>2</th>\n",
       "      <td>NaN</td>\n",
       "      <td>Dublin</td>\n",
       "      <td>No</td>\n",
       "      <td>No</td>\n",
       "      <td>Second-Hand Dwelling house /Apartment</td>\n",
       "    </tr>\n",
       "    <tr>\n",
       "      <th>3</th>\n",
       "      <td>NaN</td>\n",
       "      <td>Kilkenny</td>\n",
       "      <td>No</td>\n",
       "      <td>No</td>\n",
       "      <td>Second-Hand Dwelling house /Apartment</td>\n",
       "    </tr>\n",
       "    <tr>\n",
       "      <th>4</th>\n",
       "      <td>NaN</td>\n",
       "      <td>Clare</td>\n",
       "      <td>No</td>\n",
       "      <td>No</td>\n",
       "      <td>Second-Hand Dwelling house /Apartment</td>\n",
       "    </tr>\n",
       "  </tbody>\n",
       "</table>\n",
       "</div>"
      ],
      "text/plain": [
       "  Postal Code    County Not Full Market Price VAT Exclusive  \\\n",
       "0    Dublin 8    Dublin                    No            No   \n",
       "1    Dublin 8    Dublin                    No            No   \n",
       "2         NaN    Dublin                    No            No   \n",
       "3         NaN  Kilkenny                    No            No   \n",
       "4         NaN     Clare                    No            No   \n",
       "\n",
       "                 Description of Property  \n",
       "0  Second-Hand Dwelling house /Apartment  \n",
       "1  Second-Hand Dwelling house /Apartment  \n",
       "2  Second-Hand Dwelling house /Apartment  \n",
       "3  Second-Hand Dwelling house /Apartment  \n",
       "4  Second-Hand Dwelling house /Apartment  "
      ]
     },
     "execution_count": 162,
     "metadata": {},
     "output_type": "execute_result"
    }
   ],
   "source": [
    "category_columns = df.select_dtypes(['category']).columns\n",
    "df[category_columns].head()"
   ]
  },
  {
   "cell_type": "code",
   "execution_count": 172,
   "id": "f67e317e",
   "metadata": {},
   "outputs": [
    {
     "name": "stdout",
     "output_type": "stream",
     "text": [
      "\n",
      "Postal Code\n",
      "NaN          8140\n",
      "Dublin 15     232\n",
      "Dublin 18     143\n",
      "Dublin 9      119\n",
      "Dublin 8      115\n",
      "Dublin 24     114\n",
      "Dublin 4      109\n",
      "Dublin 12     104\n",
      "Dublin 16      96\n",
      "Dublin 11      93\n",
      "Dublin 7       88\n",
      "Dublin 13      85\n",
      "Dublin 14      84\n",
      "Dublin 3       82\n",
      "Dublin 5       78\n",
      "Dublin 1       77\n",
      "Dublin 6       66\n",
      "Dublin 22      54\n",
      "Dublin 2       34\n",
      "Dublin 20      25\n",
      "Dublin 17      24\n",
      "Dublin 10      20\n",
      "Dublin 6w      18\n",
      "Name: Postal Code, dtype: int64\n",
      "\n",
      "County\n",
      "Dublin       3193\n",
      "Cork         1099\n",
      "Galway        502\n",
      "Kildare       483\n",
      "Meath         399\n",
      "Wexford       363\n",
      "Limerick      348\n",
      "Wicklow       317\n",
      "Louth         288\n",
      "Kerry         285\n",
      "Tipperary     283\n",
      "Donegal       274\n",
      "Mayo          259\n",
      "Waterford     245\n",
      "Clare         240\n",
      "Westmeath     174\n",
      "Laois         163\n",
      "Cavan         153\n",
      "Sligo         148\n",
      "Roscommon     143\n",
      "Kilkenny      133\n",
      "Carlow        124\n",
      "Offaly        119\n",
      "Leitrim        99\n",
      "Longford       90\n",
      "Monaghan       76\n",
      "Name: County, dtype: int64\n",
      "\n",
      "Not Full Market Price\n",
      "No     9552\n",
      "Yes     448\n",
      "Name: Not Full Market Price, dtype: int64\n",
      "\n",
      "VAT Exclusive\n",
      "No     8399\n",
      "Yes    1601\n",
      "Name: VAT Exclusive, dtype: int64\n",
      "\n",
      "Description of Property\n",
      "Second-Hand Dwelling house /Apartment    8363\n",
      "New Dwelling house /Apartment            1636\n",
      "Teach/Árasán Cónaithe Atháimhe              1\n",
      "Name: Description of Property, dtype: int64\n"
     ]
    }
   ],
   "source": [
    "for column in category_columns:\n",
    "    print(\"\\n\" + column)\n",
    "    print(df[column].value_counts(dropna=False))"
   ]
  },
  {
   "cell_type": "markdown",
   "id": "e17f71d5",
   "metadata": {},
   "source": [
    "'Description of Property' shows 3 unique properties. \"Teach/Árasán Cónaithe Atháimhe\" is the Irish translation of \"Second-Hand Dwelling house /Apartment\". While it is important that Irish people practice their native language for the purpose of data analytics it makes sense to change this to the english category for consistency. "
   ]
  },
  {
   "cell_type": "code",
   "execution_count": 176,
   "id": "a9e7bb0f",
   "metadata": {},
   "outputs": [
    {
     "data": {
      "text/plain": [
       "[5686]"
      ]
     },
     "execution_count": 176,
     "metadata": {},
     "output_type": "execute_result"
    }
   ],
   "source": [
    "# getting index of where the illogical data is \n",
    "df.index[df['Description of Property'] == 'Teach/Árasán Cónaithe Atháimhe'].tolist()"
   ]
  },
  {
   "cell_type": "code",
   "execution_count": 180,
   "id": "1c737762",
   "metadata": {},
   "outputs": [],
   "source": [
    "# replacing with english translation\n",
    "df.at[5686,'Description of Property']='Second-Hand Dwelling house /Apartment'\n"
   ]
  },
  {
   "cell_type": "code",
   "execution_count": 181,
   "id": "7459185f",
   "metadata": {},
   "outputs": [
    {
     "data": {
      "text/plain": [
       "Second-Hand Dwelling house /Apartment    8364\n",
       "New Dwelling house /Apartment            1636\n",
       "Teach/Árasán Cónaithe Atháimhe              0\n",
       "Name: Description of Property, dtype: int64"
      ]
     },
     "execution_count": 181,
     "metadata": {},
     "output_type": "execute_result"
    }
   ],
   "source": [
    "df['Description of Property'].value_counts(dropna=False)"
   ]
  },
  {
   "cell_type": "code",
   "execution_count": 182,
   "id": "547b067b",
   "metadata": {},
   "outputs": [
    {
     "data": {
      "text/html": [
       "<div>\n",
       "<style scoped>\n",
       "    .dataframe tbody tr th:only-of-type {\n",
       "        vertical-align: middle;\n",
       "    }\n",
       "\n",
       "    .dataframe tbody tr th {\n",
       "        vertical-align: top;\n",
       "    }\n",
       "\n",
       "    .dataframe thead th {\n",
       "        text-align: right;\n",
       "    }\n",
       "</style>\n",
       "<table border=\"1\" class=\"dataframe\">\n",
       "  <thead>\n",
       "    <tr style=\"text-align: right;\">\n",
       "      <th></th>\n",
       "      <th>count</th>\n",
       "      <th>unique</th>\n",
       "      <th>top</th>\n",
       "      <th>freq</th>\n",
       "    </tr>\n",
       "  </thead>\n",
       "  <tbody>\n",
       "    <tr>\n",
       "      <th>Postal Code</th>\n",
       "      <td>1860</td>\n",
       "      <td>22</td>\n",
       "      <td>Dublin 15</td>\n",
       "      <td>232</td>\n",
       "    </tr>\n",
       "    <tr>\n",
       "      <th>County</th>\n",
       "      <td>10000</td>\n",
       "      <td>26</td>\n",
       "      <td>Dublin</td>\n",
       "      <td>3193</td>\n",
       "    </tr>\n",
       "    <tr>\n",
       "      <th>Not Full Market Price</th>\n",
       "      <td>10000</td>\n",
       "      <td>2</td>\n",
       "      <td>No</td>\n",
       "      <td>9552</td>\n",
       "    </tr>\n",
       "    <tr>\n",
       "      <th>VAT Exclusive</th>\n",
       "      <td>10000</td>\n",
       "      <td>2</td>\n",
       "      <td>No</td>\n",
       "      <td>8399</td>\n",
       "    </tr>\n",
       "    <tr>\n",
       "      <th>Description of Property</th>\n",
       "      <td>10000</td>\n",
       "      <td>2</td>\n",
       "      <td>Second-Hand Dwelling house /Apartment</td>\n",
       "      <td>8364</td>\n",
       "    </tr>\n",
       "  </tbody>\n",
       "</table>\n",
       "</div>"
      ],
      "text/plain": [
       "                         count unique                                    top  \\\n",
       "Postal Code               1860     22                              Dublin 15   \n",
       "County                   10000     26                                 Dublin   \n",
       "Not Full Market Price    10000      2                                     No   \n",
       "VAT Exclusive            10000      2                                     No   \n",
       "Description of Property  10000      2  Second-Hand Dwelling house /Apartment   \n",
       "\n",
       "                         freq  \n",
       "Postal Code               232  \n",
       "County                   3193  \n",
       "Not Full Market Price    9552  \n",
       "VAT Exclusive            8399  \n",
       "Description of Property  8364  "
      ]
     },
     "execution_count": 182,
     "metadata": {},
     "output_type": "execute_result"
    }
   ],
   "source": [
    "df[category_columns].describe().T"
   ]
  },
  {
   "cell_type": "code",
   "execution_count": 183,
   "id": "96a697cd",
   "metadata": {},
   "outputs": [
    {
     "data": {
      "text/plain": [
       "Index(['Price (€)'], dtype='object')"
      ]
     },
     "execution_count": 183,
     "metadata": {},
     "output_type": "execute_result"
    }
   ],
   "source": [
    "numeric_columns = df.select_dtypes(['float64']).columns\n",
    "numeric_columns"
   ]
  },
  {
   "cell_type": "markdown",
   "id": "1f8cd035",
   "metadata": {},
   "source": [
    "Summary stats for numeric data Price (€)"
   ]
  },
  {
   "cell_type": "code",
   "execution_count": 184,
   "id": "ec0f23af",
   "metadata": {},
   "outputs": [
    {
     "data": {
      "text/html": [
       "<div>\n",
       "<style scoped>\n",
       "    .dataframe tbody tr th:only-of-type {\n",
       "        vertical-align: middle;\n",
       "    }\n",
       "\n",
       "    .dataframe tbody tr th {\n",
       "        vertical-align: top;\n",
       "    }\n",
       "\n",
       "    .dataframe thead th {\n",
       "        text-align: right;\n",
       "    }\n",
       "</style>\n",
       "<table border=\"1\" class=\"dataframe\">\n",
       "  <thead>\n",
       "    <tr style=\"text-align: right;\">\n",
       "      <th></th>\n",
       "      <th>count</th>\n",
       "      <th>mean</th>\n",
       "      <th>std</th>\n",
       "      <th>min</th>\n",
       "      <th>25%</th>\n",
       "      <th>50%</th>\n",
       "      <th>75%</th>\n",
       "      <th>max</th>\n",
       "    </tr>\n",
       "  </thead>\n",
       "  <tbody>\n",
       "    <tr>\n",
       "      <th>Price (€)</th>\n",
       "      <td>10000.0</td>\n",
       "      <td>260260.702676</td>\n",
       "      <td>390170.322939</td>\n",
       "      <td>5500.0</td>\n",
       "      <td>120000.0</td>\n",
       "      <td>200000.0</td>\n",
       "      <td>308370.08</td>\n",
       "      <td>17151248.0</td>\n",
       "    </tr>\n",
       "  </tbody>\n",
       "</table>\n",
       "</div>"
      ],
      "text/plain": [
       "             count           mean            std     min       25%       50%  \\\n",
       "Price (€)  10000.0  260260.702676  390170.322939  5500.0  120000.0  200000.0   \n",
       "\n",
       "                 75%         max  \n",
       "Price (€)  308370.08  17151248.0  "
      ]
     },
     "execution_count": 184,
     "metadata": {},
     "output_type": "execute_result"
    }
   ],
   "source": [
    "df[numeric_columns].describe().T"
   ]
  },
  {
   "cell_type": "code",
   "execution_count": 198,
   "id": "ee663806",
   "metadata": {},
   "outputs": [
    {
     "data": {
      "text/html": [
       "<div>\n",
       "<style scoped>\n",
       "    .dataframe tbody tr th:only-of-type {\n",
       "        vertical-align: middle;\n",
       "    }\n",
       "\n",
       "    .dataframe tbody tr th {\n",
       "        vertical-align: top;\n",
       "    }\n",
       "\n",
       "    .dataframe thead th {\n",
       "        text-align: right;\n",
       "    }\n",
       "</style>\n",
       "<table border=\"1\" class=\"dataframe\">\n",
       "  <thead>\n",
       "    <tr style=\"text-align: right;\">\n",
       "      <th></th>\n",
       "      <th>card</th>\n",
       "    </tr>\n",
       "  </thead>\n",
       "  <tbody>\n",
       "    <tr>\n",
       "      <th>Price (€)</th>\n",
       "      <td>2285</td>\n",
       "    </tr>\n",
       "  </tbody>\n",
       "</table>\n",
       "</div>"
      ],
      "text/plain": [
       "           card\n",
       "Price (€)  2285"
      ]
     },
     "execution_count": 198,
     "metadata": {},
     "output_type": "execute_result"
    }
   ],
   "source": [
    "numeric_columns_card = df[numeric_columns].nunique()\n",
    "# store the values in a dataframe\n",
    "df_numeric_card = pd.DataFrame(numeric_columns_card, columns=['card'])\n",
    "df_numeric_card"
   ]
  },
  {
   "cell_type": "code",
   "execution_count": 185,
   "id": "7823054c",
   "metadata": {},
   "outputs": [
    {
     "data": {
      "text/plain": [
       "count                                     10000\n",
       "unique                                     9980\n",
       "top       13 CATHEDRAL WALK, BLACKPOOL, CO CORK\n",
       "freq                                          2\n",
       "Name: Address, dtype: object"
      ]
     },
     "execution_count": 185,
     "metadata": {},
     "output_type": "execute_result"
    }
   ],
   "source": [
    "df['Address'].describe()"
   ]
  },
  {
   "cell_type": "code",
   "execution_count": 186,
   "id": "3c7a0b01",
   "metadata": {},
   "outputs": [],
   "source": [
    "df.to_csv('updated-ppr-17350796.csv', index=False)"
   ]
  },
  {
   "cell_type": "code",
   "execution_count": 187,
   "id": "a0028c4f",
   "metadata": {},
   "outputs": [
    {
     "name": "stdout",
     "output_type": "stream",
     "text": [
      "\n",
      "Postal Code\n",
      "NaN          8140\n",
      "Dublin 15     232\n",
      "Dublin 18     143\n",
      "Dublin 9      119\n",
      "Dublin 8      115\n",
      "Dublin 24     114\n",
      "Dublin 4      109\n",
      "Dublin 12     104\n",
      "Dublin 16      96\n",
      "Dublin 11      93\n",
      "Dublin 7       88\n",
      "Dublin 13      85\n",
      "Dublin 14      84\n",
      "Dublin 3       82\n",
      "Dublin 5       78\n",
      "Dublin 1       77\n",
      "Dublin 6       66\n",
      "Dublin 22      54\n",
      "Dublin 2       34\n",
      "Dublin 20      25\n",
      "Dublin 17      24\n",
      "Dublin 10      20\n",
      "Dublin 6w      18\n",
      "Name: Postal Code, dtype: int64\n",
      "\n",
      "County\n",
      "Dublin       3193\n",
      "Cork         1099\n",
      "Galway        502\n",
      "Kildare       483\n",
      "Meath         399\n",
      "Wexford       363\n",
      "Limerick      348\n",
      "Wicklow       317\n",
      "Louth         288\n",
      "Kerry         285\n",
      "Tipperary     283\n",
      "Donegal       274\n",
      "Mayo          259\n",
      "Waterford     245\n",
      "Clare         240\n",
      "Westmeath     174\n",
      "Laois         163\n",
      "Cavan         153\n",
      "Sligo         148\n",
      "Roscommon     143\n",
      "Kilkenny      133\n",
      "Carlow        124\n",
      "Offaly        119\n",
      "Leitrim        99\n",
      "Longford       90\n",
      "Monaghan       76\n",
      "Name: County, dtype: int64\n",
      "\n",
      "Not Full Market Price\n",
      "No     9552\n",
      "Yes     448\n",
      "Name: Not Full Market Price, dtype: int64\n",
      "\n",
      "VAT Exclusive\n",
      "No     8399\n",
      "Yes    1601\n",
      "Name: VAT Exclusive, dtype: int64\n",
      "\n",
      "Description of Property\n",
      "Second-Hand Dwelling house /Apartment    8364\n",
      "New Dwelling house /Apartment            1636\n",
      "Teach/Árasán Cónaithe Atháimhe              0\n",
      "Name: Description of Property, dtype: int64\n"
     ]
    }
   ],
   "source": [
    "for column in category_columns:\n",
    "    print(\"\\n\" + column)\n",
    "    print(df[column].value_counts(dropna=False))"
   ]
  },
  {
   "cell_type": "code",
   "execution_count": 188,
   "id": "0dc2eec7",
   "metadata": {},
   "outputs": [
    {
     "name": "stdout",
     "output_type": "stream",
     "text": [
      "\n",
      "Postal Code\n",
      "NaN          0.8140\n",
      "Dublin 15    0.0232\n",
      "Dublin 18    0.0143\n",
      "Dublin 9     0.0119\n",
      "Dublin 8     0.0115\n",
      "Dublin 24    0.0114\n",
      "Dublin 4     0.0109\n",
      "Dublin 12    0.0104\n",
      "Dublin 16    0.0096\n",
      "Dublin 11    0.0093\n",
      "Dublin 7     0.0088\n",
      "Dublin 13    0.0085\n",
      "Dublin 14    0.0084\n",
      "Dublin 3     0.0082\n",
      "Dublin 5     0.0078\n",
      "Dublin 1     0.0077\n",
      "Dublin 6     0.0066\n",
      "Dublin 22    0.0054\n",
      "Dublin 2     0.0034\n",
      "Dublin 20    0.0025\n",
      "Dublin 17    0.0024\n",
      "Dublin 10    0.0020\n",
      "Dublin 6w    0.0018\n",
      "Name: Postal Code, dtype: float64\n",
      "\n",
      "County\n",
      "Dublin       0.3193\n",
      "Cork         0.1099\n",
      "Galway       0.0502\n",
      "Kildare      0.0483\n",
      "Meath        0.0399\n",
      "Wexford      0.0363\n",
      "Limerick     0.0348\n",
      "Wicklow      0.0317\n",
      "Louth        0.0288\n",
      "Kerry        0.0285\n",
      "Tipperary    0.0283\n",
      "Donegal      0.0274\n",
      "Mayo         0.0259\n",
      "Waterford    0.0245\n",
      "Clare        0.0240\n",
      "Westmeath    0.0174\n",
      "Laois        0.0163\n",
      "Cavan        0.0153\n",
      "Sligo        0.0148\n",
      "Roscommon    0.0143\n",
      "Kilkenny     0.0133\n",
      "Carlow       0.0124\n",
      "Offaly       0.0119\n",
      "Leitrim      0.0099\n",
      "Longford     0.0090\n",
      "Monaghan     0.0076\n",
      "Name: County, dtype: float64\n",
      "\n",
      "Not Full Market Price\n",
      "No     0.9552\n",
      "Yes    0.0448\n",
      "Name: Not Full Market Price, dtype: float64\n",
      "\n",
      "VAT Exclusive\n",
      "No     0.8399\n",
      "Yes    0.1601\n",
      "Name: VAT Exclusive, dtype: float64\n",
      "\n",
      "Description of Property\n",
      "Second-Hand Dwelling house /Apartment    0.8364\n",
      "New Dwelling house /Apartment            0.1636\n",
      "Teach/Árasán Cónaithe Atháimhe           0.0000\n",
      "Name: Description of Property, dtype: float64\n"
     ]
    }
   ],
   "source": [
    "for column in category_columns:\n",
    "    print(\"\\n\" + column)\n",
    "    print(df[column].value_counts(normalize=True, dropna=False))"
   ]
  },
  {
   "cell_type": "code",
   "execution_count": 189,
   "id": "5cc12483",
   "metadata": {},
   "outputs": [
    {
     "name": "stdout",
     "output_type": "stream",
     "text": [
      "\n",
      "Postal Code\n",
      "Dublin 15    0.124731\n",
      "Dublin 18    0.076882\n",
      "Dublin 9     0.063978\n",
      "Dublin 8     0.061828\n",
      "Dublin 24    0.061290\n",
      "Dublin 4     0.058602\n",
      "Dublin 12    0.055914\n",
      "Dublin 16    0.051613\n",
      "Dublin 11    0.050000\n",
      "Dublin 7     0.047312\n",
      "Dublin 13    0.045699\n",
      "Dublin 14    0.045161\n",
      "Dublin 3     0.044086\n",
      "Dublin 5     0.041935\n",
      "Dublin 1     0.041398\n",
      "Dublin 6     0.035484\n",
      "Dublin 22    0.029032\n",
      "Dublin 2     0.018280\n",
      "Dublin 20    0.013441\n",
      "Dublin 17    0.012903\n",
      "Dublin 10    0.010753\n",
      "Dublin 6w    0.009677\n",
      "Name: Postal Code, dtype: float64\n",
      "\n",
      "County\n",
      "Dublin       0.3193\n",
      "Cork         0.1099\n",
      "Galway       0.0502\n",
      "Kildare      0.0483\n",
      "Meath        0.0399\n",
      "Wexford      0.0363\n",
      "Limerick     0.0348\n",
      "Wicklow      0.0317\n",
      "Louth        0.0288\n",
      "Kerry        0.0285\n",
      "Tipperary    0.0283\n",
      "Donegal      0.0274\n",
      "Mayo         0.0259\n",
      "Waterford    0.0245\n",
      "Clare        0.0240\n",
      "Westmeath    0.0174\n",
      "Laois        0.0163\n",
      "Cavan        0.0153\n",
      "Sligo        0.0148\n",
      "Roscommon    0.0143\n",
      "Kilkenny     0.0133\n",
      "Carlow       0.0124\n",
      "Offaly       0.0119\n",
      "Leitrim      0.0099\n",
      "Longford     0.0090\n",
      "Monaghan     0.0076\n",
      "Name: County, dtype: float64\n",
      "\n",
      "Not Full Market Price\n",
      "No     0.9552\n",
      "Yes    0.0448\n",
      "Name: Not Full Market Price, dtype: float64\n",
      "\n",
      "VAT Exclusive\n",
      "No     0.8399\n",
      "Yes    0.1601\n",
      "Name: VAT Exclusive, dtype: float64\n",
      "\n",
      "Description of Property\n",
      "Second-Hand Dwelling house /Apartment    0.8364\n",
      "New Dwelling house /Apartment            0.1636\n",
      "Teach/Árasán Cónaithe Atháimhe           0.0000\n",
      "Name: Description of Property, dtype: float64\n"
     ]
    }
   ],
   "source": [
    "for column in category_columns:\n",
    "    print(\"\\n\" + column)\n",
    "    print(df[column].value_counts(normalize=True, dropna=True))"
   ]
  },
  {
   "cell_type": "code",
   "execution_count": 195,
   "id": "d3e598ae",
   "metadata": {},
   "outputs": [
    {
     "data": {
      "text/plain": [
       "0"
      ]
     },
     "execution_count": 195,
     "metadata": {},
     "output_type": "execute_result"
    }
   ],
   "source": [
    "df.duplicated().sum()"
   ]
  },
  {
   "cell_type": "code",
   "execution_count": 196,
   "id": "7fb9a3b7",
   "metadata": {},
   "outputs": [
    {
     "name": "stdout",
     "output_type": "stream",
     "text": [
      "Number of duplicate (excluding first) columns in the table is:  0\n",
      "Number of duplicate (including first) columns in the table is:  0\n"
     ]
    }
   ],
   "source": [
    "dfT = df.T\n",
    "print(\"Number of duplicate (excluding first) columns in the table is: \", dfT.duplicated().sum())\n",
    "print(\"Number of duplicate (including first) columns in the table is: \",  dfT[dfT.duplicated(keep=False)].shape[0])"
   ]
  },
  {
   "cell_type": "code",
   "execution_count": 200,
   "id": "3bcea7df",
   "metadata": {},
   "outputs": [
    {
     "data": {
      "text/html": [
       "<div>\n",
       "<style scoped>\n",
       "    .dataframe tbody tr th:only-of-type {\n",
       "        vertical-align: middle;\n",
       "    }\n",
       "\n",
       "    .dataframe tbody tr th {\n",
       "        vertical-align: top;\n",
       "    }\n",
       "\n",
       "    .dataframe thead th {\n",
       "        text-align: right;\n",
       "    }\n",
       "</style>\n",
       "<table border=\"1\" class=\"dataframe\">\n",
       "  <thead>\n",
       "    <tr style=\"text-align: right;\">\n",
       "      <th></th>\n",
       "      <th>count</th>\n",
       "      <th>unique</th>\n",
       "      <th>top</th>\n",
       "      <th>freq</th>\n",
       "    </tr>\n",
       "  </thead>\n",
       "  <tbody>\n",
       "    <tr>\n",
       "      <th>Postal Code</th>\n",
       "      <td>1860</td>\n",
       "      <td>22</td>\n",
       "      <td>Dublin 15</td>\n",
       "      <td>232</td>\n",
       "    </tr>\n",
       "    <tr>\n",
       "      <th>County</th>\n",
       "      <td>10000</td>\n",
       "      <td>26</td>\n",
       "      <td>Dublin</td>\n",
       "      <td>3193</td>\n",
       "    </tr>\n",
       "    <tr>\n",
       "      <th>Not Full Market Price</th>\n",
       "      <td>10000</td>\n",
       "      <td>2</td>\n",
       "      <td>No</td>\n",
       "      <td>9552</td>\n",
       "    </tr>\n",
       "    <tr>\n",
       "      <th>VAT Exclusive</th>\n",
       "      <td>10000</td>\n",
       "      <td>2</td>\n",
       "      <td>No</td>\n",
       "      <td>8399</td>\n",
       "    </tr>\n",
       "    <tr>\n",
       "      <th>Description of Property</th>\n",
       "      <td>10000</td>\n",
       "      <td>2</td>\n",
       "      <td>Second-Hand Dwelling house /Apartment</td>\n",
       "      <td>8364</td>\n",
       "    </tr>\n",
       "  </tbody>\n",
       "</table>\n",
       "</div>"
      ],
      "text/plain": [
       "                         count unique                                    top  \\\n",
       "Postal Code               1860     22                              Dublin 15   \n",
       "County                   10000     26                                 Dublin   \n",
       "Not Full Market Price    10000      2                                     No   \n",
       "VAT Exclusive            10000      2                                     No   \n",
       "Description of Property  10000      2  Second-Hand Dwelling house /Apartment   \n",
       "\n",
       "                         freq  \n",
       "Postal Code               232  \n",
       "County                   3193  \n",
       "Not Full Market Price    9552  \n",
       "VAT Exclusive            8399  \n",
       "Description of Property  8364  "
      ]
     },
     "execution_count": 200,
     "metadata": {},
     "output_type": "execute_result"
    }
   ],
   "source": [
    "df[category_columns].describe().T"
   ]
  },
  {
   "cell_type": "code",
   "execution_count": 203,
   "id": "3e7602ee",
   "metadata": {},
   "outputs": [
    {
     "data": {
      "text/html": [
       "<div>\n",
       "<style scoped>\n",
       "    .dataframe tbody tr th:only-of-type {\n",
       "        vertical-align: middle;\n",
       "    }\n",
       "\n",
       "    .dataframe tbody tr th {\n",
       "        vertical-align: top;\n",
       "    }\n",
       "\n",
       "    .dataframe thead th {\n",
       "        text-align: right;\n",
       "    }\n",
       "</style>\n",
       "<table border=\"1\" class=\"dataframe\">\n",
       "  <thead>\n",
       "    <tr style=\"text-align: right;\">\n",
       "      <th></th>\n",
       "      <th>mode</th>\n",
       "      <th>freq_mode</th>\n",
       "      <th>%mode</th>\n",
       "      <th>2ndmode</th>\n",
       "      <th>freq_2ndmode</th>\n",
       "      <th>%2ndmode</th>\n",
       "    </tr>\n",
       "  </thead>\n",
       "  <tbody>\n",
       "    <tr>\n",
       "      <th>Postal Code</th>\n",
       "      <td>NaN</td>\n",
       "      <td>NaN</td>\n",
       "      <td>NaN</td>\n",
       "      <td>NaN</td>\n",
       "      <td>NaN</td>\n",
       "      <td>NaN</td>\n",
       "    </tr>\n",
       "    <tr>\n",
       "      <th>County</th>\n",
       "      <td>NaN</td>\n",
       "      <td>NaN</td>\n",
       "      <td>NaN</td>\n",
       "      <td>NaN</td>\n",
       "      <td>NaN</td>\n",
       "      <td>NaN</td>\n",
       "    </tr>\n",
       "    <tr>\n",
       "      <th>Not Full Market Price</th>\n",
       "      <td>NaN</td>\n",
       "      <td>NaN</td>\n",
       "      <td>NaN</td>\n",
       "      <td>NaN</td>\n",
       "      <td>NaN</td>\n",
       "      <td>NaN</td>\n",
       "    </tr>\n",
       "    <tr>\n",
       "      <th>VAT Exclusive</th>\n",
       "      <td>NaN</td>\n",
       "      <td>NaN</td>\n",
       "      <td>NaN</td>\n",
       "      <td>NaN</td>\n",
       "      <td>NaN</td>\n",
       "      <td>NaN</td>\n",
       "    </tr>\n",
       "    <tr>\n",
       "      <th>Description of Property</th>\n",
       "      <td>NaN</td>\n",
       "      <td>NaN</td>\n",
       "      <td>NaN</td>\n",
       "      <td>NaN</td>\n",
       "      <td>NaN</td>\n",
       "      <td>NaN</td>\n",
       "    </tr>\n",
       "  </tbody>\n",
       "</table>\n",
       "</div>"
      ],
      "text/plain": [
       "                        mode freq_mode %mode 2ndmode freq_2ndmode %2ndmode\n",
       "Postal Code              NaN       NaN   NaN     NaN          NaN      NaN\n",
       "County                   NaN       NaN   NaN     NaN          NaN      NaN\n",
       "Not Full Market Price    NaN       NaN   NaN     NaN          NaN      NaN\n",
       "VAT Exclusive            NaN       NaN   NaN     NaN          NaN      NaN\n",
       "Description of Property  NaN       NaN   NaN     NaN          NaN      NaN"
      ]
     },
     "execution_count": 203,
     "metadata": {},
     "output_type": "execute_result"
    }
   ],
   "source": [
    "df_category_mode = pd.DataFrame(index = df[category_columns].describe().T.index, columns=['mode', 'freq_mode','%mode', '2ndmode', 'freq_2ndmode','%2ndmode'])\n",
    "df_category_mode"
   ]
  },
  {
   "cell_type": "code",
   "execution_count": 204,
   "id": "f1dad77c",
   "metadata": {},
   "outputs": [
    {
     "name": "stdout",
     "output_type": "stream",
     "text": [
      "\n",
      "Postal Code\n",
      "Dublin 15    232\n",
      "Dublin 18    143\n",
      "Dublin 9     119\n",
      "Dublin 8     115\n",
      "Dublin 24    114\n",
      "Dublin 4     109\n",
      "Dublin 12    104\n",
      "Dublin 16     96\n",
      "Dublin 11     93\n",
      "Dublin 7      88\n",
      "Dublin 13     85\n",
      "Dublin 14     84\n",
      "Dublin 3      82\n",
      "Dublin 5      78\n",
      "Dublin 1      77\n",
      "Dublin 6      66\n",
      "Dublin 22     54\n",
      "Dublin 2      34\n",
      "Dublin 20     25\n",
      "Dublin 17     24\n",
      "Dublin 10     20\n",
      "Dublin 6w     18\n",
      "Name: Postal Code, dtype: int64\n",
      "CategoricalIndex(['Dublin 15', 'Dublin 18', 'Dublin 9', 'Dublin 8',\n",
      "                  'Dublin 24', 'Dublin 4', 'Dublin 12', 'Dublin 16',\n",
      "                  'Dublin 11', 'Dublin 7', 'Dublin 13', 'Dublin 14',\n",
      "                  'Dublin 3', 'Dublin 5', 'Dublin 1', 'Dublin 6', 'Dublin 22',\n",
      "                  'Dublin 2', 'Dublin 20', 'Dublin 17', 'Dublin 10',\n",
      "                  'Dublin 6w'],\n",
      "                 categories=['Dublin 1', 'Dublin 10', 'Dublin 11', 'Dublin 12', 'Dublin 13', 'Dublin 14', 'Dublin 15', 'Dublin 16', ...], ordered=False, dtype='category')\n",
      "\n",
      "County\n",
      "Dublin       3193\n",
      "Cork         1099\n",
      "Galway        502\n",
      "Kildare       483\n",
      "Meath         399\n",
      "Wexford       363\n",
      "Limerick      348\n",
      "Wicklow       317\n",
      "Louth         288\n",
      "Kerry         285\n",
      "Tipperary     283\n",
      "Donegal       274\n",
      "Mayo          259\n",
      "Waterford     245\n",
      "Clare         240\n",
      "Westmeath     174\n",
      "Laois         163\n",
      "Cavan         153\n",
      "Sligo         148\n",
      "Roscommon     143\n",
      "Kilkenny      133\n",
      "Carlow        124\n",
      "Offaly        119\n",
      "Leitrim        99\n",
      "Longford       90\n",
      "Monaghan       76\n",
      "Name: County, dtype: int64\n",
      "CategoricalIndex(['Dublin', 'Cork', 'Galway', 'Kildare', 'Meath', 'Wexford',\n",
      "                  'Limerick', 'Wicklow', 'Louth', 'Kerry', 'Tipperary',\n",
      "                  'Donegal', 'Mayo', 'Waterford', 'Clare', 'Westmeath',\n",
      "                  'Laois', 'Cavan', 'Sligo', 'Roscommon', 'Kilkenny', 'Carlow',\n",
      "                  'Offaly', 'Leitrim', 'Longford', 'Monaghan'],\n",
      "                 categories=['Carlow', 'Cavan', 'Clare', 'Cork', 'Donegal', 'Dublin', 'Galway', 'Kerry', ...], ordered=False, dtype='category')\n",
      "\n",
      "Not Full Market Price\n",
      "No     9552\n",
      "Yes     448\n",
      "Name: Not Full Market Price, dtype: int64\n",
      "CategoricalIndex(['No', 'Yes'], categories=['No', 'Yes'], ordered=False, dtype='category')\n",
      "\n",
      "VAT Exclusive\n",
      "No     8399\n",
      "Yes    1601\n",
      "Name: VAT Exclusive, dtype: int64\n",
      "CategoricalIndex(['No', 'Yes'], categories=['No', 'Yes'], ordered=False, dtype='category')\n",
      "\n",
      "Description of Property\n",
      "Second-Hand Dwelling house /Apartment    8364\n",
      "New Dwelling house /Apartment            1636\n",
      "Teach/Árasán Cónaithe Atháimhe              0\n",
      "Name: Description of Property, dtype: int64\n",
      "CategoricalIndex(['Second-Hand Dwelling house /Apartment',\n",
      "                  'New Dwelling house /Apartment',\n",
      "                  'Teach/Árasán Cónaithe Atháimhe'],\n",
      "                 categories=['New Dwelling house /Apartment', 'Second-Hand Dwelling house /Apartment', 'Teach/Árasán Cónaithe Atháimhe'], ordered=False, dtype='category')\n"
     ]
    }
   ],
   "source": [
    "for column in category_columns:\n",
    "    print(\"\\n\" + column)\n",
    "    print(df[column].value_counts())\n",
    "    print(df[column].value_counts().keys())\n",
    "    \n",
    "    df_category_mode.loc[column]['mode'] = df[column].value_counts().keys()[0]\n",
    "    df_category_mode.loc[column]['freq_mode'] = df[column].value_counts()[df_category_mode.loc[column]['mode']]\n",
    "    df_category_mode.loc[column]['%mode'] = df[column].value_counts(normalize=True)[df_category_mode.loc[column]['mode']]\n",
    " \n",
    "\n",
    "    if df[column].value_counts().size > 1:\n",
    "        df_category_mode.loc[column]['2ndmode'] = df[column].value_counts().keys()[1]\n",
    "        df_category_mode.loc[column]['freq_2ndmode'] = df[column].value_counts()[df_category_mode.loc[column]['2ndmode']]\n",
    "        df_category_mode.loc[column]['%2ndmode'] = df[column].value_counts(normalize=True)[df_category_mode.loc[column]['2ndmode']]\n",
    "    else: df_category_mode.loc[column] = '-'"
   ]
  },
  {
   "cell_type": "code",
   "execution_count": 205,
   "id": "04f13e32",
   "metadata": {},
   "outputs": [
    {
     "data": {
      "text/html": [
       "<div>\n",
       "<style scoped>\n",
       "    .dataframe tbody tr th:only-of-type {\n",
       "        vertical-align: middle;\n",
       "    }\n",
       "\n",
       "    .dataframe tbody tr th {\n",
       "        vertical-align: top;\n",
       "    }\n",
       "\n",
       "    .dataframe thead th {\n",
       "        text-align: right;\n",
       "    }\n",
       "</style>\n",
       "<table border=\"1\" class=\"dataframe\">\n",
       "  <thead>\n",
       "    <tr style=\"text-align: right;\">\n",
       "      <th></th>\n",
       "      <th>mode</th>\n",
       "      <th>freq_mode</th>\n",
       "      <th>%mode</th>\n",
       "      <th>2ndmode</th>\n",
       "      <th>freq_2ndmode</th>\n",
       "      <th>%2ndmode</th>\n",
       "    </tr>\n",
       "  </thead>\n",
       "  <tbody>\n",
       "    <tr>\n",
       "      <th>Postal Code</th>\n",
       "      <td>Dublin 15</td>\n",
       "      <td>232</td>\n",
       "      <td>0.124731</td>\n",
       "      <td>Dublin 18</td>\n",
       "      <td>143</td>\n",
       "      <td>0.076882</td>\n",
       "    </tr>\n",
       "    <tr>\n",
       "      <th>County</th>\n",
       "      <td>Dublin</td>\n",
       "      <td>3193</td>\n",
       "      <td>0.3193</td>\n",
       "      <td>Cork</td>\n",
       "      <td>1099</td>\n",
       "      <td>0.1099</td>\n",
       "    </tr>\n",
       "    <tr>\n",
       "      <th>Not Full Market Price</th>\n",
       "      <td>No</td>\n",
       "      <td>9552</td>\n",
       "      <td>0.9552</td>\n",
       "      <td>Yes</td>\n",
       "      <td>448</td>\n",
       "      <td>0.0448</td>\n",
       "    </tr>\n",
       "    <tr>\n",
       "      <th>VAT Exclusive</th>\n",
       "      <td>No</td>\n",
       "      <td>8399</td>\n",
       "      <td>0.8399</td>\n",
       "      <td>Yes</td>\n",
       "      <td>1601</td>\n",
       "      <td>0.1601</td>\n",
       "    </tr>\n",
       "    <tr>\n",
       "      <th>Description of Property</th>\n",
       "      <td>Second-Hand Dwelling house /Apartment</td>\n",
       "      <td>8364</td>\n",
       "      <td>0.8364</td>\n",
       "      <td>New Dwelling house /Apartment</td>\n",
       "      <td>1636</td>\n",
       "      <td>0.1636</td>\n",
       "    </tr>\n",
       "  </tbody>\n",
       "</table>\n",
       "</div>"
      ],
      "text/plain": [
       "                                                          mode freq_mode  \\\n",
       "Postal Code                                          Dublin 15       232   \n",
       "County                                                  Dublin      3193   \n",
       "Not Full Market Price                                       No      9552   \n",
       "VAT Exclusive                                               No      8399   \n",
       "Description of Property  Second-Hand Dwelling house /Apartment      8364   \n",
       "\n",
       "                            %mode                        2ndmode freq_2ndmode  \\\n",
       "Postal Code              0.124731                      Dublin 18          143   \n",
       "County                     0.3193                           Cork         1099   \n",
       "Not Full Market Price      0.9552                            Yes          448   \n",
       "VAT Exclusive              0.8399                            Yes         1601   \n",
       "Description of Property    0.8364  New Dwelling house /Apartment         1636   \n",
       "\n",
       "                         %2ndmode  \n",
       "Postal Code              0.076882  \n",
       "County                     0.1099  \n",
       "Not Full Market Price      0.0448  \n",
       "VAT Exclusive              0.1601  \n",
       "Description of Property    0.1636  "
      ]
     },
     "execution_count": 205,
     "metadata": {},
     "output_type": "execute_result"
    }
   ],
   "source": [
    "df_category_mode"
   ]
  },
  {
   "cell_type": "code",
   "execution_count": 206,
   "id": "f2c819dc",
   "metadata": {},
   "outputs": [
    {
     "data": {
      "text/html": [
       "<div>\n",
       "<style scoped>\n",
       "    .dataframe tbody tr th:only-of-type {\n",
       "        vertical-align: middle;\n",
       "    }\n",
       "\n",
       "    .dataframe tbody tr th {\n",
       "        vertical-align: top;\n",
       "    }\n",
       "\n",
       "    .dataframe thead th {\n",
       "        text-align: right;\n",
       "    }\n",
       "</style>\n",
       "<table border=\"1\" class=\"dataframe\">\n",
       "  <thead>\n",
       "    <tr style=\"text-align: right;\">\n",
       "      <th></th>\n",
       "      <th>%missing</th>\n",
       "    </tr>\n",
       "  </thead>\n",
       "  <tbody>\n",
       "    <tr>\n",
       "      <th>Postal Code</th>\n",
       "      <td>81.4</td>\n",
       "    </tr>\n",
       "    <tr>\n",
       "      <th>County</th>\n",
       "      <td>0.0</td>\n",
       "    </tr>\n",
       "    <tr>\n",
       "      <th>Not Full Market Price</th>\n",
       "      <td>0.0</td>\n",
       "    </tr>\n",
       "    <tr>\n",
       "      <th>VAT Exclusive</th>\n",
       "      <td>0.0</td>\n",
       "    </tr>\n",
       "    <tr>\n",
       "      <th>Description of Property</th>\n",
       "      <td>0.0</td>\n",
       "    </tr>\n",
       "  </tbody>\n",
       "</table>\n",
       "</div>"
      ],
      "text/plain": [
       "                         %missing\n",
       "Postal Code                  81.4\n",
       "County                        0.0\n",
       "Not Full Market Price         0.0\n",
       "VAT Exclusive                 0.0\n",
       "Description of Property       0.0"
      ]
     },
     "execution_count": 206,
     "metadata": {},
     "output_type": "execute_result"
    }
   ],
   "source": [
    "# Prepare %missing column\n",
    "category_columns_perc_missing  = 100 * (df[category_columns].isnull().sum()/df.shape[0])\n",
    "#category_columns_perc_missing\n",
    "\n",
    "# Store the values in a dataframe\n",
    "df_category_perc_missing = pd.DataFrame(category_columns_perc_missing, columns=['%missing'])\n",
    "df_category_perc_missing"
   ]
  },
  {
   "cell_type": "code",
   "execution_count": 208,
   "id": "433779ce",
   "metadata": {},
   "outputs": [
    {
     "data": {
      "text/html": [
       "<div>\n",
       "<style scoped>\n",
       "    .dataframe tbody tr th:only-of-type {\n",
       "        vertical-align: middle;\n",
       "    }\n",
       "\n",
       "    .dataframe tbody tr th {\n",
       "        vertical-align: top;\n",
       "    }\n",
       "\n",
       "    .dataframe thead th {\n",
       "        text-align: right;\n",
       "    }\n",
       "</style>\n",
       "<table border=\"1\" class=\"dataframe\">\n",
       "  <thead>\n",
       "    <tr style=\"text-align: right;\">\n",
       "      <th></th>\n",
       "      <th>count</th>\n",
       "      <th>unique</th>\n",
       "      <th>top</th>\n",
       "      <th>freq</th>\n",
       "      <th>mode</th>\n",
       "      <th>freq_mode</th>\n",
       "      <th>%mode</th>\n",
       "      <th>2ndmode</th>\n",
       "      <th>freq_2ndmode</th>\n",
       "      <th>%2ndmode</th>\n",
       "      <th>%missing</th>\n",
       "    </tr>\n",
       "  </thead>\n",
       "  <tbody>\n",
       "    <tr>\n",
       "      <th>Postal Code</th>\n",
       "      <td>1860</td>\n",
       "      <td>22</td>\n",
       "      <td>Dublin 15</td>\n",
       "      <td>232</td>\n",
       "      <td>Dublin 15</td>\n",
       "      <td>232</td>\n",
       "      <td>0.124731</td>\n",
       "      <td>Dublin 18</td>\n",
       "      <td>143</td>\n",
       "      <td>0.076882</td>\n",
       "      <td>81.4</td>\n",
       "    </tr>\n",
       "    <tr>\n",
       "      <th>County</th>\n",
       "      <td>10000</td>\n",
       "      <td>26</td>\n",
       "      <td>Dublin</td>\n",
       "      <td>3193</td>\n",
       "      <td>Dublin</td>\n",
       "      <td>3193</td>\n",
       "      <td>0.3193</td>\n",
       "      <td>Cork</td>\n",
       "      <td>1099</td>\n",
       "      <td>0.1099</td>\n",
       "      <td>0.0</td>\n",
       "    </tr>\n",
       "    <tr>\n",
       "      <th>Not Full Market Price</th>\n",
       "      <td>10000</td>\n",
       "      <td>2</td>\n",
       "      <td>No</td>\n",
       "      <td>9552</td>\n",
       "      <td>No</td>\n",
       "      <td>9552</td>\n",
       "      <td>0.9552</td>\n",
       "      <td>Yes</td>\n",
       "      <td>448</td>\n",
       "      <td>0.0448</td>\n",
       "      <td>0.0</td>\n",
       "    </tr>\n",
       "    <tr>\n",
       "      <th>VAT Exclusive</th>\n",
       "      <td>10000</td>\n",
       "      <td>2</td>\n",
       "      <td>No</td>\n",
       "      <td>8399</td>\n",
       "      <td>No</td>\n",
       "      <td>8399</td>\n",
       "      <td>0.8399</td>\n",
       "      <td>Yes</td>\n",
       "      <td>1601</td>\n",
       "      <td>0.1601</td>\n",
       "      <td>0.0</td>\n",
       "    </tr>\n",
       "    <tr>\n",
       "      <th>Description of Property</th>\n",
       "      <td>10000</td>\n",
       "      <td>2</td>\n",
       "      <td>Second-Hand Dwelling house /Apartment</td>\n",
       "      <td>8364</td>\n",
       "      <td>Second-Hand Dwelling house /Apartment</td>\n",
       "      <td>8364</td>\n",
       "      <td>0.8364</td>\n",
       "      <td>New Dwelling house /Apartment</td>\n",
       "      <td>1636</td>\n",
       "      <td>0.1636</td>\n",
       "      <td>0.0</td>\n",
       "    </tr>\n",
       "  </tbody>\n",
       "</table>\n",
       "</div>"
      ],
      "text/plain": [
       "                         count unique                                    top  \\\n",
       "Postal Code               1860     22                              Dublin 15   \n",
       "County                   10000     26                                 Dublin   \n",
       "Not Full Market Price    10000      2                                     No   \n",
       "VAT Exclusive            10000      2                                     No   \n",
       "Description of Property  10000      2  Second-Hand Dwelling house /Apartment   \n",
       "\n",
       "                         freq                                   mode  \\\n",
       "Postal Code               232                              Dublin 15   \n",
       "County                   3193                                 Dublin   \n",
       "Not Full Market Price    9552                                     No   \n",
       "VAT Exclusive            8399                                     No   \n",
       "Description of Property  8364  Second-Hand Dwelling house /Apartment   \n",
       "\n",
       "                        freq_mode     %mode                        2ndmode  \\\n",
       "Postal Code                   232  0.124731                      Dublin 18   \n",
       "County                       3193    0.3193                           Cork   \n",
       "Not Full Market Price        9552    0.9552                            Yes   \n",
       "VAT Exclusive                8399    0.8399                            Yes   \n",
       "Description of Property      8364    0.8364  New Dwelling house /Apartment   \n",
       "\n",
       "                        freq_2ndmode  %2ndmode  %missing  \n",
       "Postal Code                      143  0.076882      81.4  \n",
       "County                          1099    0.1099       0.0  \n",
       "Not Full Market Price            448    0.0448       0.0  \n",
       "VAT Exclusive                   1601    0.1601       0.0  \n",
       "Description of Property         1636    0.1636       0.0  "
      ]
     },
     "execution_count": 208,
     "metadata": {},
     "output_type": "execute_result"
    }
   ],
   "source": [
    "# Put the columns together to prepare the final table \n",
    "df_category_columns_data_quality_report_table = pd.concat([df[category_columns].describe().T, df_category_mode, df_category_perc_missing], axis=1)\n",
    "\n",
    "df_category_columns_data_quality_report_table"
   ]
  },
  {
   "cell_type": "markdown",
   "id": "5dfca914",
   "metadata": {},
   "source": [
    "# Visualisation- Data Quality Report"
   ]
  },
  {
   "cell_type": "code",
   "execution_count": null,
   "id": "f1c093dc",
   "metadata": {},
   "outputs": [],
   "source": []
  }
 ],
 "metadata": {
  "kernelspec": {
   "display_name": "Python 3",
   "language": "python",
   "name": "python3"
  },
  "language_info": {
   "codemirror_mode": {
    "name": "ipython",
    "version": 3
   },
   "file_extension": ".py",
   "mimetype": "text/x-python",
   "name": "python",
   "nbconvert_exporter": "python",
   "pygments_lexer": "ipython3",
   "version": "3.8.8"
  }
 },
 "nbformat": 4,
 "nbformat_minor": 5
}
