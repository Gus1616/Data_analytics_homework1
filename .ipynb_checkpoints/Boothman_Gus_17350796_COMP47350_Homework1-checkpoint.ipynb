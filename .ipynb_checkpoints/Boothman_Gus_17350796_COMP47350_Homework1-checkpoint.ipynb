{
 "cells": [
  {
   "cell_type": "markdown",
   "id": "bdcf1879",
   "metadata": {},
   "source": [
    "# HomeWork 1- 17350796"
   ]
  },
  {
   "cell_type": "markdown",
   "id": "cb3d5d01",
   "metadata": {},
   "source": [
    "It includes Date of Sale, Price and Address of all residential properties purchased in Ireland since the 1st January 2010, \n",
    "as declared to the Revenue Commissioners for stamp duty purposes\n",
    "csv file = ppr-17350796.csv"
   ]
  },
  {
   "cell_type": "markdown",
   "id": "c026a4f3",
   "metadata": {},
   "source": [
    "## Part 1: Preparing the data from CSV\n",
    "\n"
   ]
  },
  {
   "cell_type": "code",
   "execution_count": 1,
   "id": "116bb473",
   "metadata": {},
   "outputs": [],
   "source": [
    "import pandas as pd\n",
    "\n",
    "from pandas.plotting import table\n",
    "# import dataframe_image as dfi\n",
    "\n",
    "import numpy as np\n",
    "from numpy import array\n",
    "\n",
    "import matplotlib.pyplot as plt\n",
    "\n",
    "%matplotlib inline\n",
    "\n",
    "from matplotlib.backends.backend_pdf import PdfPages"
   ]
  },
  {
   "cell_type": "markdown",
   "id": "ff6dde25",
   "metadata": {},
   "source": [
    "Reading in the data and displaying the first 5 rows:\n"
   ]
  },
  {
   "cell_type": "code",
   "execution_count": 2,
   "id": "284f783d",
   "metadata": {
    "scrolled": true
   },
   "outputs": [],
   "source": [
    "df = pd.read_csv('ppr-17350796.csv', keep_default_na=True, sep=',\\s+', delimiter=',', skipinitialspace=True)\n"
   ]
  },
  {
   "cell_type": "markdown",
   "id": "6ca197e8",
   "metadata": {},
   "source": [
    "## First 5 rows"
   ]
  },
  {
   "cell_type": "code",
   "execution_count": 3,
   "id": "7bcc4537",
   "metadata": {},
   "outputs": [
    {
     "data": {
      "text/html": [
       "<div>\n",
       "<style scoped>\n",
       "    .dataframe tbody tr th:only-of-type {\n",
       "        vertical-align: middle;\n",
       "    }\n",
       "\n",
       "    .dataframe tbody tr th {\n",
       "        vertical-align: top;\n",
       "    }\n",
       "\n",
       "    .dataframe thead th {\n",
       "        text-align: right;\n",
       "    }\n",
       "</style>\n",
       "<table border=\"1\" class=\"dataframe\">\n",
       "  <thead>\n",
       "    <tr style=\"text-align: right;\">\n",
       "      <th></th>\n",
       "      <th>Date of Sale (dd/mm/yyyy)</th>\n",
       "      <th>Address</th>\n",
       "      <th>Postal Code</th>\n",
       "      <th>County</th>\n",
       "      <th>Price (€)</th>\n",
       "      <th>Not Full Market Price</th>\n",
       "      <th>VAT Exclusive</th>\n",
       "      <th>Description of Property</th>\n",
       "      <th>Property Size Description</th>\n",
       "    </tr>\n",
       "  </thead>\n",
       "  <tbody>\n",
       "    <tr>\n",
       "      <th>0</th>\n",
       "      <td>06/05/2016</td>\n",
       "      <td>21 CURZON ST, PORTOBELLO, DUBLIN 8</td>\n",
       "      <td>Dublin 8</td>\n",
       "      <td>Dublin</td>\n",
       "      <td>€630,000.00</td>\n",
       "      <td>No</td>\n",
       "      <td>No</td>\n",
       "      <td>Second-Hand Dwelling house /Apartment</td>\n",
       "      <td>NaN</td>\n",
       "    </tr>\n",
       "    <tr>\n",
       "      <th>1</th>\n",
       "      <td>22/12/2014</td>\n",
       "      <td>44 ROTHE ABBEY, KILMAINHAM, DUBLIN 8</td>\n",
       "      <td>Dublin 8</td>\n",
       "      <td>Dublin</td>\n",
       "      <td>€281,000.00</td>\n",
       "      <td>No</td>\n",
       "      <td>No</td>\n",
       "      <td>Second-Hand Dwelling house /Apartment</td>\n",
       "      <td>NaN</td>\n",
       "    </tr>\n",
       "    <tr>\n",
       "      <th>2</th>\n",
       "      <td>22/05/2020</td>\n",
       "      <td>17 MERRION PARK, BLACKROCK, DUBLIN</td>\n",
       "      <td>NaN</td>\n",
       "      <td>Dublin</td>\n",
       "      <td>€560,000.00</td>\n",
       "      <td>No</td>\n",
       "      <td>No</td>\n",
       "      <td>Second-Hand Dwelling house /Apartment</td>\n",
       "      <td>NaN</td>\n",
       "    </tr>\n",
       "    <tr>\n",
       "      <th>3</th>\n",
       "      <td>27/11/2014</td>\n",
       "      <td>KNOCKROE, RATHMOYLE, CO.KILKENNY</td>\n",
       "      <td>NaN</td>\n",
       "      <td>Kilkenny</td>\n",
       "      <td>€46,000.00</td>\n",
       "      <td>No</td>\n",
       "      <td>No</td>\n",
       "      <td>Second-Hand Dwelling house /Apartment</td>\n",
       "      <td>NaN</td>\n",
       "    </tr>\n",
       "    <tr>\n",
       "      <th>4</th>\n",
       "      <td>22/11/2018</td>\n",
       "      <td>15 SHANNON PARK, LIFFORD RD, ENNIS</td>\n",
       "      <td>NaN</td>\n",
       "      <td>Clare</td>\n",
       "      <td>€204,000.00</td>\n",
       "      <td>No</td>\n",
       "      <td>No</td>\n",
       "      <td>Second-Hand Dwelling house /Apartment</td>\n",
       "      <td>NaN</td>\n",
       "    </tr>\n",
       "  </tbody>\n",
       "</table>\n",
       "</div>"
      ],
      "text/plain": [
       "  Date of Sale (dd/mm/yyyy)                               Address Postal Code  \\\n",
       "0                06/05/2016    21 CURZON ST, PORTOBELLO, DUBLIN 8    Dublin 8   \n",
       "1                22/12/2014  44 ROTHE ABBEY, KILMAINHAM, DUBLIN 8    Dublin 8   \n",
       "2                22/05/2020    17 MERRION PARK, BLACKROCK, DUBLIN         NaN   \n",
       "3                27/11/2014      KNOCKROE, RATHMOYLE, CO.KILKENNY         NaN   \n",
       "4                22/11/2018    15 SHANNON PARK, LIFFORD RD, ENNIS         NaN   \n",
       "\n",
       "     County    Price (€) Not Full Market Price VAT Exclusive  \\\n",
       "0    Dublin  €630,000.00                    No            No   \n",
       "1    Dublin  €281,000.00                    No            No   \n",
       "2    Dublin  €560,000.00                    No            No   \n",
       "3  Kilkenny   €46,000.00                    No            No   \n",
       "4     Clare  €204,000.00                    No            No   \n",
       "\n",
       "                 Description of Property Property Size Description  \n",
       "0  Second-Hand Dwelling house /Apartment                       NaN  \n",
       "1  Second-Hand Dwelling house /Apartment                       NaN  \n",
       "2  Second-Hand Dwelling house /Apartment                       NaN  \n",
       "3  Second-Hand Dwelling house /Apartment                       NaN  \n",
       "4  Second-Hand Dwelling house /Apartment                       NaN  "
      ]
     },
     "execution_count": 3,
     "metadata": {},
     "output_type": "execute_result"
    }
   ],
   "source": [
    "df.head(5)"
   ]
  },
  {
   "cell_type": "markdown",
   "id": "573ef6fa",
   "metadata": {},
   "source": [
    "## Last 5 rows"
   ]
  },
  {
   "cell_type": "markdown",
   "id": "040f20f1",
   "metadata": {},
   "source": [
    "Displaying the last 5 rows"
   ]
  },
  {
   "cell_type": "code",
   "execution_count": 4,
   "id": "4ec2c4cd",
   "metadata": {},
   "outputs": [
    {
     "data": {
      "text/html": [
       "<div>\n",
       "<style scoped>\n",
       "    .dataframe tbody tr th:only-of-type {\n",
       "        vertical-align: middle;\n",
       "    }\n",
       "\n",
       "    .dataframe tbody tr th {\n",
       "        vertical-align: top;\n",
       "    }\n",
       "\n",
       "    .dataframe thead th {\n",
       "        text-align: right;\n",
       "    }\n",
       "</style>\n",
       "<table border=\"1\" class=\"dataframe\">\n",
       "  <thead>\n",
       "    <tr style=\"text-align: right;\">\n",
       "      <th></th>\n",
       "      <th>Date of Sale (dd/mm/yyyy)</th>\n",
       "      <th>Address</th>\n",
       "      <th>Postal Code</th>\n",
       "      <th>County</th>\n",
       "      <th>Price (€)</th>\n",
       "      <th>Not Full Market Price</th>\n",
       "      <th>VAT Exclusive</th>\n",
       "      <th>Description of Property</th>\n",
       "      <th>Property Size Description</th>\n",
       "    </tr>\n",
       "  </thead>\n",
       "  <tbody>\n",
       "    <tr>\n",
       "      <th>9995</th>\n",
       "      <td>15/12/2017</td>\n",
       "      <td>KNOCKASARTNETT, KILLARNEY, KERRY</td>\n",
       "      <td>NaN</td>\n",
       "      <td>Kerry</td>\n",
       "      <td>€200,000.00</td>\n",
       "      <td>No</td>\n",
       "      <td>No</td>\n",
       "      <td>Second-Hand Dwelling house /Apartment</td>\n",
       "      <td>NaN</td>\n",
       "    </tr>\n",
       "    <tr>\n",
       "      <th>9996</th>\n",
       "      <td>18/12/2012</td>\n",
       "      <td>17 the court, cypress downs, templeogue</td>\n",
       "      <td>NaN</td>\n",
       "      <td>Dublin</td>\n",
       "      <td>€605,000.00</td>\n",
       "      <td>No</td>\n",
       "      <td>No</td>\n",
       "      <td>Second-Hand Dwelling house /Apartment</td>\n",
       "      <td>NaN</td>\n",
       "    </tr>\n",
       "    <tr>\n",
       "      <th>9997</th>\n",
       "      <td>14/12/2016</td>\n",
       "      <td>THE LOG CABIN, FORGE COTTAGE, CULLENSTOWN</td>\n",
       "      <td>NaN</td>\n",
       "      <td>Wexford</td>\n",
       "      <td>€46,666.67</td>\n",
       "      <td>No</td>\n",
       "      <td>No</td>\n",
       "      <td>Second-Hand Dwelling house /Apartment</td>\n",
       "      <td>NaN</td>\n",
       "    </tr>\n",
       "    <tr>\n",
       "      <th>9998</th>\n",
       "      <td>19/06/2017</td>\n",
       "      <td>CARRIG RD, PARKMORE, ROSCREA</td>\n",
       "      <td>NaN</td>\n",
       "      <td>Tipperary</td>\n",
       "      <td>€176,000.00</td>\n",
       "      <td>No</td>\n",
       "      <td>No</td>\n",
       "      <td>Second-Hand Dwelling house /Apartment</td>\n",
       "      <td>NaN</td>\n",
       "    </tr>\n",
       "    <tr>\n",
       "      <th>9999</th>\n",
       "      <td>02/11/2017</td>\n",
       "      <td>26 KILSHANE RD, FINGLAS, DUBLIN 11</td>\n",
       "      <td>Dublin 11</td>\n",
       "      <td>Dublin</td>\n",
       "      <td>€86,738.06</td>\n",
       "      <td>Yes</td>\n",
       "      <td>No</td>\n",
       "      <td>Second-Hand Dwelling house /Apartment</td>\n",
       "      <td>NaN</td>\n",
       "    </tr>\n",
       "  </tbody>\n",
       "</table>\n",
       "</div>"
      ],
      "text/plain": [
       "     Date of Sale (dd/mm/yyyy)                                    Address  \\\n",
       "9995                15/12/2017           KNOCKASARTNETT, KILLARNEY, KERRY   \n",
       "9996                18/12/2012    17 the court, cypress downs, templeogue   \n",
       "9997                14/12/2016  THE LOG CABIN, FORGE COTTAGE, CULLENSTOWN   \n",
       "9998                19/06/2017               CARRIG RD, PARKMORE, ROSCREA   \n",
       "9999                02/11/2017         26 KILSHANE RD, FINGLAS, DUBLIN 11   \n",
       "\n",
       "     Postal Code     County    Price (€) Not Full Market Price VAT Exclusive  \\\n",
       "9995         NaN      Kerry  €200,000.00                    No            No   \n",
       "9996         NaN     Dublin  €605,000.00                    No            No   \n",
       "9997         NaN    Wexford   €46,666.67                    No            No   \n",
       "9998         NaN  Tipperary  €176,000.00                    No            No   \n",
       "9999   Dublin 11     Dublin   €86,738.06                   Yes            No   \n",
       "\n",
       "                    Description of Property Property Size Description  \n",
       "9995  Second-Hand Dwelling house /Apartment                       NaN  \n",
       "9996  Second-Hand Dwelling house /Apartment                       NaN  \n",
       "9997  Second-Hand Dwelling house /Apartment                       NaN  \n",
       "9998  Second-Hand Dwelling house /Apartment                       NaN  \n",
       "9999  Second-Hand Dwelling house /Apartment                       NaN  "
      ]
     },
     "execution_count": 4,
     "metadata": {},
     "output_type": "execute_result"
    }
   ],
   "source": [
    "df.tail(5)"
   ]
  },
  {
   "cell_type": "markdown",
   "id": "27e87cf9",
   "metadata": {},
   "source": [
    "### Shape"
   ]
  },
  {
   "cell_type": "markdown",
   "id": "1d146b3a",
   "metadata": {},
   "source": [
    "Display number of rows and columns- 10000 = Rows, 9 = columns"
   ]
  },
  {
   "cell_type": "code",
   "execution_count": 5,
   "id": "635a10df",
   "metadata": {},
   "outputs": [
    {
     "data": {
      "text/plain": [
       "(10000, 9)"
      ]
     },
     "execution_count": 5,
     "metadata": {},
     "output_type": "execute_result"
    }
   ],
   "source": [
    "# number of rows and columns\n",
    "df.shape"
   ]
  },
  {
   "cell_type": "markdown",
   "id": "06e2e063",
   "metadata": {},
   "source": [
    "The data is currently all read as object. The data needs to be change to the appropriate data type for it to be accurately analysed"
   ]
  },
  {
   "cell_type": "code",
   "execution_count": 6,
   "id": "6ea8e8ca",
   "metadata": {},
   "outputs": [
    {
     "name": "stdout",
     "output_type": "stream",
     "text": [
      "<class 'pandas.core.frame.DataFrame'>\n",
      "RangeIndex: 10000 entries, 0 to 9999\n",
      "Data columns (total 9 columns):\n",
      " #   Column                     Non-Null Count  Dtype \n",
      "---  ------                     --------------  ----- \n",
      " 0   Date of Sale (dd/mm/yyyy)  10000 non-null  object\n",
      " 1   Address                    10000 non-null  object\n",
      " 2   Postal Code                1860 non-null   object\n",
      " 3   County                     10000 non-null  object\n",
      " 4   Price (€)                  10000 non-null  object\n",
      " 5   Not Full Market Price      10000 non-null  object\n",
      " 6   VAT Exclusive              10000 non-null  object\n",
      " 7   Description of Property    10000 non-null  object\n",
      " 8   Property Size Description  1029 non-null   object\n",
      "dtypes: object(9)\n",
      "memory usage: 703.2+ KB\n"
     ]
    }
   ],
   "source": [
    "df.info()"
   ]
  },
  {
   "cell_type": "markdown",
   "id": "5405bba4",
   "metadata": {},
   "source": [
    "Looking at the column names for errrors "
   ]
  },
  {
   "cell_type": "code",
   "execution_count": 7,
   "id": "acb5d67f",
   "metadata": {},
   "outputs": [
    {
     "data": {
      "text/plain": [
       "Index(['Date of Sale (dd/mm/yyyy)', 'Address', 'Postal Code', 'County',\n",
       "       'Price (€)', 'Not Full Market Price', 'VAT Exclusive',\n",
       "       'Description of Property', 'Property Size Description'],\n",
       "      dtype='object')"
      ]
     },
     "execution_count": 7,
     "metadata": {},
     "output_type": "execute_result"
    }
   ],
   "source": [
    "df.columns"
   ]
  },
  {
   "cell_type": "code",
   "execution_count": 8,
   "id": "0b8292f3",
   "metadata": {},
   "outputs": [
    {
     "data": {
      "text/html": [
       "<div>\n",
       "<style scoped>\n",
       "    .dataframe tbody tr th:only-of-type {\n",
       "        vertical-align: middle;\n",
       "    }\n",
       "\n",
       "    .dataframe tbody tr th {\n",
       "        vertical-align: top;\n",
       "    }\n",
       "\n",
       "    .dataframe thead th {\n",
       "        text-align: right;\n",
       "    }\n",
       "</style>\n",
       "<table border=\"1\" class=\"dataframe\">\n",
       "  <thead>\n",
       "    <tr style=\"text-align: right;\">\n",
       "      <th></th>\n",
       "      <th>Price (€)</th>\n",
       "    </tr>\n",
       "  </thead>\n",
       "  <tbody>\n",
       "    <tr>\n",
       "      <th>0</th>\n",
       "      <td>630000.00</td>\n",
       "    </tr>\n",
       "    <tr>\n",
       "      <th>1</th>\n",
       "      <td>281000.00</td>\n",
       "    </tr>\n",
       "    <tr>\n",
       "      <th>2</th>\n",
       "      <td>560000.00</td>\n",
       "    </tr>\n",
       "    <tr>\n",
       "      <th>3</th>\n",
       "      <td>46000.00</td>\n",
       "    </tr>\n",
       "    <tr>\n",
       "      <th>4</th>\n",
       "      <td>204000.00</td>\n",
       "    </tr>\n",
       "    <tr>\n",
       "      <th>...</th>\n",
       "      <td>...</td>\n",
       "    </tr>\n",
       "    <tr>\n",
       "      <th>9995</th>\n",
       "      <td>200000.00</td>\n",
       "    </tr>\n",
       "    <tr>\n",
       "      <th>9996</th>\n",
       "      <td>605000.00</td>\n",
       "    </tr>\n",
       "    <tr>\n",
       "      <th>9997</th>\n",
       "      <td>46666.67</td>\n",
       "    </tr>\n",
       "    <tr>\n",
       "      <th>9998</th>\n",
       "      <td>176000.00</td>\n",
       "    </tr>\n",
       "    <tr>\n",
       "      <th>9999</th>\n",
       "      <td>86738.06</td>\n",
       "    </tr>\n",
       "  </tbody>\n",
       "</table>\n",
       "<p>10000 rows × 1 columns</p>\n",
       "</div>"
      ],
      "text/plain": [
       "      Price (€)\n",
       "0     630000.00\n",
       "1     281000.00\n",
       "2     560000.00\n",
       "3      46000.00\n",
       "4     204000.00\n",
       "...         ...\n",
       "9995  200000.00\n",
       "9996  605000.00\n",
       "9997   46666.67\n",
       "9998  176000.00\n",
       "9999   86738.06\n",
       "\n",
       "[10000 rows x 1 columns]"
      ]
     },
     "execution_count": 8,
     "metadata": {},
     "output_type": "execute_result"
    }
   ],
   "source": [
    "# Converting price to float, you need to remove all symbols from strings for the command to work. \n",
    "\n",
    "\n",
    "\n",
    "df['Price (€)'] = df['Price (€)'].str.replace(',', '')\n",
    "\n",
    "\n",
    "df['Price (€)'] = df['Price (€)'].str.replace('€', '')\n",
    "\n",
    "df['Price (€)'] = df['Price (€)'].astype(float)\n",
    "\n",
    "df[['Price (€)']]"
   ]
  },
  {
   "cell_type": "markdown",
   "id": "9cdd1496",
   "metadata": {},
   "source": [
    "These object features have been changed to categorical as they each describe unique values"
   ]
  },
  {
   "cell_type": "code",
   "execution_count": 9,
   "id": "cc9c2c07",
   "metadata": {},
   "outputs": [
    {
     "data": {
      "text/plain": [
       "Date of Sale (dd/mm/yyyy)      object\n",
       "Address                      category\n",
       "Postal Code                  category\n",
       "County                       category\n",
       "Price (€)                     float64\n",
       "Not Full Market Price        category\n",
       "VAT Exclusive                category\n",
       "Description of Property      category\n",
       "Property Size Description    category\n",
       "dtype: object"
      ]
     },
     "execution_count": 9,
     "metadata": {},
     "output_type": "execute_result"
    }
   ],
   "source": [
    "\n",
    "# There are a set number of unique counties\n",
    "df['County'] = df['County'].astype('category')\n",
    "\n",
    "# There are a set number of unique descriptions\n",
    "\n",
    "df['Description of Property'] = df['Description of Property'].astype('category')\n",
    "\n",
    "df['Address'] = df['Address'].astype('category')\n",
    "\n",
    "\n",
    "# Postal code has a set number of unique categories\n",
    "df['Postal Code'] = df['Postal Code'].astype('category')\n",
    "\n",
    "# There are a set number of property size descriptions\n",
    "df['Property Size Description'] = df['Property Size Description'].astype('category')\n",
    "\n",
    "# this is just yes or no data there for categorical \n",
    "df['VAT Exclusive'] = df['VAT Exclusive'].astype('category')\n",
    "\n",
    "# this is just yes or no data so it is cateogrical \n",
    "df['Not Full Market Price'] = df['Not Full Market Price'].astype('category')\n",
    "\n",
    "\n",
    "\n",
    "\n",
    "\n",
    "\n",
    "df.dtypes"
   ]
  },
  {
   "cell_type": "code",
   "execution_count": 10,
   "id": "690ca019",
   "metadata": {},
   "outputs": [
    {
     "data": {
      "text/plain": [
       "Date of Sale (dd/mm/yyyy)    datetime64[ns]\n",
       "Address                            category\n",
       "Postal Code                        category\n",
       "County                             category\n",
       "Price (€)                           float64\n",
       "Not Full Market Price              category\n",
       "VAT Exclusive                      category\n",
       "Description of Property            category\n",
       "Property Size Description          category\n",
       "dtype: object"
      ]
     },
     "execution_count": 10,
     "metadata": {},
     "output_type": "execute_result"
    }
   ],
   "source": [
    "# converting dates to date data type\n",
    "df['Date of Sale (dd/mm/yyyy)'] = pd.to_datetime(df['Date of Sale (dd/mm/yyyy)'])\n",
    "\n",
    "df.dtypes"
   ]
  },
  {
   "cell_type": "code",
   "execution_count": 11,
   "id": "7860afa0",
   "metadata": {},
   "outputs": [
    {
     "data": {
      "text/html": [
       "<div>\n",
       "<style scoped>\n",
       "    .dataframe tbody tr th:only-of-type {\n",
       "        vertical-align: middle;\n",
       "    }\n",
       "\n",
       "    .dataframe tbody tr th {\n",
       "        vertical-align: top;\n",
       "    }\n",
       "\n",
       "    .dataframe thead th {\n",
       "        text-align: right;\n",
       "    }\n",
       "</style>\n",
       "<table border=\"1\" class=\"dataframe\">\n",
       "  <thead>\n",
       "    <tr style=\"text-align: right;\">\n",
       "      <th></th>\n",
       "      <th>Date of Sale (dd/mm/yyyy)</th>\n",
       "      <th>Address</th>\n",
       "      <th>Postal Code</th>\n",
       "      <th>County</th>\n",
       "      <th>Price (€)</th>\n",
       "      <th>Not Full Market Price</th>\n",
       "      <th>VAT Exclusive</th>\n",
       "      <th>Description of Property</th>\n",
       "      <th>Property Size Description</th>\n",
       "      <th>Year</th>\n",
       "      <th>Month</th>\n",
       "    </tr>\n",
       "  </thead>\n",
       "  <tbody>\n",
       "    <tr>\n",
       "      <th>0</th>\n",
       "      <td>2016-06-05</td>\n",
       "      <td>21 CURZON ST, PORTOBELLO, DUBLIN 8</td>\n",
       "      <td>Dublin 8</td>\n",
       "      <td>Dublin</td>\n",
       "      <td>630000.0</td>\n",
       "      <td>No</td>\n",
       "      <td>No</td>\n",
       "      <td>Second-Hand Dwelling house /Apartment</td>\n",
       "      <td>NaN</td>\n",
       "      <td>2016</td>\n",
       "      <td>6</td>\n",
       "    </tr>\n",
       "    <tr>\n",
       "      <th>1</th>\n",
       "      <td>2014-12-22</td>\n",
       "      <td>44 ROTHE ABBEY, KILMAINHAM, DUBLIN 8</td>\n",
       "      <td>Dublin 8</td>\n",
       "      <td>Dublin</td>\n",
       "      <td>281000.0</td>\n",
       "      <td>No</td>\n",
       "      <td>No</td>\n",
       "      <td>Second-Hand Dwelling house /Apartment</td>\n",
       "      <td>NaN</td>\n",
       "      <td>2014</td>\n",
       "      <td>12</td>\n",
       "    </tr>\n",
       "    <tr>\n",
       "      <th>2</th>\n",
       "      <td>2020-05-22</td>\n",
       "      <td>17 MERRION PARK, BLACKROCK, DUBLIN</td>\n",
       "      <td>NaN</td>\n",
       "      <td>Dublin</td>\n",
       "      <td>560000.0</td>\n",
       "      <td>No</td>\n",
       "      <td>No</td>\n",
       "      <td>Second-Hand Dwelling house /Apartment</td>\n",
       "      <td>NaN</td>\n",
       "      <td>2020</td>\n",
       "      <td>5</td>\n",
       "    </tr>\n",
       "    <tr>\n",
       "      <th>3</th>\n",
       "      <td>2014-11-27</td>\n",
       "      <td>KNOCKROE, RATHMOYLE, CO.KILKENNY</td>\n",
       "      <td>NaN</td>\n",
       "      <td>Kilkenny</td>\n",
       "      <td>46000.0</td>\n",
       "      <td>No</td>\n",
       "      <td>No</td>\n",
       "      <td>Second-Hand Dwelling house /Apartment</td>\n",
       "      <td>NaN</td>\n",
       "      <td>2014</td>\n",
       "      <td>11</td>\n",
       "    </tr>\n",
       "    <tr>\n",
       "      <th>4</th>\n",
       "      <td>2018-11-22</td>\n",
       "      <td>15 SHANNON PARK, LIFFORD RD, ENNIS</td>\n",
       "      <td>NaN</td>\n",
       "      <td>Clare</td>\n",
       "      <td>204000.0</td>\n",
       "      <td>No</td>\n",
       "      <td>No</td>\n",
       "      <td>Second-Hand Dwelling house /Apartment</td>\n",
       "      <td>NaN</td>\n",
       "      <td>2018</td>\n",
       "      <td>11</td>\n",
       "    </tr>\n",
       "    <tr>\n",
       "      <th>5</th>\n",
       "      <td>2016-01-31</td>\n",
       "      <td>27 MOUNT DRUMMOND SQ, HAROLDS CROSS, DUBLIN 6</td>\n",
       "      <td>Dublin 6</td>\n",
       "      <td>Dublin</td>\n",
       "      <td>375000.0</td>\n",
       "      <td>No</td>\n",
       "      <td>No</td>\n",
       "      <td>Second-Hand Dwelling house /Apartment</td>\n",
       "      <td>NaN</td>\n",
       "      <td>2016</td>\n",
       "      <td>1</td>\n",
       "    </tr>\n",
       "    <tr>\n",
       "      <th>6</th>\n",
       "      <td>2021-11-30</td>\n",
       "      <td>10 HOLLOW WAY, OAKVIEW VILLAGE, TRALEE</td>\n",
       "      <td>NaN</td>\n",
       "      <td>Kerry</td>\n",
       "      <td>182000.0</td>\n",
       "      <td>No</td>\n",
       "      <td>No</td>\n",
       "      <td>Second-Hand Dwelling house /Apartment</td>\n",
       "      <td>NaN</td>\n",
       "      <td>2021</td>\n",
       "      <td>11</td>\n",
       "    </tr>\n",
       "    <tr>\n",
       "      <th>7</th>\n",
       "      <td>2016-02-05</td>\n",
       "      <td>Ballygibbon, Nenagh</td>\n",
       "      <td>NaN</td>\n",
       "      <td>Tipperary</td>\n",
       "      <td>264317.0</td>\n",
       "      <td>No</td>\n",
       "      <td>Yes</td>\n",
       "      <td>New Dwelling house /Apartment</td>\n",
       "      <td>greater than 125 sq metres</td>\n",
       "      <td>2016</td>\n",
       "      <td>2</td>\n",
       "    </tr>\n",
       "    <tr>\n",
       "      <th>8</th>\n",
       "      <td>2018-12-03</td>\n",
       "      <td>RANDLESTOWN, BALLYCOGLEY, WEXFORD</td>\n",
       "      <td>NaN</td>\n",
       "      <td>Wexford</td>\n",
       "      <td>70000.0</td>\n",
       "      <td>No</td>\n",
       "      <td>No</td>\n",
       "      <td>Second-Hand Dwelling house /Apartment</td>\n",
       "      <td>NaN</td>\n",
       "      <td>2018</td>\n",
       "      <td>12</td>\n",
       "    </tr>\n",
       "    <tr>\n",
       "      <th>9</th>\n",
       "      <td>2015-11-17</td>\n",
       "      <td>3 RIVER STREET, CLARA, CO OFFALY</td>\n",
       "      <td>NaN</td>\n",
       "      <td>Offaly</td>\n",
       "      <td>34500.0</td>\n",
       "      <td>No</td>\n",
       "      <td>No</td>\n",
       "      <td>Second-Hand Dwelling house /Apartment</td>\n",
       "      <td>NaN</td>\n",
       "      <td>2015</td>\n",
       "      <td>11</td>\n",
       "    </tr>\n",
       "  </tbody>\n",
       "</table>\n",
       "</div>"
      ],
      "text/plain": [
       "  Date of Sale (dd/mm/yyyy)                                        Address  \\\n",
       "0                2016-06-05             21 CURZON ST, PORTOBELLO, DUBLIN 8   \n",
       "1                2014-12-22           44 ROTHE ABBEY, KILMAINHAM, DUBLIN 8   \n",
       "2                2020-05-22             17 MERRION PARK, BLACKROCK, DUBLIN   \n",
       "3                2014-11-27               KNOCKROE, RATHMOYLE, CO.KILKENNY   \n",
       "4                2018-11-22             15 SHANNON PARK, LIFFORD RD, ENNIS   \n",
       "5                2016-01-31  27 MOUNT DRUMMOND SQ, HAROLDS CROSS, DUBLIN 6   \n",
       "6                2021-11-30         10 HOLLOW WAY, OAKVIEW VILLAGE, TRALEE   \n",
       "7                2016-02-05                            Ballygibbon, Nenagh   \n",
       "8                2018-12-03              RANDLESTOWN, BALLYCOGLEY, WEXFORD   \n",
       "9                2015-11-17               3 RIVER STREET, CLARA, CO OFFALY   \n",
       "\n",
       "  Postal Code     County  Price (€) Not Full Market Price VAT Exclusive  \\\n",
       "0    Dublin 8     Dublin   630000.0                    No            No   \n",
       "1    Dublin 8     Dublin   281000.0                    No            No   \n",
       "2         NaN     Dublin   560000.0                    No            No   \n",
       "3         NaN   Kilkenny    46000.0                    No            No   \n",
       "4         NaN      Clare   204000.0                    No            No   \n",
       "5    Dublin 6     Dublin   375000.0                    No            No   \n",
       "6         NaN      Kerry   182000.0                    No            No   \n",
       "7         NaN  Tipperary   264317.0                    No           Yes   \n",
       "8         NaN    Wexford    70000.0                    No            No   \n",
       "9         NaN     Offaly    34500.0                    No            No   \n",
       "\n",
       "                 Description of Property   Property Size Description  Year  \\\n",
       "0  Second-Hand Dwelling house /Apartment                         NaN  2016   \n",
       "1  Second-Hand Dwelling house /Apartment                         NaN  2014   \n",
       "2  Second-Hand Dwelling house /Apartment                         NaN  2020   \n",
       "3  Second-Hand Dwelling house /Apartment                         NaN  2014   \n",
       "4  Second-Hand Dwelling house /Apartment                         NaN  2018   \n",
       "5  Second-Hand Dwelling house /Apartment                         NaN  2016   \n",
       "6  Second-Hand Dwelling house /Apartment                         NaN  2021   \n",
       "7          New Dwelling house /Apartment  greater than 125 sq metres  2016   \n",
       "8  Second-Hand Dwelling house /Apartment                         NaN  2018   \n",
       "9  Second-Hand Dwelling house /Apartment                         NaN  2015   \n",
       "\n",
       "   Month  \n",
       "0      6  \n",
       "1     12  \n",
       "2      5  \n",
       "3     11  \n",
       "4     11  \n",
       "5      1  \n",
       "6     11  \n",
       "7      2  \n",
       "8     12  \n",
       "9     11  "
      ]
     },
     "execution_count": 11,
     "metadata": {},
     "output_type": "execute_result"
    }
   ],
   "source": [
    "df['Year'] = pd.DatetimeIndex(df['Date of Sale (dd/mm/yyyy)']).year\n",
    "df['Month'] = pd.DatetimeIndex(df['Date of Sale (dd/mm/yyyy)']).month\n",
    "\n",
    "df.head(10)"
   ]
  },
  {
   "cell_type": "code",
   "execution_count": 12,
   "id": "2c4787dc",
   "metadata": {},
   "outputs": [
    {
     "data": {
      "text/plain": [
       "Date of Sale (dd/mm/yyyy)    datetime64[ns]\n",
       "Address                            category\n",
       "Postal Code                        category\n",
       "County                             category\n",
       "Price (€)                           float64\n",
       "Not Full Market Price              category\n",
       "VAT Exclusive                      category\n",
       "Description of Property            category\n",
       "Property Size Description          category\n",
       "Year                                  int64\n",
       "Month                                 int64\n",
       "dtype: object"
      ]
     },
     "execution_count": 12,
     "metadata": {},
     "output_type": "execute_result"
    }
   ],
   "source": [
    "df.dtypes"
   ]
  },
  {
   "cell_type": "markdown",
   "id": "cd54b256",
   "metadata": {},
   "source": [
    "Looking for duplicate rows and columns"
   ]
  },
  {
   "cell_type": "code",
   "execution_count": 13,
   "id": "7d0b1cc9",
   "metadata": {},
   "outputs": [
    {
     "data": {
      "text/plain": [
       "Date of Sale (dd/mm/yyyy)    2759\n",
       "Address                      9980\n",
       "Postal Code                    22\n",
       "County                         26\n",
       "Price (€)                    2285\n",
       "Not Full Market Price           2\n",
       "VAT Exclusive                   2\n",
       "Description of Property         3\n",
       "Property Size Description       4\n",
       "Year                           13\n",
       "Month                          12\n",
       "dtype: int64"
      ]
     },
     "execution_count": 13,
     "metadata": {},
     "output_type": "execute_result"
    }
   ],
   "source": [
    "# There is 20 non unique addresses \n",
    "df.nunique()"
   ]
  },
  {
   "cell_type": "code",
   "execution_count": 14,
   "id": "a985f636",
   "metadata": {},
   "outputs": [
    {
     "data": {
      "text/plain": [
       "Date of Sale (dd/mm/yyyy)       0\n",
       "Address                         0\n",
       "Postal Code                  8140\n",
       "County                          0\n",
       "Price (€)                       0\n",
       "Not Full Market Price           0\n",
       "VAT Exclusive                   0\n",
       "Description of Property         0\n",
       "Property Size Description    8971\n",
       "Year                            0\n",
       "Month                           0\n",
       "dtype: int64"
      ]
     },
     "execution_count": 14,
     "metadata": {},
     "output_type": "execute_result"
    }
   ],
   "source": [
    "df.isnull().sum()"
   ]
  },
  {
   "cell_type": "markdown",
   "id": "b86c84d3",
   "metadata": {},
   "source": [
    "The columm 'Property Size Description' has been dropped due to over 50% of the data is missing and cannot be inferred with accuracy"
   ]
  },
  {
   "cell_type": "code",
   "execution_count": 15,
   "id": "cf4910ec",
   "metadata": {},
   "outputs": [
    {
     "data": {
      "text/html": [
       "<div>\n",
       "<style scoped>\n",
       "    .dataframe tbody tr th:only-of-type {\n",
       "        vertical-align: middle;\n",
       "    }\n",
       "\n",
       "    .dataframe tbody tr th {\n",
       "        vertical-align: top;\n",
       "    }\n",
       "\n",
       "    .dataframe thead th {\n",
       "        text-align: right;\n",
       "    }\n",
       "</style>\n",
       "<table border=\"1\" class=\"dataframe\">\n",
       "  <thead>\n",
       "    <tr style=\"text-align: right;\">\n",
       "      <th></th>\n",
       "      <th>Date of Sale (dd/mm/yyyy)</th>\n",
       "      <th>Address</th>\n",
       "      <th>Postal Code</th>\n",
       "      <th>County</th>\n",
       "      <th>Price (€)</th>\n",
       "      <th>Not Full Market Price</th>\n",
       "      <th>VAT Exclusive</th>\n",
       "      <th>Description of Property</th>\n",
       "      <th>Year</th>\n",
       "      <th>Month</th>\n",
       "    </tr>\n",
       "  </thead>\n",
       "  <tbody>\n",
       "    <tr>\n",
       "      <th>9995</th>\n",
       "      <td>2017-12-15</td>\n",
       "      <td>KNOCKASARTNETT, KILLARNEY, KERRY</td>\n",
       "      <td>NaN</td>\n",
       "      <td>Kerry</td>\n",
       "      <td>200000.00</td>\n",
       "      <td>No</td>\n",
       "      <td>No</td>\n",
       "      <td>Second-Hand Dwelling house /Apartment</td>\n",
       "      <td>2017</td>\n",
       "      <td>12</td>\n",
       "    </tr>\n",
       "    <tr>\n",
       "      <th>9996</th>\n",
       "      <td>2012-12-18</td>\n",
       "      <td>17 the court, cypress downs, templeogue</td>\n",
       "      <td>NaN</td>\n",
       "      <td>Dublin</td>\n",
       "      <td>605000.00</td>\n",
       "      <td>No</td>\n",
       "      <td>No</td>\n",
       "      <td>Second-Hand Dwelling house /Apartment</td>\n",
       "      <td>2012</td>\n",
       "      <td>12</td>\n",
       "    </tr>\n",
       "    <tr>\n",
       "      <th>9997</th>\n",
       "      <td>2016-12-14</td>\n",
       "      <td>THE LOG CABIN, FORGE COTTAGE, CULLENSTOWN</td>\n",
       "      <td>NaN</td>\n",
       "      <td>Wexford</td>\n",
       "      <td>46666.67</td>\n",
       "      <td>No</td>\n",
       "      <td>No</td>\n",
       "      <td>Second-Hand Dwelling house /Apartment</td>\n",
       "      <td>2016</td>\n",
       "      <td>12</td>\n",
       "    </tr>\n",
       "    <tr>\n",
       "      <th>9998</th>\n",
       "      <td>2017-06-19</td>\n",
       "      <td>CARRIG RD, PARKMORE, ROSCREA</td>\n",
       "      <td>NaN</td>\n",
       "      <td>Tipperary</td>\n",
       "      <td>176000.00</td>\n",
       "      <td>No</td>\n",
       "      <td>No</td>\n",
       "      <td>Second-Hand Dwelling house /Apartment</td>\n",
       "      <td>2017</td>\n",
       "      <td>6</td>\n",
       "    </tr>\n",
       "    <tr>\n",
       "      <th>9999</th>\n",
       "      <td>2017-02-11</td>\n",
       "      <td>26 KILSHANE RD, FINGLAS, DUBLIN 11</td>\n",
       "      <td>Dublin 11</td>\n",
       "      <td>Dublin</td>\n",
       "      <td>86738.06</td>\n",
       "      <td>Yes</td>\n",
       "      <td>No</td>\n",
       "      <td>Second-Hand Dwelling house /Apartment</td>\n",
       "      <td>2017</td>\n",
       "      <td>2</td>\n",
       "    </tr>\n",
       "  </tbody>\n",
       "</table>\n",
       "</div>"
      ],
      "text/plain": [
       "     Date of Sale (dd/mm/yyyy)                                    Address  \\\n",
       "9995                2017-12-15           KNOCKASARTNETT, KILLARNEY, KERRY   \n",
       "9996                2012-12-18    17 the court, cypress downs, templeogue   \n",
       "9997                2016-12-14  THE LOG CABIN, FORGE COTTAGE, CULLENSTOWN   \n",
       "9998                2017-06-19               CARRIG RD, PARKMORE, ROSCREA   \n",
       "9999                2017-02-11         26 KILSHANE RD, FINGLAS, DUBLIN 11   \n",
       "\n",
       "     Postal Code     County  Price (€) Not Full Market Price VAT Exclusive  \\\n",
       "9995         NaN      Kerry  200000.00                    No            No   \n",
       "9996         NaN     Dublin  605000.00                    No            No   \n",
       "9997         NaN    Wexford   46666.67                    No            No   \n",
       "9998         NaN  Tipperary  176000.00                    No            No   \n",
       "9999   Dublin 11     Dublin   86738.06                   Yes            No   \n",
       "\n",
       "                    Description of Property  Year  Month  \n",
       "9995  Second-Hand Dwelling house /Apartment  2017     12  \n",
       "9996  Second-Hand Dwelling house /Apartment  2012     12  \n",
       "9997  Second-Hand Dwelling house /Apartment  2016     12  \n",
       "9998  Second-Hand Dwelling house /Apartment  2017      6  \n",
       "9999  Second-Hand Dwelling house /Apartment  2017      2  "
      ]
     },
     "execution_count": 15,
     "metadata": {},
     "output_type": "execute_result"
    }
   ],
   "source": [
    "df.drop('Property Size Description', axis=1, inplace=True)\n",
    "df.tail(5)"
   ]
  },
  {
   "cell_type": "code",
   "execution_count": 16,
   "id": "ca8304e8",
   "metadata": {},
   "outputs": [
    {
     "data": {
      "text/plain": [
       "No     9552\n",
       "Yes     448\n",
       "Name: Not Full Market Price, dtype: int64"
      ]
     },
     "execution_count": 16,
     "metadata": {},
     "output_type": "execute_result"
    }
   ],
   "source": [
    "df['Not Full Market Price'].value_counts(dropna=False)"
   ]
  },
  {
   "cell_type": "markdown",
   "id": "de18d3a9",
   "metadata": {},
   "source": [
    "## Postal Codes Review"
   ]
  },
  {
   "cell_type": "markdown",
   "id": "d0077fcb",
   "metadata": {},
   "source": [
    "The county Dublin appears 3193 times, this is the highest proportion. "
   ]
  },
  {
   "cell_type": "code",
   "execution_count": 17,
   "id": "445931bb",
   "metadata": {},
   "outputs": [
    {
     "data": {
      "text/html": [
       "<div>\n",
       "<style scoped>\n",
       "    .dataframe tbody tr th:only-of-type {\n",
       "        vertical-align: middle;\n",
       "    }\n",
       "\n",
       "    .dataframe tbody tr th {\n",
       "        vertical-align: top;\n",
       "    }\n",
       "\n",
       "    .dataframe thead th {\n",
       "        text-align: right;\n",
       "    }\n",
       "</style>\n",
       "<table border=\"1\" class=\"dataframe\">\n",
       "  <thead>\n",
       "    <tr style=\"text-align: right;\">\n",
       "      <th></th>\n",
       "      <th>Date of Sale (dd/mm/yyyy)</th>\n",
       "      <th>Address</th>\n",
       "      <th>Postal Code</th>\n",
       "      <th>County</th>\n",
       "      <th>Price (€)</th>\n",
       "      <th>Not Full Market Price</th>\n",
       "      <th>VAT Exclusive</th>\n",
       "      <th>Description of Property</th>\n",
       "      <th>Year</th>\n",
       "      <th>Month</th>\n",
       "    </tr>\n",
       "  </thead>\n",
       "  <tbody>\n",
       "    <tr>\n",
       "      <th>0</th>\n",
       "      <td>2016-06-05</td>\n",
       "      <td>21 CURZON ST, PORTOBELLO, DUBLIN 8</td>\n",
       "      <td>Dublin 8</td>\n",
       "      <td>Dublin</td>\n",
       "      <td>630000.00</td>\n",
       "      <td>No</td>\n",
       "      <td>No</td>\n",
       "      <td>Second-Hand Dwelling house /Apartment</td>\n",
       "      <td>2016</td>\n",
       "      <td>6</td>\n",
       "    </tr>\n",
       "    <tr>\n",
       "      <th>1</th>\n",
       "      <td>2014-12-22</td>\n",
       "      <td>44 ROTHE ABBEY, KILMAINHAM, DUBLIN 8</td>\n",
       "      <td>Dublin 8</td>\n",
       "      <td>Dublin</td>\n",
       "      <td>281000.00</td>\n",
       "      <td>No</td>\n",
       "      <td>No</td>\n",
       "      <td>Second-Hand Dwelling house /Apartment</td>\n",
       "      <td>2014</td>\n",
       "      <td>12</td>\n",
       "    </tr>\n",
       "    <tr>\n",
       "      <th>2</th>\n",
       "      <td>2020-05-22</td>\n",
       "      <td>17 MERRION PARK, BLACKROCK, DUBLIN</td>\n",
       "      <td>NaN</td>\n",
       "      <td>Dublin</td>\n",
       "      <td>560000.00</td>\n",
       "      <td>No</td>\n",
       "      <td>No</td>\n",
       "      <td>Second-Hand Dwelling house /Apartment</td>\n",
       "      <td>2020</td>\n",
       "      <td>5</td>\n",
       "    </tr>\n",
       "    <tr>\n",
       "      <th>5</th>\n",
       "      <td>2016-01-31</td>\n",
       "      <td>27 MOUNT DRUMMOND SQ, HAROLDS CROSS, DUBLIN 6</td>\n",
       "      <td>Dublin 6</td>\n",
       "      <td>Dublin</td>\n",
       "      <td>375000.00</td>\n",
       "      <td>No</td>\n",
       "      <td>No</td>\n",
       "      <td>Second-Hand Dwelling house /Apartment</td>\n",
       "      <td>2016</td>\n",
       "      <td>1</td>\n",
       "    </tr>\n",
       "    <tr>\n",
       "      <th>10</th>\n",
       "      <td>2015-06-15</td>\n",
       "      <td>Apt 350 Block 8B, Tallaght Cross West, Dublin 24</td>\n",
       "      <td>Dublin 24</td>\n",
       "      <td>Dublin</td>\n",
       "      <td>99433.75</td>\n",
       "      <td>No</td>\n",
       "      <td>Yes</td>\n",
       "      <td>New Dwelling house /Apartment</td>\n",
       "      <td>2015</td>\n",
       "      <td>6</td>\n",
       "    </tr>\n",
       "    <tr>\n",
       "      <th>...</th>\n",
       "      <td>...</td>\n",
       "      <td>...</td>\n",
       "      <td>...</td>\n",
       "      <td>...</td>\n",
       "      <td>...</td>\n",
       "      <td>...</td>\n",
       "      <td>...</td>\n",
       "      <td>...</td>\n",
       "      <td>...</td>\n",
       "      <td>...</td>\n",
       "    </tr>\n",
       "    <tr>\n",
       "      <th>9975</th>\n",
       "      <td>2013-04-11</td>\n",
       "      <td>29 Carndonagh Drive, Donaghmede, Dublin 13</td>\n",
       "      <td>Dublin 13</td>\n",
       "      <td>Dublin</td>\n",
       "      <td>190000.00</td>\n",
       "      <td>No</td>\n",
       "      <td>No</td>\n",
       "      <td>Second-Hand Dwelling house /Apartment</td>\n",
       "      <td>2013</td>\n",
       "      <td>4</td>\n",
       "    </tr>\n",
       "    <tr>\n",
       "      <th>9988</th>\n",
       "      <td>2020-10-03</td>\n",
       "      <td>44 GERALDSTOWN WOODS, SANTRY AVE, DUBLIN 9</td>\n",
       "      <td>Dublin 9</td>\n",
       "      <td>Dublin</td>\n",
       "      <td>170000.00</td>\n",
       "      <td>No</td>\n",
       "      <td>No</td>\n",
       "      <td>Second-Hand Dwelling house /Apartment</td>\n",
       "      <td>2020</td>\n",
       "      <td>10</td>\n",
       "    </tr>\n",
       "    <tr>\n",
       "      <th>9993</th>\n",
       "      <td>2019-05-12</td>\n",
       "      <td>6 Edenbrook Green, Edenbrook, Citywest</td>\n",
       "      <td>NaN</td>\n",
       "      <td>Dublin</td>\n",
       "      <td>348017.61</td>\n",
       "      <td>No</td>\n",
       "      <td>Yes</td>\n",
       "      <td>New Dwelling house /Apartment</td>\n",
       "      <td>2019</td>\n",
       "      <td>5</td>\n",
       "    </tr>\n",
       "    <tr>\n",
       "      <th>9996</th>\n",
       "      <td>2012-12-18</td>\n",
       "      <td>17 the court, cypress downs, templeogue</td>\n",
       "      <td>NaN</td>\n",
       "      <td>Dublin</td>\n",
       "      <td>605000.00</td>\n",
       "      <td>No</td>\n",
       "      <td>No</td>\n",
       "      <td>Second-Hand Dwelling house /Apartment</td>\n",
       "      <td>2012</td>\n",
       "      <td>12</td>\n",
       "    </tr>\n",
       "    <tr>\n",
       "      <th>9999</th>\n",
       "      <td>2017-02-11</td>\n",
       "      <td>26 KILSHANE RD, FINGLAS, DUBLIN 11</td>\n",
       "      <td>Dublin 11</td>\n",
       "      <td>Dublin</td>\n",
       "      <td>86738.06</td>\n",
       "      <td>Yes</td>\n",
       "      <td>No</td>\n",
       "      <td>Second-Hand Dwelling house /Apartment</td>\n",
       "      <td>2017</td>\n",
       "      <td>2</td>\n",
       "    </tr>\n",
       "  </tbody>\n",
       "</table>\n",
       "<p>3193 rows × 10 columns</p>\n",
       "</div>"
      ],
      "text/plain": [
       "     Date of Sale (dd/mm/yyyy)  \\\n",
       "0                   2016-06-05   \n",
       "1                   2014-12-22   \n",
       "2                   2020-05-22   \n",
       "5                   2016-01-31   \n",
       "10                  2015-06-15   \n",
       "...                        ...   \n",
       "9975                2013-04-11   \n",
       "9988                2020-10-03   \n",
       "9993                2019-05-12   \n",
       "9996                2012-12-18   \n",
       "9999                2017-02-11   \n",
       "\n",
       "                                               Address Postal Code  County  \\\n",
       "0                   21 CURZON ST, PORTOBELLO, DUBLIN 8    Dublin 8  Dublin   \n",
       "1                 44 ROTHE ABBEY, KILMAINHAM, DUBLIN 8    Dublin 8  Dublin   \n",
       "2                   17 MERRION PARK, BLACKROCK, DUBLIN         NaN  Dublin   \n",
       "5        27 MOUNT DRUMMOND SQ, HAROLDS CROSS, DUBLIN 6    Dublin 6  Dublin   \n",
       "10    Apt 350 Block 8B, Tallaght Cross West, Dublin 24   Dublin 24  Dublin   \n",
       "...                                                ...         ...     ...   \n",
       "9975        29 Carndonagh Drive, Donaghmede, Dublin 13   Dublin 13  Dublin   \n",
       "9988        44 GERALDSTOWN WOODS, SANTRY AVE, DUBLIN 9    Dublin 9  Dublin   \n",
       "9993            6 Edenbrook Green, Edenbrook, Citywest         NaN  Dublin   \n",
       "9996           17 the court, cypress downs, templeogue         NaN  Dublin   \n",
       "9999                26 KILSHANE RD, FINGLAS, DUBLIN 11   Dublin 11  Dublin   \n",
       "\n",
       "      Price (€) Not Full Market Price VAT Exclusive  \\\n",
       "0     630000.00                    No            No   \n",
       "1     281000.00                    No            No   \n",
       "2     560000.00                    No            No   \n",
       "5     375000.00                    No            No   \n",
       "10     99433.75                    No           Yes   \n",
       "...         ...                   ...           ...   \n",
       "9975  190000.00                    No            No   \n",
       "9988  170000.00                    No            No   \n",
       "9993  348017.61                    No           Yes   \n",
       "9996  605000.00                    No            No   \n",
       "9999   86738.06                   Yes            No   \n",
       "\n",
       "                    Description of Property  Year  Month  \n",
       "0     Second-Hand Dwelling house /Apartment  2016      6  \n",
       "1     Second-Hand Dwelling house /Apartment  2014     12  \n",
       "2     Second-Hand Dwelling house /Apartment  2020      5  \n",
       "5     Second-Hand Dwelling house /Apartment  2016      1  \n",
       "10            New Dwelling house /Apartment  2015      6  \n",
       "...                                     ...   ...    ...  \n",
       "9975  Second-Hand Dwelling house /Apartment  2013      4  \n",
       "9988  Second-Hand Dwelling house /Apartment  2020     10  \n",
       "9993          New Dwelling house /Apartment  2019      5  \n",
       "9996  Second-Hand Dwelling house /Apartment  2012     12  \n",
       "9999  Second-Hand Dwelling house /Apartment  2017      2  \n",
       "\n",
       "[3193 rows x 10 columns]"
      ]
     },
     "execution_count": 17,
     "metadata": {},
     "output_type": "execute_result"
    }
   ],
   "source": [
    "df.loc[df['County'].isin(['Dublin'])]"
   ]
  },
  {
   "cell_type": "code",
   "execution_count": 18,
   "id": "b1623086",
   "metadata": {},
   "outputs": [
    {
     "data": {
      "text/plain": [
       "count          1860\n",
       "unique           22\n",
       "top       Dublin 15\n",
       "freq            232\n",
       "Name: Postal Code, dtype: object"
      ]
     },
     "execution_count": 18,
     "metadata": {},
     "output_type": "execute_result"
    }
   ],
   "source": [
    "df[\"Postal Code\"].describe().T"
   ]
  },
  {
   "cell_type": "markdown",
   "id": "d5f758a3",
   "metadata": {},
   "source": [
    "58% percent have a set post code, while this is low. I have opted to keep the data as it still could provide relevent statisical inferences"
   ]
  },
  {
   "cell_type": "markdown",
   "id": "0fc0ad25",
   "metadata": {},
   "source": [
    "There is some logical integrity issues with the data. Some post codes do not match the post codes in their addresses."
   ]
  },
  {
   "cell_type": "code",
   "execution_count": 19,
   "id": "519504da",
   "metadata": {},
   "outputs": [
    {
     "data": {
      "text/html": [
       "<div>\n",
       "<style scoped>\n",
       "    .dataframe tbody tr th:only-of-type {\n",
       "        vertical-align: middle;\n",
       "    }\n",
       "\n",
       "    .dataframe tbody tr th {\n",
       "        vertical-align: top;\n",
       "    }\n",
       "\n",
       "    .dataframe thead th {\n",
       "        text-align: right;\n",
       "    }\n",
       "</style>\n",
       "<table border=\"1\" class=\"dataframe\">\n",
       "  <thead>\n",
       "    <tr style=\"text-align: right;\">\n",
       "      <th></th>\n",
       "      <th>Address</th>\n",
       "      <th>Postal Code</th>\n",
       "      <th>County</th>\n",
       "      <th>Not Full Market Price</th>\n",
       "      <th>VAT Exclusive</th>\n",
       "      <th>Description of Property</th>\n",
       "    </tr>\n",
       "  </thead>\n",
       "  <tbody>\n",
       "    <tr>\n",
       "      <th>0</th>\n",
       "      <td>21 CURZON ST, PORTOBELLO, DUBLIN 8</td>\n",
       "      <td>Dublin 8</td>\n",
       "      <td>Dublin</td>\n",
       "      <td>No</td>\n",
       "      <td>No</td>\n",
       "      <td>Second-Hand Dwelling house /Apartment</td>\n",
       "    </tr>\n",
       "    <tr>\n",
       "      <th>1</th>\n",
       "      <td>44 ROTHE ABBEY, KILMAINHAM, DUBLIN 8</td>\n",
       "      <td>Dublin 8</td>\n",
       "      <td>Dublin</td>\n",
       "      <td>No</td>\n",
       "      <td>No</td>\n",
       "      <td>Second-Hand Dwelling house /Apartment</td>\n",
       "    </tr>\n",
       "    <tr>\n",
       "      <th>2</th>\n",
       "      <td>17 MERRION PARK, BLACKROCK, DUBLIN</td>\n",
       "      <td>NaN</td>\n",
       "      <td>Dublin</td>\n",
       "      <td>No</td>\n",
       "      <td>No</td>\n",
       "      <td>Second-Hand Dwelling house /Apartment</td>\n",
       "    </tr>\n",
       "    <tr>\n",
       "      <th>3</th>\n",
       "      <td>KNOCKROE, RATHMOYLE, CO.KILKENNY</td>\n",
       "      <td>NaN</td>\n",
       "      <td>Kilkenny</td>\n",
       "      <td>No</td>\n",
       "      <td>No</td>\n",
       "      <td>Second-Hand Dwelling house /Apartment</td>\n",
       "    </tr>\n",
       "    <tr>\n",
       "      <th>4</th>\n",
       "      <td>15 SHANNON PARK, LIFFORD RD, ENNIS</td>\n",
       "      <td>NaN</td>\n",
       "      <td>Clare</td>\n",
       "      <td>No</td>\n",
       "      <td>No</td>\n",
       "      <td>Second-Hand Dwelling house /Apartment</td>\n",
       "    </tr>\n",
       "  </tbody>\n",
       "</table>\n",
       "</div>"
      ],
      "text/plain": [
       "                                Address Postal Code    County  \\\n",
       "0    21 CURZON ST, PORTOBELLO, DUBLIN 8    Dublin 8    Dublin   \n",
       "1  44 ROTHE ABBEY, KILMAINHAM, DUBLIN 8    Dublin 8    Dublin   \n",
       "2    17 MERRION PARK, BLACKROCK, DUBLIN         NaN    Dublin   \n",
       "3      KNOCKROE, RATHMOYLE, CO.KILKENNY         NaN  Kilkenny   \n",
       "4    15 SHANNON PARK, LIFFORD RD, ENNIS         NaN     Clare   \n",
       "\n",
       "  Not Full Market Price VAT Exclusive                Description of Property  \n",
       "0                    No            No  Second-Hand Dwelling house /Apartment  \n",
       "1                    No            No  Second-Hand Dwelling house /Apartment  \n",
       "2                    No            No  Second-Hand Dwelling house /Apartment  \n",
       "3                    No            No  Second-Hand Dwelling house /Apartment  \n",
       "4                    No            No  Second-Hand Dwelling house /Apartment  "
      ]
     },
     "execution_count": 19,
     "metadata": {},
     "output_type": "execute_result"
    }
   ],
   "source": [
    "category_columns = df.select_dtypes(['category']).columns\n",
    "df[category_columns].head()"
   ]
  },
  {
   "cell_type": "code",
   "execution_count": 20,
   "id": "c808287b",
   "metadata": {},
   "outputs": [
    {
     "name": "stdout",
     "output_type": "stream",
     "text": [
      "\n",
      "Address\n",
      "APT 64 THOMOND VILLAGE, BALLYGRENNAN, THOMOND VILLAGE    2\n",
      "8A COACHMAN APARTMENTS, DOMINICK STREET, CO GALWAY       2\n",
      "GURETTI, HOWTH SUMMIT, NEW RD                            2\n",
      "3 BARTRA ROCK, HARBOUR ROAD, DALKEY                      2\n",
      "BALLYHAUNIS RD, CLAREMORRIS, MAYO                        2\n",
      "                                                        ..\n",
      "29 Crockaun Way, Brownstown, Curragh                     1\n",
      "29 DROIMNEACH, BWEENG, CORK                              1\n",
      "29 DRUMCLIFF RD, CABRA WEST, DUBLIN 7                    1\n",
      "29 DUBLIN ST, DUNDALK, CO LOUTH                          1\n",
      "unit 3 Parkside Glen, parkside, malahide road            1\n",
      "Name: Address, Length: 9980, dtype: int64\n",
      "\n",
      "Postal Code\n",
      "NaN          8140\n",
      "Dublin 15     232\n",
      "Dublin 18     143\n",
      "Dublin 9      119\n",
      "Dublin 8      115\n",
      "Dublin 24     114\n",
      "Dublin 4      109\n",
      "Dublin 12     104\n",
      "Dublin 16      96\n",
      "Dublin 11      93\n",
      "Dublin 7       88\n",
      "Dublin 13      85\n",
      "Dublin 14      84\n",
      "Dublin 3       82\n",
      "Dublin 5       78\n",
      "Dublin 1       77\n",
      "Dublin 6       66\n",
      "Dublin 22      54\n",
      "Dublin 2       34\n",
      "Dublin 20      25\n",
      "Dublin 17      24\n",
      "Dublin 10      20\n",
      "Dublin 6w      18\n",
      "Name: Postal Code, dtype: int64\n",
      "\n",
      "County\n",
      "Dublin       3193\n",
      "Cork         1099\n",
      "Galway        502\n",
      "Kildare       483\n",
      "Meath         399\n",
      "Wexford       363\n",
      "Limerick      348\n",
      "Wicklow       317\n",
      "Louth         288\n",
      "Kerry         285\n",
      "Tipperary     283\n",
      "Donegal       274\n",
      "Mayo          259\n",
      "Waterford     245\n",
      "Clare         240\n",
      "Westmeath     174\n",
      "Laois         163\n",
      "Cavan         153\n",
      "Sligo         148\n",
      "Roscommon     143\n",
      "Kilkenny      133\n",
      "Carlow        124\n",
      "Offaly        119\n",
      "Leitrim        99\n",
      "Longford       90\n",
      "Monaghan       76\n",
      "Name: County, dtype: int64\n",
      "\n",
      "Not Full Market Price\n",
      "No     9552\n",
      "Yes     448\n",
      "Name: Not Full Market Price, dtype: int64\n",
      "\n",
      "VAT Exclusive\n",
      "No     8399\n",
      "Yes    1601\n",
      "Name: VAT Exclusive, dtype: int64\n",
      "\n",
      "Description of Property\n",
      "Second-Hand Dwelling house /Apartment    8363\n",
      "New Dwelling house /Apartment            1636\n",
      "Teach/Árasán Cónaithe Atháimhe              1\n",
      "Name: Description of Property, dtype: int64\n"
     ]
    }
   ],
   "source": [
    "for column in category_columns:\n",
    "    print(\"\\n\" + column)\n",
    "    print(df[column].value_counts(dropna=False))"
   ]
  },
  {
   "cell_type": "markdown",
   "id": "a85e2606",
   "metadata": {},
   "source": [
    "## Description of Property Iregularity "
   ]
  },
  {
   "cell_type": "markdown",
   "id": "51b8ca47",
   "metadata": {},
   "source": [
    "'Description of Property' shows 3 unique properties. \"Teach/Árasán Cónaithe Atháimhe\" is the Irish translation of \"Second-Hand Dwelling house /Apartment\". While it is important that Irish people practice their native language for the purpose of data analytics it makes sense to change this to the english category for consistency. "
   ]
  },
  {
   "cell_type": "code",
   "execution_count": 21,
   "id": "b09c3a82",
   "metadata": {},
   "outputs": [
    {
     "data": {
      "text/plain": [
       "[5686]"
      ]
     },
     "execution_count": 21,
     "metadata": {},
     "output_type": "execute_result"
    }
   ],
   "source": [
    "# getting index of where the illogical data is \n",
    "df.index[df['Description of Property'] == 'Teach/Árasán Cónaithe Atháimhe'].tolist()"
   ]
  },
  {
   "cell_type": "code",
   "execution_count": 22,
   "id": "bb179995",
   "metadata": {},
   "outputs": [],
   "source": [
    "# replacing with english translation\n",
    "df.at[5686,'Description of Property']='Second-Hand Dwelling house /Apartment'\n"
   ]
  },
  {
   "cell_type": "code",
   "execution_count": 23,
   "id": "00755330",
   "metadata": {},
   "outputs": [
    {
     "data": {
      "text/plain": [
       "Second-Hand Dwelling house /Apartment    8364\n",
       "New Dwelling house /Apartment            1636\n",
       "Teach/Árasán Cónaithe Atháimhe              0\n",
       "Name: Description of Property, dtype: int64"
      ]
     },
     "execution_count": 23,
     "metadata": {},
     "output_type": "execute_result"
    }
   ],
   "source": [
    "df['Description of Property'].value_counts(dropna=False)"
   ]
  },
  {
   "cell_type": "code",
   "execution_count": 24,
   "id": "4ded08ae",
   "metadata": {},
   "outputs": [
    {
     "data": {
      "text/html": [
       "<div>\n",
       "<style scoped>\n",
       "    .dataframe tbody tr th:only-of-type {\n",
       "        vertical-align: middle;\n",
       "    }\n",
       "\n",
       "    .dataframe tbody tr th {\n",
       "        vertical-align: top;\n",
       "    }\n",
       "\n",
       "    .dataframe thead th {\n",
       "        text-align: right;\n",
       "    }\n",
       "</style>\n",
       "<table border=\"1\" class=\"dataframe\">\n",
       "  <thead>\n",
       "    <tr style=\"text-align: right;\">\n",
       "      <th></th>\n",
       "      <th>count</th>\n",
       "      <th>unique</th>\n",
       "      <th>top</th>\n",
       "      <th>freq</th>\n",
       "    </tr>\n",
       "  </thead>\n",
       "  <tbody>\n",
       "    <tr>\n",
       "      <th>Address</th>\n",
       "      <td>10000</td>\n",
       "      <td>9980</td>\n",
       "      <td>APT 64 THOMOND VILLAGE, BALLYGRENNAN, THOMOND ...</td>\n",
       "      <td>2</td>\n",
       "    </tr>\n",
       "    <tr>\n",
       "      <th>Postal Code</th>\n",
       "      <td>1860</td>\n",
       "      <td>22</td>\n",
       "      <td>Dublin 15</td>\n",
       "      <td>232</td>\n",
       "    </tr>\n",
       "    <tr>\n",
       "      <th>County</th>\n",
       "      <td>10000</td>\n",
       "      <td>26</td>\n",
       "      <td>Dublin</td>\n",
       "      <td>3193</td>\n",
       "    </tr>\n",
       "    <tr>\n",
       "      <th>Not Full Market Price</th>\n",
       "      <td>10000</td>\n",
       "      <td>2</td>\n",
       "      <td>No</td>\n",
       "      <td>9552</td>\n",
       "    </tr>\n",
       "    <tr>\n",
       "      <th>VAT Exclusive</th>\n",
       "      <td>10000</td>\n",
       "      <td>2</td>\n",
       "      <td>No</td>\n",
       "      <td>8399</td>\n",
       "    </tr>\n",
       "    <tr>\n",
       "      <th>Description of Property</th>\n",
       "      <td>10000</td>\n",
       "      <td>2</td>\n",
       "      <td>Second-Hand Dwelling house /Apartment</td>\n",
       "      <td>8364</td>\n",
       "    </tr>\n",
       "  </tbody>\n",
       "</table>\n",
       "</div>"
      ],
      "text/plain": [
       "                         count unique  \\\n",
       "Address                  10000   9980   \n",
       "Postal Code               1860     22   \n",
       "County                   10000     26   \n",
       "Not Full Market Price    10000      2   \n",
       "VAT Exclusive            10000      2   \n",
       "Description of Property  10000      2   \n",
       "\n",
       "                                                                       top  \\\n",
       "Address                  APT 64 THOMOND VILLAGE, BALLYGRENNAN, THOMOND ...   \n",
       "Postal Code                                                      Dublin 15   \n",
       "County                                                              Dublin   \n",
       "Not Full Market Price                                                   No   \n",
       "VAT Exclusive                                                           No   \n",
       "Description of Property              Second-Hand Dwelling house /Apartment   \n",
       "\n",
       "                         freq  \n",
       "Address                     2  \n",
       "Postal Code               232  \n",
       "County                   3193  \n",
       "Not Full Market Price    9552  \n",
       "VAT Exclusive            8399  \n",
       "Description of Property  8364  "
      ]
     },
     "execution_count": 24,
     "metadata": {},
     "output_type": "execute_result"
    }
   ],
   "source": [
    "df[category_columns].describe().T"
   ]
  },
  {
   "cell_type": "markdown",
   "id": "04a2e2d0",
   "metadata": {},
   "source": [
    "# Describing Numeric Types"
   ]
  },
  {
   "cell_type": "code",
   "execution_count": 25,
   "id": "cc55602e",
   "metadata": {},
   "outputs": [
    {
     "data": {
      "text/plain": [
       "Index(['Price (€)'], dtype='object')"
      ]
     },
     "execution_count": 25,
     "metadata": {},
     "output_type": "execute_result"
    }
   ],
   "source": [
    "numeric_columns = df.select_dtypes(['float64','int']).columns\n",
    "numeric_columns"
   ]
  },
  {
   "cell_type": "code",
   "execution_count": 26,
   "id": "9cc65af3",
   "metadata": {},
   "outputs": [
    {
     "data": {
      "text/html": [
       "<div>\n",
       "<style scoped>\n",
       "    .dataframe tbody tr th:only-of-type {\n",
       "        vertical-align: middle;\n",
       "    }\n",
       "\n",
       "    .dataframe tbody tr th {\n",
       "        vertical-align: top;\n",
       "    }\n",
       "\n",
       "    .dataframe thead th {\n",
       "        text-align: right;\n",
       "    }\n",
       "</style>\n",
       "<table border=\"1\" class=\"dataframe\">\n",
       "  <thead>\n",
       "    <tr style=\"text-align: right;\">\n",
       "      <th></th>\n",
       "      <th>count</th>\n",
       "      <th>mean</th>\n",
       "      <th>min</th>\n",
       "      <th>25%</th>\n",
       "      <th>50%</th>\n",
       "      <th>75%</th>\n",
       "      <th>max</th>\n",
       "      <th>std</th>\n",
       "    </tr>\n",
       "  </thead>\n",
       "  <tbody>\n",
       "    <tr>\n",
       "      <th>Date of Sale (dd/mm/yyyy)</th>\n",
       "      <td>10000</td>\n",
       "      <td>2017-01-19 02:06:08.640000</td>\n",
       "      <td>2010-01-02 00:00:00</td>\n",
       "      <td>2014-11-07 00:00:00</td>\n",
       "      <td>2017-06-02 12:00:00</td>\n",
       "      <td>2019-08-04 00:00:00</td>\n",
       "      <td>2022-12-01 00:00:00</td>\n",
       "      <td>NaN</td>\n",
       "    </tr>\n",
       "    <tr>\n",
       "      <th>Price (€)</th>\n",
       "      <td>10000.0</td>\n",
       "      <td>260260.702676</td>\n",
       "      <td>5500.0</td>\n",
       "      <td>120000.0</td>\n",
       "      <td>200000.0</td>\n",
       "      <td>308370.08</td>\n",
       "      <td>17151248.0</td>\n",
       "      <td>390170.322939</td>\n",
       "    </tr>\n",
       "    <tr>\n",
       "      <th>Year</th>\n",
       "      <td>10000.0</td>\n",
       "      <td>2016.5192</td>\n",
       "      <td>2010.0</td>\n",
       "      <td>2014.0</td>\n",
       "      <td>2017.0</td>\n",
       "      <td>2019.0</td>\n",
       "      <td>2022.0</td>\n",
       "      <td>3.108729</td>\n",
       "    </tr>\n",
       "    <tr>\n",
       "      <th>Month</th>\n",
       "      <td>10000.0</td>\n",
       "      <td>6.8947</td>\n",
       "      <td>1.0</td>\n",
       "      <td>4.0</td>\n",
       "      <td>7.0</td>\n",
       "      <td>10.0</td>\n",
       "      <td>12.0</td>\n",
       "      <td>3.477186</td>\n",
       "    </tr>\n",
       "  </tbody>\n",
       "</table>\n",
       "</div>"
      ],
      "text/plain": [
       "                             count                        mean  \\\n",
       "Date of Sale (dd/mm/yyyy)    10000  2017-01-19 02:06:08.640000   \n",
       "Price (€)                  10000.0               260260.702676   \n",
       "Year                       10000.0                   2016.5192   \n",
       "Month                      10000.0                      6.8947   \n",
       "\n",
       "                                           min                  25%  \\\n",
       "Date of Sale (dd/mm/yyyy)  2010-01-02 00:00:00  2014-11-07 00:00:00   \n",
       "Price (€)                               5500.0             120000.0   \n",
       "Year                                    2010.0               2014.0   \n",
       "Month                                      1.0                  4.0   \n",
       "\n",
       "                                           50%                  75%  \\\n",
       "Date of Sale (dd/mm/yyyy)  2017-06-02 12:00:00  2019-08-04 00:00:00   \n",
       "Price (€)                             200000.0            308370.08   \n",
       "Year                                    2017.0               2019.0   \n",
       "Month                                      7.0                 10.0   \n",
       "\n",
       "                                           max            std  \n",
       "Date of Sale (dd/mm/yyyy)  2022-12-01 00:00:00            NaN  \n",
       "Price (€)                           17151248.0  390170.322939  \n",
       "Year                                    2022.0       3.108729  \n",
       "Month                                     12.0       3.477186  "
      ]
     },
     "execution_count": 26,
     "metadata": {},
     "output_type": "execute_result"
    }
   ],
   "source": [
    "df.describe(datetime_is_numeric=True).T\n",
    "\n"
   ]
  },
  {
   "cell_type": "code",
   "execution_count": 27,
   "id": "5aeedc86",
   "metadata": {},
   "outputs": [],
   "source": [
    "# numeric_DataDescription_Table = df.describe(datetime_is_numeric=True).T\n",
    "\n",
    "# # plot = plt.subplot(111, frame_on=False)\n",
    "\n",
    "# # #     #remove axis\n",
    "# # # plot.xaxis.set_visible(False) \n",
    "# # # plot.yaxis.set_visible(False) \n",
    "\n",
    "# # #create the table plot and position it in the upper left corner\n",
    "# # table(plot, numeric_DataDescription_Table,loc='upper right')\n",
    "\n",
    "# #save the plot as a png file\n",
    "# plt.savefig('numericDataDescribed.png')"
   ]
  },
  {
   "cell_type": "markdown",
   "id": "e636d5c3",
   "metadata": {},
   "source": [
    "#### Summary stats for numeric data Price (€)\n",
    "From look at the price data, the standard deviation is very large, with a large range of values. Range = 17145748"
   ]
  },
  {
   "cell_type": "code",
   "execution_count": 28,
   "id": "64fa00d4",
   "metadata": {},
   "outputs": [
    {
     "data": {
      "text/html": [
       "<div>\n",
       "<style scoped>\n",
       "    .dataframe tbody tr th:only-of-type {\n",
       "        vertical-align: middle;\n",
       "    }\n",
       "\n",
       "    .dataframe tbody tr th {\n",
       "        vertical-align: top;\n",
       "    }\n",
       "\n",
       "    .dataframe thead th {\n",
       "        text-align: right;\n",
       "    }\n",
       "</style>\n",
       "<table border=\"1\" class=\"dataframe\">\n",
       "  <thead>\n",
       "    <tr style=\"text-align: right;\">\n",
       "      <th></th>\n",
       "      <th>count</th>\n",
       "      <th>mean</th>\n",
       "      <th>std</th>\n",
       "      <th>min</th>\n",
       "      <th>25%</th>\n",
       "      <th>50%</th>\n",
       "      <th>75%</th>\n",
       "      <th>max</th>\n",
       "    </tr>\n",
       "  </thead>\n",
       "  <tbody>\n",
       "    <tr>\n",
       "      <th>Price (€)</th>\n",
       "      <td>10000.0</td>\n",
       "      <td>260260.702676</td>\n",
       "      <td>390170.322939</td>\n",
       "      <td>5500.0</td>\n",
       "      <td>120000.0</td>\n",
       "      <td>200000.0</td>\n",
       "      <td>308370.08</td>\n",
       "      <td>17151248.0</td>\n",
       "    </tr>\n",
       "  </tbody>\n",
       "</table>\n",
       "</div>"
      ],
      "text/plain": [
       "             count           mean            std     min       25%       50%  \\\n",
       "Price (€)  10000.0  260260.702676  390170.322939  5500.0  120000.0  200000.0   \n",
       "\n",
       "                 75%         max  \n",
       "Price (€)  308370.08  17151248.0  "
      ]
     },
     "execution_count": 28,
     "metadata": {},
     "output_type": "execute_result"
    }
   ],
   "source": [
    "df[numeric_columns].describe().T"
   ]
  },
  {
   "cell_type": "markdown",
   "id": "d8eced7b",
   "metadata": {},
   "source": [
    "### Median value of price"
   ]
  },
  {
   "cell_type": "code",
   "execution_count": 29,
   "id": "139dc8f7",
   "metadata": {},
   "outputs": [
    {
     "data": {
      "text/plain": [
       "200000.0"
      ]
     },
     "execution_count": 29,
     "metadata": {},
     "output_type": "execute_result"
    }
   ],
   "source": [
    "df['Price (€)'].median()\n"
   ]
  },
  {
   "cell_type": "code",
   "execution_count": 30,
   "id": "f66291e3",
   "metadata": {},
   "outputs": [
    {
     "data": {
      "text/html": [
       "<div>\n",
       "<style scoped>\n",
       "    .dataframe tbody tr th:only-of-type {\n",
       "        vertical-align: middle;\n",
       "    }\n",
       "\n",
       "    .dataframe tbody tr th {\n",
       "        vertical-align: top;\n",
       "    }\n",
       "\n",
       "    .dataframe thead th {\n",
       "        text-align: right;\n",
       "    }\n",
       "</style>\n",
       "<table border=\"1\" class=\"dataframe\">\n",
       "  <thead>\n",
       "    <tr style=\"text-align: right;\">\n",
       "      <th></th>\n",
       "      <th>card</th>\n",
       "    </tr>\n",
       "  </thead>\n",
       "  <tbody>\n",
       "    <tr>\n",
       "      <th>Price (€)</th>\n",
       "      <td>2285</td>\n",
       "    </tr>\n",
       "  </tbody>\n",
       "</table>\n",
       "</div>"
      ],
      "text/plain": [
       "           card\n",
       "Price (€)  2285"
      ]
     },
     "execution_count": 30,
     "metadata": {},
     "output_type": "execute_result"
    }
   ],
   "source": [
    "numeric_columns_card = df[numeric_columns].nunique()\n",
    "# store the values in a dataframe\n",
    "df_numeric_card = pd.DataFrame(numeric_columns_card, columns=['card'])\n",
    "df_numeric_card"
   ]
  },
  {
   "cell_type": "code",
   "execution_count": 31,
   "id": "d9baeed5",
   "metadata": {},
   "outputs": [
    {
     "data": {
      "text/plain": [
       "count                                                 10000\n",
       "unique                                                 9980\n",
       "top       APT 64 THOMOND VILLAGE, BALLYGRENNAN, THOMOND ...\n",
       "freq                                                      2\n",
       "Name: Address, dtype: object"
      ]
     },
     "execution_count": 31,
     "metadata": {},
     "output_type": "execute_result"
    }
   ],
   "source": [
    "df['Address'].describe()"
   ]
  },
  {
   "cell_type": "code",
   "execution_count": 32,
   "id": "1c36a978",
   "metadata": {},
   "outputs": [],
   "source": [
    "df.to_csv('updated-ppr-17350796.csv', index=False)"
   ]
  },
  {
   "cell_type": "code",
   "execution_count": 33,
   "id": "215d6a83",
   "metadata": {},
   "outputs": [
    {
     "name": "stdout",
     "output_type": "stream",
     "text": [
      "\n",
      "Address\n",
      "APT 64 THOMOND VILLAGE, BALLYGRENNAN, THOMOND VILLAGE    2\n",
      "8A COACHMAN APARTMENTS, DOMINICK STREET, CO GALWAY       2\n",
      "GURETTI, HOWTH SUMMIT, NEW RD                            2\n",
      "3 BARTRA ROCK, HARBOUR ROAD, DALKEY                      2\n",
      "BALLYHAUNIS RD, CLAREMORRIS, MAYO                        2\n",
      "                                                        ..\n",
      "29 Crockaun Way, Brownstown, Curragh                     1\n",
      "29 DROIMNEACH, BWEENG, CORK                              1\n",
      "29 DRUMCLIFF RD, CABRA WEST, DUBLIN 7                    1\n",
      "29 DUBLIN ST, DUNDALK, CO LOUTH                          1\n",
      "unit 3 Parkside Glen, parkside, malahide road            1\n",
      "Name: Address, Length: 9980, dtype: int64\n",
      "\n",
      "Postal Code\n",
      "NaN          8140\n",
      "Dublin 15     232\n",
      "Dublin 18     143\n",
      "Dublin 9      119\n",
      "Dublin 8      115\n",
      "Dublin 24     114\n",
      "Dublin 4      109\n",
      "Dublin 12     104\n",
      "Dublin 16      96\n",
      "Dublin 11      93\n",
      "Dublin 7       88\n",
      "Dublin 13      85\n",
      "Dublin 14      84\n",
      "Dublin 3       82\n",
      "Dublin 5       78\n",
      "Dublin 1       77\n",
      "Dublin 6       66\n",
      "Dublin 22      54\n",
      "Dublin 2       34\n",
      "Dublin 20      25\n",
      "Dublin 17      24\n",
      "Dublin 10      20\n",
      "Dublin 6w      18\n",
      "Name: Postal Code, dtype: int64\n",
      "\n",
      "County\n",
      "Dublin       3193\n",
      "Cork         1099\n",
      "Galway        502\n",
      "Kildare       483\n",
      "Meath         399\n",
      "Wexford       363\n",
      "Limerick      348\n",
      "Wicklow       317\n",
      "Louth         288\n",
      "Kerry         285\n",
      "Tipperary     283\n",
      "Donegal       274\n",
      "Mayo          259\n",
      "Waterford     245\n",
      "Clare         240\n",
      "Westmeath     174\n",
      "Laois         163\n",
      "Cavan         153\n",
      "Sligo         148\n",
      "Roscommon     143\n",
      "Kilkenny      133\n",
      "Carlow        124\n",
      "Offaly        119\n",
      "Leitrim        99\n",
      "Longford       90\n",
      "Monaghan       76\n",
      "Name: County, dtype: int64\n",
      "\n",
      "Not Full Market Price\n",
      "No     9552\n",
      "Yes     448\n",
      "Name: Not Full Market Price, dtype: int64\n",
      "\n",
      "VAT Exclusive\n",
      "No     8399\n",
      "Yes    1601\n",
      "Name: VAT Exclusive, dtype: int64\n",
      "\n",
      "Description of Property\n",
      "Second-Hand Dwelling house /Apartment    8364\n",
      "New Dwelling house /Apartment            1636\n",
      "Teach/Árasán Cónaithe Atháimhe              0\n",
      "Name: Description of Property, dtype: int64\n"
     ]
    }
   ],
   "source": [
    "for column in category_columns:\n",
    "    print(\"\\n\" + column)\n",
    "    print(df[column].value_counts(dropna=False))"
   ]
  },
  {
   "cell_type": "code",
   "execution_count": 34,
   "id": "e45bb6ae",
   "metadata": {},
   "outputs": [
    {
     "name": "stdout",
     "output_type": "stream",
     "text": [
      "\n",
      "Address\n",
      "APT 64 THOMOND VILLAGE, BALLYGRENNAN, THOMOND VILLAGE    0.0002\n",
      "8A COACHMAN APARTMENTS, DOMINICK STREET, CO GALWAY       0.0002\n",
      "GURETTI, HOWTH SUMMIT, NEW RD                            0.0002\n",
      "3 BARTRA ROCK, HARBOUR ROAD, DALKEY                      0.0002\n",
      "BALLYHAUNIS RD, CLAREMORRIS, MAYO                        0.0002\n",
      "                                                          ...  \n",
      "29 Crockaun Way, Brownstown, Curragh                     0.0001\n",
      "29 DROIMNEACH, BWEENG, CORK                              0.0001\n",
      "29 DRUMCLIFF RD, CABRA WEST, DUBLIN 7                    0.0001\n",
      "29 DUBLIN ST, DUNDALK, CO LOUTH                          0.0001\n",
      "unit 3 Parkside Glen, parkside, malahide road            0.0001\n",
      "Name: Address, Length: 9980, dtype: float64\n",
      "\n",
      "Postal Code\n",
      "NaN          0.8140\n",
      "Dublin 15    0.0232\n",
      "Dublin 18    0.0143\n",
      "Dublin 9     0.0119\n",
      "Dublin 8     0.0115\n",
      "Dublin 24    0.0114\n",
      "Dublin 4     0.0109\n",
      "Dublin 12    0.0104\n",
      "Dublin 16    0.0096\n",
      "Dublin 11    0.0093\n",
      "Dublin 7     0.0088\n",
      "Dublin 13    0.0085\n",
      "Dublin 14    0.0084\n",
      "Dublin 3     0.0082\n",
      "Dublin 5     0.0078\n",
      "Dublin 1     0.0077\n",
      "Dublin 6     0.0066\n",
      "Dublin 22    0.0054\n",
      "Dublin 2     0.0034\n",
      "Dublin 20    0.0025\n",
      "Dublin 17    0.0024\n",
      "Dublin 10    0.0020\n",
      "Dublin 6w    0.0018\n",
      "Name: Postal Code, dtype: float64\n",
      "\n",
      "County\n",
      "Dublin       0.3193\n",
      "Cork         0.1099\n",
      "Galway       0.0502\n",
      "Kildare      0.0483\n",
      "Meath        0.0399\n",
      "Wexford      0.0363\n",
      "Limerick     0.0348\n",
      "Wicklow      0.0317\n",
      "Louth        0.0288\n",
      "Kerry        0.0285\n",
      "Tipperary    0.0283\n",
      "Donegal      0.0274\n",
      "Mayo         0.0259\n",
      "Waterford    0.0245\n",
      "Clare        0.0240\n",
      "Westmeath    0.0174\n",
      "Laois        0.0163\n",
      "Cavan        0.0153\n",
      "Sligo        0.0148\n",
      "Roscommon    0.0143\n",
      "Kilkenny     0.0133\n",
      "Carlow       0.0124\n",
      "Offaly       0.0119\n",
      "Leitrim      0.0099\n",
      "Longford     0.0090\n",
      "Monaghan     0.0076\n",
      "Name: County, dtype: float64\n",
      "\n",
      "Not Full Market Price\n",
      "No     0.9552\n",
      "Yes    0.0448\n",
      "Name: Not Full Market Price, dtype: float64\n",
      "\n",
      "VAT Exclusive\n",
      "No     0.8399\n",
      "Yes    0.1601\n",
      "Name: VAT Exclusive, dtype: float64\n",
      "\n",
      "Description of Property\n",
      "Second-Hand Dwelling house /Apartment    0.8364\n",
      "New Dwelling house /Apartment            0.1636\n",
      "Teach/Árasán Cónaithe Atháimhe           0.0000\n",
      "Name: Description of Property, dtype: float64\n"
     ]
    }
   ],
   "source": [
    "for column in category_columns:\n",
    "    print(\"\\n\" + column)\n",
    "    print(df[column].value_counts(normalize=True, dropna=False))"
   ]
  },
  {
   "cell_type": "code",
   "execution_count": 35,
   "id": "9fbb06e7",
   "metadata": {},
   "outputs": [
    {
     "name": "stdout",
     "output_type": "stream",
     "text": [
      "\n",
      "Address\n",
      "APT 64 THOMOND VILLAGE, BALLYGRENNAN, THOMOND VILLAGE    0.0002\n",
      "8A COACHMAN APARTMENTS, DOMINICK STREET, CO GALWAY       0.0002\n",
      "GURETTI, HOWTH SUMMIT, NEW RD                            0.0002\n",
      "3 BARTRA ROCK, HARBOUR ROAD, DALKEY                      0.0002\n",
      "BALLYHAUNIS RD, CLAREMORRIS, MAYO                        0.0002\n",
      "                                                          ...  \n",
      "29 Crockaun Way, Brownstown, Curragh                     0.0001\n",
      "29 DROIMNEACH, BWEENG, CORK                              0.0001\n",
      "29 DRUMCLIFF RD, CABRA WEST, DUBLIN 7                    0.0001\n",
      "29 DUBLIN ST, DUNDALK, CO LOUTH                          0.0001\n",
      "unit 3 Parkside Glen, parkside, malahide road            0.0001\n",
      "Name: Address, Length: 9980, dtype: float64\n",
      "\n",
      "Postal Code\n",
      "Dublin 15    0.124731\n",
      "Dublin 18    0.076882\n",
      "Dublin 9     0.063978\n",
      "Dublin 8     0.061828\n",
      "Dublin 24    0.061290\n",
      "Dublin 4     0.058602\n",
      "Dublin 12    0.055914\n",
      "Dublin 16    0.051613\n",
      "Dublin 11    0.050000\n",
      "Dublin 7     0.047312\n",
      "Dublin 13    0.045699\n",
      "Dublin 14    0.045161\n",
      "Dublin 3     0.044086\n",
      "Dublin 5     0.041935\n",
      "Dublin 1     0.041398\n",
      "Dublin 6     0.035484\n",
      "Dublin 22    0.029032\n",
      "Dublin 2     0.018280\n",
      "Dublin 20    0.013441\n",
      "Dublin 17    0.012903\n",
      "Dublin 10    0.010753\n",
      "Dublin 6w    0.009677\n",
      "Name: Postal Code, dtype: float64\n",
      "\n",
      "County\n",
      "Dublin       0.3193\n",
      "Cork         0.1099\n",
      "Galway       0.0502\n",
      "Kildare      0.0483\n",
      "Meath        0.0399\n",
      "Wexford      0.0363\n",
      "Limerick     0.0348\n",
      "Wicklow      0.0317\n",
      "Louth        0.0288\n",
      "Kerry        0.0285\n",
      "Tipperary    0.0283\n",
      "Donegal      0.0274\n",
      "Mayo         0.0259\n",
      "Waterford    0.0245\n",
      "Clare        0.0240\n",
      "Westmeath    0.0174\n",
      "Laois        0.0163\n",
      "Cavan        0.0153\n",
      "Sligo        0.0148\n",
      "Roscommon    0.0143\n",
      "Kilkenny     0.0133\n",
      "Carlow       0.0124\n",
      "Offaly       0.0119\n",
      "Leitrim      0.0099\n",
      "Longford     0.0090\n",
      "Monaghan     0.0076\n",
      "Name: County, dtype: float64\n",
      "\n",
      "Not Full Market Price\n",
      "No     0.9552\n",
      "Yes    0.0448\n",
      "Name: Not Full Market Price, dtype: float64\n",
      "\n",
      "VAT Exclusive\n",
      "No     0.8399\n",
      "Yes    0.1601\n",
      "Name: VAT Exclusive, dtype: float64\n",
      "\n",
      "Description of Property\n",
      "Second-Hand Dwelling house /Apartment    0.8364\n",
      "New Dwelling house /Apartment            0.1636\n",
      "Teach/Árasán Cónaithe Atháimhe           0.0000\n",
      "Name: Description of Property, dtype: float64\n"
     ]
    }
   ],
   "source": [
    "for column in category_columns:\n",
    "    print(\"\\n\" + column)\n",
    "    print(df[column].value_counts(normalize=True, dropna=True))"
   ]
  },
  {
   "cell_type": "markdown",
   "id": "83e262cf",
   "metadata": {},
   "source": [
    "### Looking for duplicates"
   ]
  },
  {
   "cell_type": "code",
   "execution_count": 36,
   "id": "8f7481dd",
   "metadata": {},
   "outputs": [
    {
     "data": {
      "text/plain": [
       "0"
      ]
     },
     "execution_count": 36,
     "metadata": {},
     "output_type": "execute_result"
    }
   ],
   "source": [
    "df.duplicated().sum()"
   ]
  },
  {
   "cell_type": "code",
   "execution_count": 37,
   "id": "c90dd1de",
   "metadata": {},
   "outputs": [
    {
     "name": "stdout",
     "output_type": "stream",
     "text": [
      "Number of duplicate (excluding first) columns in the table is:  0\n",
      "Number of duplicate (including first) columns in the table is:  0\n"
     ]
    }
   ],
   "source": [
    "dfT = df.T\n",
    "print(\"Number of duplicate (excluding first) columns in the table is: \", dfT.duplicated().sum())\n",
    "print(\"Number of duplicate (including first) columns in the table is: \",  dfT[dfT.duplicated(keep=False)].shape[0])"
   ]
  },
  {
   "cell_type": "markdown",
   "id": "3089e128",
   "metadata": {},
   "source": [
    "## Describing categorical data"
   ]
  },
  {
   "cell_type": "code",
   "execution_count": 38,
   "id": "4e744b4f",
   "metadata": {},
   "outputs": [
    {
     "data": {
      "text/html": [
       "<div>\n",
       "<style scoped>\n",
       "    .dataframe tbody tr th:only-of-type {\n",
       "        vertical-align: middle;\n",
       "    }\n",
       "\n",
       "    .dataframe tbody tr th {\n",
       "        vertical-align: top;\n",
       "    }\n",
       "\n",
       "    .dataframe thead th {\n",
       "        text-align: right;\n",
       "    }\n",
       "</style>\n",
       "<table border=\"1\" class=\"dataframe\">\n",
       "  <thead>\n",
       "    <tr style=\"text-align: right;\">\n",
       "      <th></th>\n",
       "      <th>count</th>\n",
       "      <th>unique</th>\n",
       "      <th>top</th>\n",
       "      <th>freq</th>\n",
       "    </tr>\n",
       "  </thead>\n",
       "  <tbody>\n",
       "    <tr>\n",
       "      <th>Address</th>\n",
       "      <td>10000</td>\n",
       "      <td>9980</td>\n",
       "      <td>APT 64 THOMOND VILLAGE, BALLYGRENNAN, THOMOND ...</td>\n",
       "      <td>2</td>\n",
       "    </tr>\n",
       "    <tr>\n",
       "      <th>Postal Code</th>\n",
       "      <td>1860</td>\n",
       "      <td>22</td>\n",
       "      <td>Dublin 15</td>\n",
       "      <td>232</td>\n",
       "    </tr>\n",
       "    <tr>\n",
       "      <th>County</th>\n",
       "      <td>10000</td>\n",
       "      <td>26</td>\n",
       "      <td>Dublin</td>\n",
       "      <td>3193</td>\n",
       "    </tr>\n",
       "    <tr>\n",
       "      <th>Not Full Market Price</th>\n",
       "      <td>10000</td>\n",
       "      <td>2</td>\n",
       "      <td>No</td>\n",
       "      <td>9552</td>\n",
       "    </tr>\n",
       "    <tr>\n",
       "      <th>VAT Exclusive</th>\n",
       "      <td>10000</td>\n",
       "      <td>2</td>\n",
       "      <td>No</td>\n",
       "      <td>8399</td>\n",
       "    </tr>\n",
       "    <tr>\n",
       "      <th>Description of Property</th>\n",
       "      <td>10000</td>\n",
       "      <td>2</td>\n",
       "      <td>Second-Hand Dwelling house /Apartment</td>\n",
       "      <td>8364</td>\n",
       "    </tr>\n",
       "  </tbody>\n",
       "</table>\n",
       "</div>"
      ],
      "text/plain": [
       "                         count unique  \\\n",
       "Address                  10000   9980   \n",
       "Postal Code               1860     22   \n",
       "County                   10000     26   \n",
       "Not Full Market Price    10000      2   \n",
       "VAT Exclusive            10000      2   \n",
       "Description of Property  10000      2   \n",
       "\n",
       "                                                                       top  \\\n",
       "Address                  APT 64 THOMOND VILLAGE, BALLYGRENNAN, THOMOND ...   \n",
       "Postal Code                                                      Dublin 15   \n",
       "County                                                              Dublin   \n",
       "Not Full Market Price                                                   No   \n",
       "VAT Exclusive                                                           No   \n",
       "Description of Property              Second-Hand Dwelling house /Apartment   \n",
       "\n",
       "                         freq  \n",
       "Address                     2  \n",
       "Postal Code               232  \n",
       "County                   3193  \n",
       "Not Full Market Price    9552  \n",
       "VAT Exclusive            8399  \n",
       "Description of Property  8364  "
      ]
     },
     "execution_count": 38,
     "metadata": {},
     "output_type": "execute_result"
    }
   ],
   "source": [
    "df[category_columns].describe().T"
   ]
  },
  {
   "cell_type": "code",
   "execution_count": 39,
   "id": "f640e3a6",
   "metadata": {},
   "outputs": [
    {
     "data": {
      "text/html": [
       "<div>\n",
       "<style scoped>\n",
       "    .dataframe tbody tr th:only-of-type {\n",
       "        vertical-align: middle;\n",
       "    }\n",
       "\n",
       "    .dataframe tbody tr th {\n",
       "        vertical-align: top;\n",
       "    }\n",
       "\n",
       "    .dataframe thead th {\n",
       "        text-align: right;\n",
       "    }\n",
       "</style>\n",
       "<table border=\"1\" class=\"dataframe\">\n",
       "  <thead>\n",
       "    <tr style=\"text-align: right;\">\n",
       "      <th></th>\n",
       "      <th>mode</th>\n",
       "      <th>freq_mode</th>\n",
       "      <th>%mode</th>\n",
       "      <th>2ndmode</th>\n",
       "      <th>freq_2ndmode</th>\n",
       "      <th>%2ndmode</th>\n",
       "    </tr>\n",
       "  </thead>\n",
       "  <tbody>\n",
       "    <tr>\n",
       "      <th>Address</th>\n",
       "      <td>NaN</td>\n",
       "      <td>NaN</td>\n",
       "      <td>NaN</td>\n",
       "      <td>NaN</td>\n",
       "      <td>NaN</td>\n",
       "      <td>NaN</td>\n",
       "    </tr>\n",
       "    <tr>\n",
       "      <th>Postal Code</th>\n",
       "      <td>NaN</td>\n",
       "      <td>NaN</td>\n",
       "      <td>NaN</td>\n",
       "      <td>NaN</td>\n",
       "      <td>NaN</td>\n",
       "      <td>NaN</td>\n",
       "    </tr>\n",
       "    <tr>\n",
       "      <th>County</th>\n",
       "      <td>NaN</td>\n",
       "      <td>NaN</td>\n",
       "      <td>NaN</td>\n",
       "      <td>NaN</td>\n",
       "      <td>NaN</td>\n",
       "      <td>NaN</td>\n",
       "    </tr>\n",
       "    <tr>\n",
       "      <th>Not Full Market Price</th>\n",
       "      <td>NaN</td>\n",
       "      <td>NaN</td>\n",
       "      <td>NaN</td>\n",
       "      <td>NaN</td>\n",
       "      <td>NaN</td>\n",
       "      <td>NaN</td>\n",
       "    </tr>\n",
       "    <tr>\n",
       "      <th>VAT Exclusive</th>\n",
       "      <td>NaN</td>\n",
       "      <td>NaN</td>\n",
       "      <td>NaN</td>\n",
       "      <td>NaN</td>\n",
       "      <td>NaN</td>\n",
       "      <td>NaN</td>\n",
       "    </tr>\n",
       "    <tr>\n",
       "      <th>Description of Property</th>\n",
       "      <td>NaN</td>\n",
       "      <td>NaN</td>\n",
       "      <td>NaN</td>\n",
       "      <td>NaN</td>\n",
       "      <td>NaN</td>\n",
       "      <td>NaN</td>\n",
       "    </tr>\n",
       "  </tbody>\n",
       "</table>\n",
       "</div>"
      ],
      "text/plain": [
       "                        mode freq_mode %mode 2ndmode freq_2ndmode %2ndmode\n",
       "Address                  NaN       NaN   NaN     NaN          NaN      NaN\n",
       "Postal Code              NaN       NaN   NaN     NaN          NaN      NaN\n",
       "County                   NaN       NaN   NaN     NaN          NaN      NaN\n",
       "Not Full Market Price    NaN       NaN   NaN     NaN          NaN      NaN\n",
       "VAT Exclusive            NaN       NaN   NaN     NaN          NaN      NaN\n",
       "Description of Property  NaN       NaN   NaN     NaN          NaN      NaN"
      ]
     },
     "execution_count": 39,
     "metadata": {},
     "output_type": "execute_result"
    }
   ],
   "source": [
    "df_category_mode = pd.DataFrame(index = df[category_columns].describe().T.index, columns=['mode', 'freq_mode','%mode', '2ndmode', 'freq_2ndmode','%2ndmode'])\n",
    "df_category_mode"
   ]
  },
  {
   "cell_type": "code",
   "execution_count": 40,
   "id": "f4b7ac4c",
   "metadata": {},
   "outputs": [
    {
     "name": "stdout",
     "output_type": "stream",
     "text": [
      "\n",
      "Address\n",
      "APT 64 THOMOND VILLAGE, BALLYGRENNAN, THOMOND VILLAGE    2\n",
      "8A COACHMAN APARTMENTS, DOMINICK STREET, CO GALWAY       2\n",
      "GURETTI, HOWTH SUMMIT, NEW RD                            2\n",
      "3 BARTRA ROCK, HARBOUR ROAD, DALKEY                      2\n",
      "BALLYHAUNIS RD, CLAREMORRIS, MAYO                        2\n",
      "                                                        ..\n",
      "29 Crockaun Way, Brownstown, Curragh                     1\n",
      "29 DROIMNEACH, BWEENG, CORK                              1\n",
      "29 DRUMCLIFF RD, CABRA WEST, DUBLIN 7                    1\n",
      "29 DUBLIN ST, DUNDALK, CO LOUTH                          1\n",
      "unit 3 Parkside Glen, parkside, malahide road            1\n",
      "Name: Address, Length: 9980, dtype: int64\n",
      "CategoricalIndex(['APT 64 THOMOND VILLAGE, BALLYGRENNAN, THOMOND VILLAGE',\n",
      "                  '8A COACHMAN APARTMENTS, DOMINICK STREET, CO GALWAY',\n",
      "                  'GURETTI, HOWTH SUMMIT, NEW RD',\n",
      "                  '3 BARTRA ROCK, HARBOUR ROAD, DALKEY',\n",
      "                  'BALLYHAUNIS RD, CLAREMORRIS, MAYO',\n",
      "                  'RUSHLAKE, WOODLAWN, BALLINASLOE',\n",
      "                  'Glackmore, Aught Road, Muff',\n",
      "                  '16 BENBULBIN RD, DRIMNAGH, DUBLIN 12',\n",
      "                  '67 MALAHIDE MARINA VILLAGE, MALAHIDE, DUBLIN',\n",
      "                  'HILLQUARTER, COOSAN, ATHLONE',\n",
      "                  ...\n",
      "                  '29 COIS LOCHA, SALEEN, BALLINROBE RD',\n",
      "                  '29 Carlinn Avenue, Mullaharlin Road, Dundalk',\n",
      "                  '29 Carndonagh Drive, Donaghmede, Dublin 13',\n",
      "                  '29 Castlebrook Green, Castlebrook Manor, Castletroy',\n",
      "                  '29 Citywest Village Avenue, Citywest Village, Citywest',\n",
      "                  '29 Crockaun Way, Brownstown, Curragh',\n",
      "                  '29 DROIMNEACH, BWEENG, CORK',\n",
      "                  '29 DRUMCLIFF RD, CABRA WEST, DUBLIN 7',\n",
      "                  '29 DUBLIN ST, DUNDALK, CO LOUTH',\n",
      "                  'unit 3 Parkside Glen, parkside, malahide road'],\n",
      "                 categories=[''Ardan', Aghowle, Ashford', ''Eala', Castlejane, Glanmire', ''Ermland', Johnstown Road, Enfield', ''Ewell', 18 Mount Anville Road, Dundrum', ''Knocknagow', Blackrock Road', ''SANCTA MARIA', BRIGHTON ROAD, FOXROCK', ''SHARON', NORTH CIRCULAR ROAD', '04 MOYGLARE RIDGE, MARIAVILLA, MAYNOOTH', ...], ordered=False, dtype='category', length=9980)\n",
      "\n",
      "Postal Code\n",
      "Dublin 15    232\n",
      "Dublin 18    143\n",
      "Dublin 9     119\n",
      "Dublin 8     115\n",
      "Dublin 24    114\n",
      "Dublin 4     109\n",
      "Dublin 12    104\n",
      "Dublin 16     96\n",
      "Dublin 11     93\n",
      "Dublin 7      88\n",
      "Dublin 13     85\n",
      "Dublin 14     84\n",
      "Dublin 3      82\n",
      "Dublin 5      78\n",
      "Dublin 1      77\n",
      "Dublin 6      66\n",
      "Dublin 22     54\n",
      "Dublin 2      34\n",
      "Dublin 20     25\n",
      "Dublin 17     24\n",
      "Dublin 10     20\n",
      "Dublin 6w     18\n",
      "Name: Postal Code, dtype: int64\n",
      "CategoricalIndex(['Dublin 15', 'Dublin 18', 'Dublin 9', 'Dublin 8',\n",
      "                  'Dublin 24', 'Dublin 4', 'Dublin 12', 'Dublin 16',\n",
      "                  'Dublin 11', 'Dublin 7', 'Dublin 13', 'Dublin 14',\n",
      "                  'Dublin 3', 'Dublin 5', 'Dublin 1', 'Dublin 6', 'Dublin 22',\n",
      "                  'Dublin 2', 'Dublin 20', 'Dublin 17', 'Dublin 10',\n",
      "                  'Dublin 6w'],\n",
      "                 categories=['Dublin 1', 'Dublin 10', 'Dublin 11', 'Dublin 12', 'Dublin 13', 'Dublin 14', 'Dublin 15', 'Dublin 16', ...], ordered=False, dtype='category')\n",
      "\n",
      "County\n",
      "Dublin       3193\n",
      "Cork         1099\n",
      "Galway        502\n",
      "Kildare       483\n",
      "Meath         399\n",
      "Wexford       363\n",
      "Limerick      348\n",
      "Wicklow       317\n",
      "Louth         288\n",
      "Kerry         285\n",
      "Tipperary     283\n",
      "Donegal       274\n",
      "Mayo          259\n",
      "Waterford     245\n",
      "Clare         240\n",
      "Westmeath     174\n",
      "Laois         163\n",
      "Cavan         153\n",
      "Sligo         148\n",
      "Roscommon     143\n",
      "Kilkenny      133\n",
      "Carlow        124\n",
      "Offaly        119\n",
      "Leitrim        99\n",
      "Longford       90\n",
      "Monaghan       76\n",
      "Name: County, dtype: int64\n",
      "CategoricalIndex(['Dublin', 'Cork', 'Galway', 'Kildare', 'Meath', 'Wexford',\n",
      "                  'Limerick', 'Wicklow', 'Louth', 'Kerry', 'Tipperary',\n",
      "                  'Donegal', 'Mayo', 'Waterford', 'Clare', 'Westmeath',\n",
      "                  'Laois', 'Cavan', 'Sligo', 'Roscommon', 'Kilkenny', 'Carlow',\n",
      "                  'Offaly', 'Leitrim', 'Longford', 'Monaghan'],\n",
      "                 categories=['Carlow', 'Cavan', 'Clare', 'Cork', 'Donegal', 'Dublin', 'Galway', 'Kerry', ...], ordered=False, dtype='category')\n",
      "\n",
      "Not Full Market Price\n",
      "No     9552\n",
      "Yes     448\n",
      "Name: Not Full Market Price, dtype: int64\n",
      "CategoricalIndex(['No', 'Yes'], categories=['No', 'Yes'], ordered=False, dtype='category')\n",
      "\n",
      "VAT Exclusive\n",
      "No     8399\n",
      "Yes    1601\n",
      "Name: VAT Exclusive, dtype: int64\n",
      "CategoricalIndex(['No', 'Yes'], categories=['No', 'Yes'], ordered=False, dtype='category')\n",
      "\n",
      "Description of Property\n",
      "Second-Hand Dwelling house /Apartment    8364\n",
      "New Dwelling house /Apartment            1636\n",
      "Teach/Árasán Cónaithe Atháimhe              0\n",
      "Name: Description of Property, dtype: int64\n",
      "CategoricalIndex(['Second-Hand Dwelling house /Apartment',\n",
      "                  'New Dwelling house /Apartment',\n",
      "                  'Teach/Árasán Cónaithe Atháimhe'],\n",
      "                 categories=['New Dwelling house /Apartment', 'Second-Hand Dwelling house /Apartment', 'Teach/Árasán Cónaithe Atháimhe'], ordered=False, dtype='category')\n"
     ]
    }
   ],
   "source": [
    "for column in category_columns:\n",
    "    print(\"\\n\" + column)\n",
    "    print(df[column].value_counts())\n",
    "    print(df[column].value_counts().keys())\n",
    "    \n",
    "    df_category_mode.loc[column]['mode'] = df[column].value_counts().keys()[0]\n",
    "    df_category_mode.loc[column]['freq_mode'] = df[column].value_counts()[df_category_mode.loc[column]['mode']]\n",
    "    df_category_mode.loc[column]['%mode'] = df[column].value_counts(normalize=True)[df_category_mode.loc[column]['mode']]\n",
    " \n",
    "\n",
    "    if df[column].value_counts().size > 1:\n",
    "        df_category_mode.loc[column]['2ndmode'] = df[column].value_counts().keys()[1]\n",
    "        df_category_mode.loc[column]['freq_2ndmode'] = df[column].value_counts()[df_category_mode.loc[column]['2ndmode']]\n",
    "        df_category_mode.loc[column]['%2ndmode'] = df[column].value_counts(normalize=True)[df_category_mode.loc[column]['2ndmode']]\n",
    "    else: df_category_mode.loc[column] = '-'"
   ]
  },
  {
   "cell_type": "code",
   "execution_count": 41,
   "id": "cb58c65d",
   "metadata": {},
   "outputs": [
    {
     "data": {
      "text/html": [
       "<div>\n",
       "<style scoped>\n",
       "    .dataframe tbody tr th:only-of-type {\n",
       "        vertical-align: middle;\n",
       "    }\n",
       "\n",
       "    .dataframe tbody tr th {\n",
       "        vertical-align: top;\n",
       "    }\n",
       "\n",
       "    .dataframe thead th {\n",
       "        text-align: right;\n",
       "    }\n",
       "</style>\n",
       "<table border=\"1\" class=\"dataframe\">\n",
       "  <thead>\n",
       "    <tr style=\"text-align: right;\">\n",
       "      <th></th>\n",
       "      <th>mode</th>\n",
       "      <th>freq_mode</th>\n",
       "      <th>%mode</th>\n",
       "      <th>2ndmode</th>\n",
       "      <th>freq_2ndmode</th>\n",
       "      <th>%2ndmode</th>\n",
       "    </tr>\n",
       "  </thead>\n",
       "  <tbody>\n",
       "    <tr>\n",
       "      <th>Address</th>\n",
       "      <td>APT 64 THOMOND VILLAGE, BALLYGRENNAN, THOMOND ...</td>\n",
       "      <td>2</td>\n",
       "      <td>0.0002</td>\n",
       "      <td>8A COACHMAN APARTMENTS, DOMINICK STREET, CO GA...</td>\n",
       "      <td>2</td>\n",
       "      <td>0.0002</td>\n",
       "    </tr>\n",
       "    <tr>\n",
       "      <th>Postal Code</th>\n",
       "      <td>Dublin 15</td>\n",
       "      <td>232</td>\n",
       "      <td>0.124731</td>\n",
       "      <td>Dublin 18</td>\n",
       "      <td>143</td>\n",
       "      <td>0.076882</td>\n",
       "    </tr>\n",
       "    <tr>\n",
       "      <th>County</th>\n",
       "      <td>Dublin</td>\n",
       "      <td>3193</td>\n",
       "      <td>0.3193</td>\n",
       "      <td>Cork</td>\n",
       "      <td>1099</td>\n",
       "      <td>0.1099</td>\n",
       "    </tr>\n",
       "    <tr>\n",
       "      <th>Not Full Market Price</th>\n",
       "      <td>No</td>\n",
       "      <td>9552</td>\n",
       "      <td>0.9552</td>\n",
       "      <td>Yes</td>\n",
       "      <td>448</td>\n",
       "      <td>0.0448</td>\n",
       "    </tr>\n",
       "    <tr>\n",
       "      <th>VAT Exclusive</th>\n",
       "      <td>No</td>\n",
       "      <td>8399</td>\n",
       "      <td>0.8399</td>\n",
       "      <td>Yes</td>\n",
       "      <td>1601</td>\n",
       "      <td>0.1601</td>\n",
       "    </tr>\n",
       "    <tr>\n",
       "      <th>Description of Property</th>\n",
       "      <td>Second-Hand Dwelling house /Apartment</td>\n",
       "      <td>8364</td>\n",
       "      <td>0.8364</td>\n",
       "      <td>New Dwelling house /Apartment</td>\n",
       "      <td>1636</td>\n",
       "      <td>0.1636</td>\n",
       "    </tr>\n",
       "  </tbody>\n",
       "</table>\n",
       "</div>"
      ],
      "text/plain": [
       "                                                                      mode  \\\n",
       "Address                  APT 64 THOMOND VILLAGE, BALLYGRENNAN, THOMOND ...   \n",
       "Postal Code                                                      Dublin 15   \n",
       "County                                                              Dublin   \n",
       "Not Full Market Price                                                   No   \n",
       "VAT Exclusive                                                           No   \n",
       "Description of Property              Second-Hand Dwelling house /Apartment   \n",
       "\n",
       "                        freq_mode     %mode  \\\n",
       "Address                         2    0.0002   \n",
       "Postal Code                   232  0.124731   \n",
       "County                       3193    0.3193   \n",
       "Not Full Market Price        9552    0.9552   \n",
       "VAT Exclusive                8399    0.8399   \n",
       "Description of Property      8364    0.8364   \n",
       "\n",
       "                                                                   2ndmode  \\\n",
       "Address                  8A COACHMAN APARTMENTS, DOMINICK STREET, CO GA...   \n",
       "Postal Code                                                      Dublin 18   \n",
       "County                                                                Cork   \n",
       "Not Full Market Price                                                  Yes   \n",
       "VAT Exclusive                                                          Yes   \n",
       "Description of Property                      New Dwelling house /Apartment   \n",
       "\n",
       "                        freq_2ndmode  %2ndmode  \n",
       "Address                            2    0.0002  \n",
       "Postal Code                      143  0.076882  \n",
       "County                          1099    0.1099  \n",
       "Not Full Market Price            448    0.0448  \n",
       "VAT Exclusive                   1601    0.1601  \n",
       "Description of Property         1636    0.1636  "
      ]
     },
     "execution_count": 41,
     "metadata": {},
     "output_type": "execute_result"
    }
   ],
   "source": [
    "df_category_mode"
   ]
  },
  {
   "cell_type": "code",
   "execution_count": 42,
   "id": "e937f640",
   "metadata": {},
   "outputs": [
    {
     "data": {
      "text/html": [
       "<div>\n",
       "<style scoped>\n",
       "    .dataframe tbody tr th:only-of-type {\n",
       "        vertical-align: middle;\n",
       "    }\n",
       "\n",
       "    .dataframe tbody tr th {\n",
       "        vertical-align: top;\n",
       "    }\n",
       "\n",
       "    .dataframe thead th {\n",
       "        text-align: right;\n",
       "    }\n",
       "</style>\n",
       "<table border=\"1\" class=\"dataframe\">\n",
       "  <thead>\n",
       "    <tr style=\"text-align: right;\">\n",
       "      <th></th>\n",
       "      <th>%missing</th>\n",
       "    </tr>\n",
       "  </thead>\n",
       "  <tbody>\n",
       "    <tr>\n",
       "      <th>Address</th>\n",
       "      <td>0.0</td>\n",
       "    </tr>\n",
       "    <tr>\n",
       "      <th>Postal Code</th>\n",
       "      <td>81.4</td>\n",
       "    </tr>\n",
       "    <tr>\n",
       "      <th>County</th>\n",
       "      <td>0.0</td>\n",
       "    </tr>\n",
       "    <tr>\n",
       "      <th>Not Full Market Price</th>\n",
       "      <td>0.0</td>\n",
       "    </tr>\n",
       "    <tr>\n",
       "      <th>VAT Exclusive</th>\n",
       "      <td>0.0</td>\n",
       "    </tr>\n",
       "    <tr>\n",
       "      <th>Description of Property</th>\n",
       "      <td>0.0</td>\n",
       "    </tr>\n",
       "  </tbody>\n",
       "</table>\n",
       "</div>"
      ],
      "text/plain": [
       "                         %missing\n",
       "Address                       0.0\n",
       "Postal Code                  81.4\n",
       "County                        0.0\n",
       "Not Full Market Price         0.0\n",
       "VAT Exclusive                 0.0\n",
       "Description of Property       0.0"
      ]
     },
     "execution_count": 42,
     "metadata": {},
     "output_type": "execute_result"
    }
   ],
   "source": [
    "# Prepare %missing column\n",
    "category_columns_perc_missing  = 100 * (df[category_columns].isnull().sum()/df.shape[0])\n",
    "#category_columns_perc_missing\n",
    "\n",
    "# Store the values in a dataframe\n",
    "df_category_perc_missing = pd.DataFrame(category_columns_perc_missing, columns=['%missing'])\n",
    "df_category_perc_missing"
   ]
  },
  {
   "cell_type": "code",
   "execution_count": 43,
   "id": "387f207b",
   "metadata": {},
   "outputs": [
    {
     "data": {
      "text/html": [
       "<div>\n",
       "<style scoped>\n",
       "    .dataframe tbody tr th:only-of-type {\n",
       "        vertical-align: middle;\n",
       "    }\n",
       "\n",
       "    .dataframe tbody tr th {\n",
       "        vertical-align: top;\n",
       "    }\n",
       "\n",
       "    .dataframe thead th {\n",
       "        text-align: right;\n",
       "    }\n",
       "</style>\n",
       "<table border=\"1\" class=\"dataframe\">\n",
       "  <thead>\n",
       "    <tr style=\"text-align: right;\">\n",
       "      <th></th>\n",
       "      <th>count</th>\n",
       "      <th>unique</th>\n",
       "      <th>top</th>\n",
       "      <th>freq</th>\n",
       "      <th>mode</th>\n",
       "      <th>freq_mode</th>\n",
       "      <th>%mode</th>\n",
       "      <th>2ndmode</th>\n",
       "      <th>freq_2ndmode</th>\n",
       "      <th>%2ndmode</th>\n",
       "      <th>%missing</th>\n",
       "    </tr>\n",
       "  </thead>\n",
       "  <tbody>\n",
       "    <tr>\n",
       "      <th>Address</th>\n",
       "      <td>10000</td>\n",
       "      <td>9980</td>\n",
       "      <td>APT 64 THOMOND VILLAGE, BALLYGRENNAN, THOMOND ...</td>\n",
       "      <td>2</td>\n",
       "      <td>APT 64 THOMOND VILLAGE, BALLYGRENNAN, THOMOND ...</td>\n",
       "      <td>2</td>\n",
       "      <td>0.0002</td>\n",
       "      <td>8A COACHMAN APARTMENTS, DOMINICK STREET, CO GA...</td>\n",
       "      <td>2</td>\n",
       "      <td>0.0002</td>\n",
       "      <td>0.0</td>\n",
       "    </tr>\n",
       "    <tr>\n",
       "      <th>Postal Code</th>\n",
       "      <td>1860</td>\n",
       "      <td>22</td>\n",
       "      <td>Dublin 15</td>\n",
       "      <td>232</td>\n",
       "      <td>Dublin 15</td>\n",
       "      <td>232</td>\n",
       "      <td>0.124731</td>\n",
       "      <td>Dublin 18</td>\n",
       "      <td>143</td>\n",
       "      <td>0.076882</td>\n",
       "      <td>81.4</td>\n",
       "    </tr>\n",
       "    <tr>\n",
       "      <th>County</th>\n",
       "      <td>10000</td>\n",
       "      <td>26</td>\n",
       "      <td>Dublin</td>\n",
       "      <td>3193</td>\n",
       "      <td>Dublin</td>\n",
       "      <td>3193</td>\n",
       "      <td>0.3193</td>\n",
       "      <td>Cork</td>\n",
       "      <td>1099</td>\n",
       "      <td>0.1099</td>\n",
       "      <td>0.0</td>\n",
       "    </tr>\n",
       "    <tr>\n",
       "      <th>Not Full Market Price</th>\n",
       "      <td>10000</td>\n",
       "      <td>2</td>\n",
       "      <td>No</td>\n",
       "      <td>9552</td>\n",
       "      <td>No</td>\n",
       "      <td>9552</td>\n",
       "      <td>0.9552</td>\n",
       "      <td>Yes</td>\n",
       "      <td>448</td>\n",
       "      <td>0.0448</td>\n",
       "      <td>0.0</td>\n",
       "    </tr>\n",
       "    <tr>\n",
       "      <th>VAT Exclusive</th>\n",
       "      <td>10000</td>\n",
       "      <td>2</td>\n",
       "      <td>No</td>\n",
       "      <td>8399</td>\n",
       "      <td>No</td>\n",
       "      <td>8399</td>\n",
       "      <td>0.8399</td>\n",
       "      <td>Yes</td>\n",
       "      <td>1601</td>\n",
       "      <td>0.1601</td>\n",
       "      <td>0.0</td>\n",
       "    </tr>\n",
       "    <tr>\n",
       "      <th>Description of Property</th>\n",
       "      <td>10000</td>\n",
       "      <td>2</td>\n",
       "      <td>Second-Hand Dwelling house /Apartment</td>\n",
       "      <td>8364</td>\n",
       "      <td>Second-Hand Dwelling house /Apartment</td>\n",
       "      <td>8364</td>\n",
       "      <td>0.8364</td>\n",
       "      <td>New Dwelling house /Apartment</td>\n",
       "      <td>1636</td>\n",
       "      <td>0.1636</td>\n",
       "      <td>0.0</td>\n",
       "    </tr>\n",
       "  </tbody>\n",
       "</table>\n",
       "</div>"
      ],
      "text/plain": [
       "                         count unique  \\\n",
       "Address                  10000   9980   \n",
       "Postal Code               1860     22   \n",
       "County                   10000     26   \n",
       "Not Full Market Price    10000      2   \n",
       "VAT Exclusive            10000      2   \n",
       "Description of Property  10000      2   \n",
       "\n",
       "                                                                       top  \\\n",
       "Address                  APT 64 THOMOND VILLAGE, BALLYGRENNAN, THOMOND ...   \n",
       "Postal Code                                                      Dublin 15   \n",
       "County                                                              Dublin   \n",
       "Not Full Market Price                                                   No   \n",
       "VAT Exclusive                                                           No   \n",
       "Description of Property              Second-Hand Dwelling house /Apartment   \n",
       "\n",
       "                         freq  \\\n",
       "Address                     2   \n",
       "Postal Code               232   \n",
       "County                   3193   \n",
       "Not Full Market Price    9552   \n",
       "VAT Exclusive            8399   \n",
       "Description of Property  8364   \n",
       "\n",
       "                                                                      mode  \\\n",
       "Address                  APT 64 THOMOND VILLAGE, BALLYGRENNAN, THOMOND ...   \n",
       "Postal Code                                                      Dublin 15   \n",
       "County                                                              Dublin   \n",
       "Not Full Market Price                                                   No   \n",
       "VAT Exclusive                                                           No   \n",
       "Description of Property              Second-Hand Dwelling house /Apartment   \n",
       "\n",
       "                        freq_mode     %mode  \\\n",
       "Address                         2    0.0002   \n",
       "Postal Code                   232  0.124731   \n",
       "County                       3193    0.3193   \n",
       "Not Full Market Price        9552    0.9552   \n",
       "VAT Exclusive                8399    0.8399   \n",
       "Description of Property      8364    0.8364   \n",
       "\n",
       "                                                                   2ndmode  \\\n",
       "Address                  8A COACHMAN APARTMENTS, DOMINICK STREET, CO GA...   \n",
       "Postal Code                                                      Dublin 18   \n",
       "County                                                                Cork   \n",
       "Not Full Market Price                                                  Yes   \n",
       "VAT Exclusive                                                          Yes   \n",
       "Description of Property                      New Dwelling house /Apartment   \n",
       "\n",
       "                        freq_2ndmode  %2ndmode  %missing  \n",
       "Address                            2    0.0002       0.0  \n",
       "Postal Code                      143  0.076882      81.4  \n",
       "County                          1099    0.1099       0.0  \n",
       "Not Full Market Price            448    0.0448       0.0  \n",
       "VAT Exclusive                   1601    0.1601       0.0  \n",
       "Description of Property         1636    0.1636       0.0  "
      ]
     },
     "execution_count": 43,
     "metadata": {},
     "output_type": "execute_result"
    }
   ],
   "source": [
    "# Put the columns together to prepare the final table \n",
    "df_category_columns_data_quality_report_table = pd.concat([df[category_columns].describe().T, df_category_mode, df_category_perc_missing], axis=1)\n",
    "\n",
    "df_category_columns_data_quality_report_table"
   ]
  },
  {
   "cell_type": "markdown",
   "id": "5b4e56be",
   "metadata": {},
   "source": [
    "# Visualisation- Data Quality Report"
   ]
  },
  {
   "cell_type": "markdown",
   "id": "4ebefda9",
   "metadata": {},
   "source": [
    "### Price feature"
   ]
  },
  {
   "cell_type": "code",
   "execution_count": 44,
   "id": "e4006cc7",
   "metadata": {},
   "outputs": [
    {
     "data": {
      "text/plain": [
       "array([[<AxesSubplot:title={'center':'Price (€)'}>]], dtype=object)"
      ]
     },
     "execution_count": 44,
     "metadata": {},
     "output_type": "execute_result"
    },
    {
     "data": {
      "image/png": "[encoded data removed]",
      "text/plain": [
       "<Figure size 432x288 with 1 Axes>"
      ]
     },
     "metadata": {
      "needs_background": "light"
     },
     "output_type": "display_data"
    }
   ],
   "source": [
    "df[numeric_columns].hist()"
   ]
  },
  {
   "cell_type": "code",
   "execution_count": 45,
   "id": "1017dc6a",
   "metadata": {},
   "outputs": [
    {
     "data": {
      "text/plain": [
       "array([[<AxesSubplot:ylabel='Frequency'>,\n",
       "        <AxesSubplot:ylabel='Frequency'>,\n",
       "        <AxesSubplot:ylabel='Frequency'>,\n",
       "        <AxesSubplot:ylabel='Frequency'>],\n",
       "       [<AxesSubplot:ylabel='Frequency'>,\n",
       "        <AxesSubplot:ylabel='Frequency'>,\n",
       "        <AxesSubplot:ylabel='Frequency'>,\n",
       "        <AxesSubplot:ylabel='Frequency'>],\n",
       "       [<AxesSubplot:ylabel='Frequency'>,\n",
       "        <AxesSubplot:ylabel='Frequency'>,\n",
       "        <AxesSubplot:ylabel='Frequency'>,\n",
       "        <AxesSubplot:ylabel='Frequency'>],\n",
       "       [<AxesSubplot:ylabel='Frequency'>,\n",
       "        <AxesSubplot:ylabel='Frequency'>,\n",
       "        <AxesSubplot:ylabel='Frequency'>,\n",
       "        <AxesSubplot:ylabel='Frequency'>]], dtype=object)"
      ]
     },
     "execution_count": 45,
     "metadata": {},
     "output_type": "execute_result"
    },
    {
     "data": {
      "image/png": "[encoded data removed]",
      "text/plain": [
       "<Figure size 2160x2160 with 16 Axes>"
      ]
     },
     "metadata": {
      "needs_background": "light"
     },
     "output_type": "display_data"
    }
   ],
   "source": [
    "df[numeric_columns].plot(kind='hist', subplots=True, figsize=(30,30), layout=(4,4), sharex=False, sharey=False)\n"
   ]
  },
  {
   "cell_type": "markdown",
   "id": "1c7e1bf0",
   "metadata": {},
   "source": [
    "### It is clear from the looking at these histograms of price that there is a large range of values, that is heavily right skewed"
   ]
  },
  {
   "cell_type": "code",
   "execution_count": 46,
   "id": "bfc2569b",
   "metadata": {},
   "outputs": [
    {
     "data": {
      "image/png": "[encoded data removed]",
      "text/plain": [
       "<Figure size 1368x864 with 1 Axes>"
      ]
     },
     "metadata": {
      "needs_background": "light"
     },
     "output_type": "display_data"
    }
   ],
   "source": [
    "df.hist(column='Price (€)', bins='auto', grid=False, figsize=(19,12), color='#86bf91', zorder=2, rwidth=.9)\n",
    "plt.savefig('Homework1-DataQualityReport-NumericFeatures-histograms_all_1-1.pdf')\n"
   ]
  },
  {
   "cell_type": "code",
   "execution_count": 47,
   "id": "aeed169e",
   "metadata": {},
   "outputs": [
    {
     "data": {
      "text/plain": [
       "(array([1.65242135e-06, 7.52373125e-08, 1.24229051e-08, 5.07414433e-09,\n",
       "        1.04982296e-09, 8.74852471e-10, 1.74970494e-10, 3.49940988e-10,\n",
       "        3.49940988e-10, 1.74970494e-10, 3.49940988e-10, 3.49940988e-10,\n",
       "        1.74970494e-10, 1.74970494e-10, 0.00000000e+00, 0.00000000e+00,\n",
       "        1.74970494e-10, 0.00000000e+00, 0.00000000e+00, 0.00000000e+00,\n",
       "        0.00000000e+00, 0.00000000e+00, 0.00000000e+00, 0.00000000e+00,\n",
       "        0.00000000e+00, 0.00000000e+00, 0.00000000e+00, 0.00000000e+00,\n",
       "        1.74970494e-10, 1.74970494e-10]),\n",
       " array([5.50000000e+03, 5.77024933e+05, 1.14854987e+06, 1.72007480e+06,\n",
       "        2.29159973e+06, 2.86312467e+06, 3.43464960e+06, 4.00617453e+06,\n",
       "        4.57769947e+06, 5.14922440e+06, 5.72074933e+06, 6.29227427e+06,\n",
       "        6.86379920e+06, 7.43532413e+06, 8.00684907e+06, 8.57837400e+06,\n",
       "        9.14989893e+06, 9.72142387e+06, 1.02929488e+07, 1.08644737e+07,\n",
       "        1.14359987e+07, 1.20075236e+07, 1.25790485e+07, 1.31505735e+07,\n",
       "        1.37220984e+07, 1.42936233e+07, 1.48651483e+07, 1.54366732e+07,\n",
       "        1.60081981e+07, 1.65797231e+07, 1.71512480e+07]),\n",
       " [<matplotlib.patches.Polygon at 0x22af8a8dd30>])"
      ]
     },
     "execution_count": 47,
     "metadata": {},
     "output_type": "execute_result"
    },
    {
     "data": {
      "image/png": "[encoded data removed]",
      "text/plain": [
       "<Figure size 432x288 with 1 Axes>"
      ]
     },
     "metadata": {
      "needs_background": "light"
     },
     "output_type": "display_data"
    }
   ],
   "source": [
    "plt.hist(df['Price (€)'], bins=30, density=True, stacked= True, alpha=0.5,\n",
    "         histtype='stepfilled', color='steelblue',\n",
    "         edgecolor='none')\n",
    "# ax = df.hist(column='Price (€)', bins='auto', grid=False, figsize=(12,8), color='#86bf91', zorder=2, rwidth=0.9)\n",
    "# ax"
   ]
  },
  {
   "cell_type": "markdown",
   "id": "a96c4af8",
   "metadata": {},
   "source": [
    "Box Plot of Price"
   ]
  },
  {
   "cell_type": "markdown",
   "id": "83f05ecb",
   "metadata": {},
   "source": [
    "From the box plot you can see there is a significant number of outliers"
   ]
  },
  {
   "cell_type": "code",
   "execution_count": null,
   "id": "e9aa430f",
   "metadata": {},
   "outputs": [],
   "source": []
  },
  {
   "cell_type": "code",
   "execution_count": 48,
   "id": "24756b45",
   "metadata": {},
   "outputs": [
    {
     "data": {
      "image/png": "[encoded data removed]",
      "text/plain": [
       "<Figure size 2160x2160 with 9 Axes>"
      ]
     },
     "metadata": {
      "needs_background": "light"
     },
     "output_type": "display_data"
    }
   ],
   "source": [
    "df[numeric_columns].plot(kind='box', subplots=True, figsize=(30,30), layout=(3,3), sharex=False, sharey=False)\n",
    "plt.savefig('HomeWork-DataQualityReport-NumericFeatures-boxplots_all_1-1.pdf')"
   ]
  },
  {
   "cell_type": "markdown",
   "id": "82c53155",
   "metadata": {},
   "source": [
    "### Date of Sale feature "
   ]
  },
  {
   "cell_type": "code",
   "execution_count": 49,
   "id": "759b1099",
   "metadata": {},
   "outputs": [
    {
     "data": {
      "text/plain": [
       "<AxesSubplot:>"
      ]
     },
     "execution_count": 49,
     "metadata": {},
     "output_type": "execute_result"
    },
    {
     "data": {
      "image/png": "[encoded data removed]",
      "text/plain": [
       "<Figure size 432x288 with 1 Axes>"
      ]
     },
     "metadata": {
      "needs_background": "light"
     },
     "output_type": "display_data"
    }
   ],
   "source": [
    "df['Date of Sale (dd/mm/yyyy)'].hist()"
   ]
  },
  {
   "cell_type": "code",
   "execution_count": 50,
   "id": "8bb7ac6b",
   "metadata": {},
   "outputs": [
    {
     "data": {
      "text/plain": [
       "<AxesSubplot:>"
      ]
     },
     "execution_count": 50,
     "metadata": {},
     "output_type": "execute_result"
    },
    {
     "data": {
      "image/png": "[encoded data removed]",
      "text/plain": [
       "<Figure size 432x288 with 1 Axes>"
      ]
     },
     "metadata": {
      "needs_background": "light"
     },
     "output_type": "display_data"
    }
   ],
   "source": [
    "df['Year'].hist()"
   ]
  },
  {
   "cell_type": "code",
   "execution_count": 51,
   "id": "b1b67b17",
   "metadata": {},
   "outputs": [
    {
     "data": {
      "text/plain": [
       "<AxesSubplot:>"
      ]
     },
     "execution_count": 51,
     "metadata": {},
     "output_type": "execute_result"
    },
    {
     "data": {
      "image/png": "[encoded data removed]",
      "text/plain": [
       "<Figure size 432x288 with 1 Axes>"
      ]
     },
     "metadata": {
      "needs_background": "light"
     },
     "output_type": "display_data"
    }
   ],
   "source": [
    "df['Month'].hist()"
   ]
  },
  {
   "cell_type": "markdown",
   "id": "f8189a3b",
   "metadata": {},
   "source": [
    "### Bar Charts for All Catergotical Features"
   ]
  },
  {
   "cell_type": "code",
   "execution_count": 52,
   "id": "e5a48d56",
   "metadata": {},
   "outputs": [
    {
     "data": {
      "image/png": "[encoded data removed]",
      "text/plain": [
       "<Figure size 360x360 with 1 Axes>"
      ]
     },
     "metadata": {
      "needs_background": "light"
     },
     "output_type": "display_data"
    },
    {
     "data": {
      "image/png": "[encoded data removed]",
      "text/plain": [
       "<Figure size 360x360 with 1 Axes>"
      ]
     },
     "metadata": {
      "needs_background": "light"
     },
     "output_type": "display_data"
    },
    {
     "data": {
      "image/png": "[encoded data removed]",
      "text/plain": [
       "<Figure size 360x360 with 1 Axes>"
      ]
     },
     "metadata": {
      "needs_background": "light"
     },
     "output_type": "display_data"
    },
    {
     "data": {
      "image/png": "[encoded data removed]",
      "text/plain": [
       "<Figure size 360x360 with 1 Axes>"
      ]
     },
     "metadata": {
      "needs_background": "light"
     },
     "output_type": "display_data"
    },
    {
     "data": {
      "image/png": "[encoded data removed]",
      "text/plain": [
       "<Figure size 360x360 with 1 Axes>"
      ]
     },
     "metadata": {
      "needs_background": "light"
     },
     "output_type": "display_data"
    },
    {
     "data": {
      "image/png": "[encoded data removed]",
      "text/plain": [
       "<Figure size 360x360 with 1 Axes>"
      ]
     },
     "metadata": {
      "needs_background": "light"
     },
     "output_type": "display_data"
    }
   ],
   "source": [
    "# Plot bar charts for all categorical features and save them in a single PDF file\n",
    "pp = PdfPages('Homework1-DataQualityReport-CategoricalFeatures_barcharts_1-1.pdf')\n",
    "\n",
    "# We can set the parameters for .value_counts() to not drop the na. This allows us to see missing data in our \n",
    "# categorical features.\n",
    "for column in category_columns:\n",
    "    f = df[column].value_counts(dropna=False).plot(kind='bar', title=column, figsize=(5,5))\n",
    "    pp.savefig(f.get_figure())\n",
    "    plt.show()\n",
    "\n",
    "pp.close()"
   ]
  },
  {
   "cell_type": "code",
   "execution_count": null,
   "id": "ca1d3ebc",
   "metadata": {},
   "outputs": [],
   "source": []
  },
  {
   "cell_type": "markdown",
   "id": "3c987c03",
   "metadata": {},
   "source": [
    "## Part 2: data quality plan for the cleaned CSV file"
   ]
  },
  {
   "cell_type": "markdown",
   "id": "82619650",
   "metadata": {},
   "source": [
    "### List of data quality issues and proposed solutions"
   ]
  },
  {
   "cell_type": "markdown",
   "id": "60ab27f9",
   "metadata": {},
   "source": [
    "Date of Sale (dd/mm/yyyy): This data was converted to datetime. I will extract the months and the years in order to compare them to other features. \n",
    "\n",
    "Postal Code:Large proportion missing. Opted to keep as could provide further geographical information about Dublin\n",
    "\n",
    "Price: Large variance in data makes it difficult for interpretation. There is potential to remove outliers\n",
    "\n",
    "Description of Property: Irish descriptions were tranlated so there were only two unique values for consistency.\n",
    "\n",
    "Property Size Description: This feature was dropped as data was vague and the majority of the data was missing. \n"
   ]
  },
  {
   "cell_type": "code",
   "execution_count": null,
   "id": "35a5bfe8",
   "metadata": {},
   "outputs": [],
   "source": []
  },
  {
   "cell_type": "code",
   "execution_count": null,
   "id": "418c72a4",
   "metadata": {},
   "outputs": [],
   "source": []
  },
  {
   "cell_type": "markdown",
   "id": "1b5f0729",
   "metadata": {},
   "source": [
    "| Variable Name | Data Quality Issue | Handling Stratergy |\n",
    "| --- | --- | --- |\n",
    "| Price (€) | Outliers | Do nothing |\n",
    "| Postal Code | Outliers | Do nothing |\n",
    "| Description of Property | Outliers | Do nothing |\n",
    "| Propert Size Description | Outliers | Do nothing |"
   ]
  },
  {
   "cell_type": "markdown",
   "id": "4b3bc668",
   "metadata": {},
   "source": [
    "#### Applying solutions to new csv file with the issues addressed:"
   ]
  },
  {
   "cell_type": "code",
   "execution_count": 56,
   "id": "7a5644e8",
   "metadata": {},
   "outputs": [],
   "source": [
    "df.to_csv('cleanedCSV_after_data_quality_plan-ppr-17350796.csv', index=False)"
   ]
  },
  {
   "cell_type": "markdown",
   "id": "5563ec54",
   "metadata": {},
   "source": [
    "## Part 3: Exploring the relationships between feature pairs:"
   ]
  },
  {
   "cell_type": "code",
   "execution_count": 54,
   "id": "3438e790",
   "metadata": {},
   "outputs": [
    {
     "data": {
      "text/plain": [
       "<AxesSubplot:xlabel='Price (€)', ylabel='Month'>"
      ]
     },
     "execution_count": 54,
     "metadata": {},
     "output_type": "execute_result"
    },
    {
     "data": {
      "image/png": "[encoded data removed]",
      "text/plain": [
       "<Figure size 432x288 with 1 Axes>"
      ]
     },
     "metadata": {
      "needs_background": "light"
     },
     "output_type": "display_data"
    }
   ],
   "source": [
    "df.plot.scatter(x = 'Price (€)', y = 'Month')"
   ]
  },
  {
   "cell_type": "code",
   "execution_count": null,
   "id": "e47cd88f",
   "metadata": {},
   "outputs": [],
   "source": []
  },
  {
   "cell_type": "code",
   "execution_count": null,
   "id": "9b6b9f1f",
   "metadata": {},
   "outputs": [],
   "source": []
  }
 ],
 "metadata": {
  "kernelspec": {
   "display_name": "Python 3",
   "language": "python",
   "name": "python3"
  },
  "language_info": {
   "codemirror_mode": {
    "name": "ipython",
    "version": 3
   },
   "file_extension": ".py",
   "mimetype": "text/x-python",
   "name": "python",
   "nbconvert_exporter": "python",
   "pygments_lexer": "ipython3",
   "version": "3.8.8"
  }
 },
 "nbformat": 4,
 "nbformat_minor": 5
}
