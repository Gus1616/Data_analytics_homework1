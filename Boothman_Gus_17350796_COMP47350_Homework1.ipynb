{
 "cells": [
  {
   "cell_type": "markdown",
   "id": "9b592e7e",
   "metadata": {},
   "source": [
    "# HomeWork 1- 17350796"
   ]
  },
  {
   "cell_type": "markdown",
   "id": "fb4bec8d",
   "metadata": {},
   "source": [
    "It includes Date of Sale, Price and Address of all residential properties purchased in Ireland since the 1st January 2010, \n",
    "as declared to the Revenue Commissioners for stamp duty purposes"
   ]
  },
  {
   "cell_type": "markdown",
   "id": "ae786582",
   "metadata": {},
   "source": [
    "Question 1: Preparing the data from CSV\n",
    "\n"
   ]
  },
  {
   "cell_type": "code",
   "execution_count": 3,
   "id": "ad56d8a6",
   "metadata": {},
   "outputs": [],
   "source": [
    "import pandas as pd\n",
    "\n",
    "import numpy as np\n",
    "\n",
    "import matplotlib.pyplot as plt\n",
    "\n",
    "%matplotlib inline\n",
    "\n",
    "from matplotlib.backends.backend_pdf import PdfPages"
   ]
  },
  {
   "cell_type": "markdown",
   "id": "8d949b9b",
   "metadata": {},
   "source": [
    "first 5 rows "
   ]
  },
  {
   "cell_type": "code",
   "execution_count": 12,
   "id": "28002acc",
   "metadata": {
    "scrolled": true
   },
   "outputs": [
    {
     "data": {
      "text/html": [
       "<div>\n",
       "<style scoped>\n",
       "    .dataframe tbody tr th:only-of-type {\n",
       "        vertical-align: middle;\n",
       "    }\n",
       "\n",
       "    .dataframe tbody tr th {\n",
       "        vertical-align: top;\n",
       "    }\n",
       "\n",
       "    .dataframe thead th {\n",
       "        text-align: right;\n",
       "    }\n",
       "</style>\n",
       "<table border=\"1\" class=\"dataframe\">\n",
       "  <thead>\n",
       "    <tr style=\"text-align: right;\">\n",
       "      <th></th>\n",
       "      <th>Date of Sale (dd/mm/yyyy)</th>\n",
       "      <th>Address</th>\n",
       "      <th>Postal Code</th>\n",
       "      <th>County</th>\n",
       "      <th>Price (€)</th>\n",
       "      <th>Not Full Market Price</th>\n",
       "      <th>VAT Exclusive</th>\n",
       "      <th>Description of Property</th>\n",
       "      <th>Property Size Description</th>\n",
       "    </tr>\n",
       "  </thead>\n",
       "  <tbody>\n",
       "    <tr>\n",
       "      <th>0</th>\n",
       "      <td>06/05/2016</td>\n",
       "      <td>21 CURZON ST, PORTOBELLO, DUBLIN 8</td>\n",
       "      <td>Dublin 8</td>\n",
       "      <td>Dublin</td>\n",
       "      <td>€630,000.00</td>\n",
       "      <td>No</td>\n",
       "      <td>No</td>\n",
       "      <td>Second-Hand Dwelling house /Apartment</td>\n",
       "      <td>NaN</td>\n",
       "    </tr>\n",
       "    <tr>\n",
       "      <th>1</th>\n",
       "      <td>22/12/2014</td>\n",
       "      <td>44 ROTHE ABBEY, KILMAINHAM, DUBLIN 8</td>\n",
       "      <td>Dublin 8</td>\n",
       "      <td>Dublin</td>\n",
       "      <td>€281,000.00</td>\n",
       "      <td>No</td>\n",
       "      <td>No</td>\n",
       "      <td>Second-Hand Dwelling house /Apartment</td>\n",
       "      <td>NaN</td>\n",
       "    </tr>\n",
       "    <tr>\n",
       "      <th>2</th>\n",
       "      <td>22/05/2020</td>\n",
       "      <td>17 MERRION PARK, BLACKROCK, DUBLIN</td>\n",
       "      <td>NaN</td>\n",
       "      <td>Dublin</td>\n",
       "      <td>€560,000.00</td>\n",
       "      <td>No</td>\n",
       "      <td>No</td>\n",
       "      <td>Second-Hand Dwelling house /Apartment</td>\n",
       "      <td>NaN</td>\n",
       "    </tr>\n",
       "    <tr>\n",
       "      <th>3</th>\n",
       "      <td>27/11/2014</td>\n",
       "      <td>KNOCKROE, RATHMOYLE, CO.KILKENNY</td>\n",
       "      <td>NaN</td>\n",
       "      <td>Kilkenny</td>\n",
       "      <td>€46,000.00</td>\n",
       "      <td>No</td>\n",
       "      <td>No</td>\n",
       "      <td>Second-Hand Dwelling house /Apartment</td>\n",
       "      <td>NaN</td>\n",
       "    </tr>\n",
       "    <tr>\n",
       "      <th>4</th>\n",
       "      <td>22/11/2018</td>\n",
       "      <td>15 SHANNON PARK, LIFFORD RD, ENNIS</td>\n",
       "      <td>NaN</td>\n",
       "      <td>Clare</td>\n",
       "      <td>€204,000.00</td>\n",
       "      <td>No</td>\n",
       "      <td>No</td>\n",
       "      <td>Second-Hand Dwelling house /Apartment</td>\n",
       "      <td>NaN</td>\n",
       "    </tr>\n",
       "  </tbody>\n",
       "</table>\n",
       "</div>"
      ],
      "text/plain": [
       "  Date of Sale (dd/mm/yyyy)                               Address Postal Code  \\\n",
       "0                06/05/2016    21 CURZON ST, PORTOBELLO, DUBLIN 8    Dublin 8   \n",
       "1                22/12/2014  44 ROTHE ABBEY, KILMAINHAM, DUBLIN 8    Dublin 8   \n",
       "2                22/05/2020    17 MERRION PARK, BLACKROCK, DUBLIN         NaN   \n",
       "3                27/11/2014      KNOCKROE, RATHMOYLE, CO.KILKENNY         NaN   \n",
       "4                22/11/2018    15 SHANNON PARK, LIFFORD RD, ENNIS         NaN   \n",
       "\n",
       "     County    Price (€) Not Full Market Price VAT Exclusive  \\\n",
       "0    Dublin  €630,000.00                    No            No   \n",
       "1    Dublin  €281,000.00                    No            No   \n",
       "2    Dublin  €560,000.00                    No            No   \n",
       "3  Kilkenny   €46,000.00                    No            No   \n",
       "4     Clare  €204,000.00                    No            No   \n",
       "\n",
       "                 Description of Property Property Size Description  \n",
       "0  Second-Hand Dwelling house /Apartment                       NaN  \n",
       "1  Second-Hand Dwelling house /Apartment                       NaN  \n",
       "2  Second-Hand Dwelling house /Apartment                       NaN  \n",
       "3  Second-Hand Dwelling house /Apartment                       NaN  \n",
       "4  Second-Hand Dwelling house /Apartment                       NaN  "
      ]
     },
     "execution_count": 12,
     "metadata": {},
     "output_type": "execute_result"
    }
   ],
   "source": [
    "df = pd.read_csv('ppr-17350796.csv', keep_default_na=True, sep=',\\s+', delimiter=',', skipinitialspace=True)\n",
    "# Show data frame first few rows\n",
    "df.head(5)"
   ]
  },
  {
   "cell_type": "markdown",
   "id": "0abdf833",
   "metadata": {},
   "source": [
    "Last 5 rows"
   ]
  },
  {
   "cell_type": "code",
   "execution_count": 13,
   "id": "9329791d",
   "metadata": {},
   "outputs": [
    {
     "data": {
      "text/html": [
       "<div>\n",
       "<style scoped>\n",
       "    .dataframe tbody tr th:only-of-type {\n",
       "        vertical-align: middle;\n",
       "    }\n",
       "\n",
       "    .dataframe tbody tr th {\n",
       "        vertical-align: top;\n",
       "    }\n",
       "\n",
       "    .dataframe thead th {\n",
       "        text-align: right;\n",
       "    }\n",
       "</style>\n",
       "<table border=\"1\" class=\"dataframe\">\n",
       "  <thead>\n",
       "    <tr style=\"text-align: right;\">\n",
       "      <th></th>\n",
       "      <th>Date of Sale (dd/mm/yyyy)</th>\n",
       "      <th>Address</th>\n",
       "      <th>Postal Code</th>\n",
       "      <th>County</th>\n",
       "      <th>Price (€)</th>\n",
       "      <th>Not Full Market Price</th>\n",
       "      <th>VAT Exclusive</th>\n",
       "      <th>Description of Property</th>\n",
       "      <th>Property Size Description</th>\n",
       "    </tr>\n",
       "  </thead>\n",
       "  <tbody>\n",
       "    <tr>\n",
       "      <th>9995</th>\n",
       "      <td>15/12/2017</td>\n",
       "      <td>KNOCKASARTNETT, KILLARNEY, KERRY</td>\n",
       "      <td>NaN</td>\n",
       "      <td>Kerry</td>\n",
       "      <td>€200,000.00</td>\n",
       "      <td>No</td>\n",
       "      <td>No</td>\n",
       "      <td>Second-Hand Dwelling house /Apartment</td>\n",
       "      <td>NaN</td>\n",
       "    </tr>\n",
       "    <tr>\n",
       "      <th>9996</th>\n",
       "      <td>18/12/2012</td>\n",
       "      <td>17 the court, cypress downs, templeogue</td>\n",
       "      <td>NaN</td>\n",
       "      <td>Dublin</td>\n",
       "      <td>€605,000.00</td>\n",
       "      <td>No</td>\n",
       "      <td>No</td>\n",
       "      <td>Second-Hand Dwelling house /Apartment</td>\n",
       "      <td>NaN</td>\n",
       "    </tr>\n",
       "    <tr>\n",
       "      <th>9997</th>\n",
       "      <td>14/12/2016</td>\n",
       "      <td>THE LOG CABIN, FORGE COTTAGE, CULLENSTOWN</td>\n",
       "      <td>NaN</td>\n",
       "      <td>Wexford</td>\n",
       "      <td>€46,666.67</td>\n",
       "      <td>No</td>\n",
       "      <td>No</td>\n",
       "      <td>Second-Hand Dwelling house /Apartment</td>\n",
       "      <td>NaN</td>\n",
       "    </tr>\n",
       "    <tr>\n",
       "      <th>9998</th>\n",
       "      <td>19/06/2017</td>\n",
       "      <td>CARRIG RD, PARKMORE, ROSCREA</td>\n",
       "      <td>NaN</td>\n",
       "      <td>Tipperary</td>\n",
       "      <td>€176,000.00</td>\n",
       "      <td>No</td>\n",
       "      <td>No</td>\n",
       "      <td>Second-Hand Dwelling house /Apartment</td>\n",
       "      <td>NaN</td>\n",
       "    </tr>\n",
       "    <tr>\n",
       "      <th>9999</th>\n",
       "      <td>02/11/2017</td>\n",
       "      <td>26 KILSHANE RD, FINGLAS, DUBLIN 11</td>\n",
       "      <td>Dublin 11</td>\n",
       "      <td>Dublin</td>\n",
       "      <td>€86,738.06</td>\n",
       "      <td>Yes</td>\n",
       "      <td>No</td>\n",
       "      <td>Second-Hand Dwelling house /Apartment</td>\n",
       "      <td>NaN</td>\n",
       "    </tr>\n",
       "  </tbody>\n",
       "</table>\n",
       "</div>"
      ],
      "text/plain": [
       "     Date of Sale (dd/mm/yyyy)                                    Address  \\\n",
       "9995                15/12/2017           KNOCKASARTNETT, KILLARNEY, KERRY   \n",
       "9996                18/12/2012    17 the court, cypress downs, templeogue   \n",
       "9997                14/12/2016  THE LOG CABIN, FORGE COTTAGE, CULLENSTOWN   \n",
       "9998                19/06/2017               CARRIG RD, PARKMORE, ROSCREA   \n",
       "9999                02/11/2017         26 KILSHANE RD, FINGLAS, DUBLIN 11   \n",
       "\n",
       "     Postal Code     County    Price (€) Not Full Market Price VAT Exclusive  \\\n",
       "9995         NaN      Kerry  €200,000.00                    No            No   \n",
       "9996         NaN     Dublin  €605,000.00                    No            No   \n",
       "9997         NaN    Wexford   €46,666.67                    No            No   \n",
       "9998         NaN  Tipperary  €176,000.00                    No            No   \n",
       "9999   Dublin 11     Dublin   €86,738.06                   Yes            No   \n",
       "\n",
       "                    Description of Property Property Size Description  \n",
       "9995  Second-Hand Dwelling house /Apartment                       NaN  \n",
       "9996  Second-Hand Dwelling house /Apartment                       NaN  \n",
       "9997  Second-Hand Dwelling house /Apartment                       NaN  \n",
       "9998  Second-Hand Dwelling house /Apartment                       NaN  \n",
       "9999  Second-Hand Dwelling house /Apartment                       NaN  "
      ]
     },
     "execution_count": 13,
     "metadata": {},
     "output_type": "execute_result"
    }
   ],
   "source": [
    "df.tail(5)"
   ]
  },
  {
   "cell_type": "code",
   "execution_count": 8,
   "id": "f2ef7475",
   "metadata": {},
   "outputs": [
    {
     "data": {
      "text/plain": [
       "9"
      ]
     },
     "execution_count": 8,
     "metadata": {},
     "output_type": "execute_result"
    }
   ],
   "source": [
    "row_count = sum(1 for row in df) \n",
    "row_count"
   ]
  },
  {
   "cell_type": "code",
   "execution_count": 11,
   "id": "ba1b80bf",
   "metadata": {},
   "outputs": [
    {
     "data": {
      "text/plain": [
       "(10000, 9)"
      ]
     },
     "execution_count": 11,
     "metadata": {},
     "output_type": "execute_result"
    }
   ],
   "source": [
    "# number of rows and columns\n",
    "df.shape"
   ]
  },
  {
   "cell_type": "code",
   "execution_count": null,
   "id": "1dc9316f",
   "metadata": {},
   "outputs": [],
   "source": []
  }
 ],
 "metadata": {
  "kernelspec": {
   "display_name": "Python 3",
   "language": "python",
   "name": "python3"
  },
  "language_info": {
   "codemirror_mode": {
    "name": "ipython",
    "version": 3
   },
   "file_extension": ".py",
   "mimetype": "text/x-python",
   "name": "python",
   "nbconvert_exporter": "python",
   "pygments_lexer": "ipython3",
   "version": "3.8.8"
  }
 },
 "nbformat": 4,
 "nbformat_minor": 5
}
