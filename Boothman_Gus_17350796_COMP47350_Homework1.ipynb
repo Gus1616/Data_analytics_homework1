{
 "cells": [
  {
   "cell_type": "markdown",
   "id": "bdcf1879",
   "metadata": {},
   "source": [
    "# HomeWork 1- 17350796"
   ]
  },
  {
   "cell_type": "markdown",
   "id": "cb3d5d01",
   "metadata": {},
   "source": [
    "It includes Date of Sale, Price and Address of all residential properties purchased in Ireland since the 1st January 2010, \n",
    "as declared to the Revenue Commissioners for stamp duty purposes\n",
    "csv file = ppr-17350796.csv"
   ]
  },
  {
   "cell_type": "markdown",
   "id": "c026a4f3",
   "metadata": {},
   "source": [
    "Question 1: Preparing the data from CSV\n",
    "\n"
   ]
  },
  {
   "cell_type": "code",
   "execution_count": 124,
   "id": "116bb473",
   "metadata": {},
   "outputs": [],
   "source": [
    "import pandas as pd\n",
    "\n",
    "import numpy as np\n",
    "\n",
    "import matplotlib.pyplot as plt\n",
    "\n",
    "%matplotlib inline\n",
    "\n",
    "from matplotlib.backends.backend_pdf import PdfPages"
   ]
  },
  {
   "cell_type": "markdown",
   "id": "ff6dde25",
   "metadata": {},
   "source": [
    "Reading in the data and displaying the first 5 rows:\n"
   ]
  },
  {
   "cell_type": "code",
   "execution_count": 125,
   "id": "284f783d",
   "metadata": {
    "scrolled": true
   },
   "outputs": [
    {
     "data": {
      "text/html": [
       "<div>\n",
       "<style scoped>\n",
       "    .dataframe tbody tr th:only-of-type {\n",
       "        vertical-align: middle;\n",
       "    }\n",
       "\n",
       "    .dataframe tbody tr th {\n",
       "        vertical-align: top;\n",
       "    }\n",
       "\n",
       "    .dataframe thead th {\n",
       "        text-align: right;\n",
       "    }\n",
       "</style>\n",
       "<table border=\"1\" class=\"dataframe\">\n",
       "  <thead>\n",
       "    <tr style=\"text-align: right;\">\n",
       "      <th></th>\n",
       "      <th>Date of Sale (dd/mm/yyyy)</th>\n",
       "      <th>Address</th>\n",
       "      <th>Postal Code</th>\n",
       "      <th>County</th>\n",
       "      <th>Price (€)</th>\n",
       "      <th>Not Full Market Price</th>\n",
       "      <th>VAT Exclusive</th>\n",
       "      <th>Description of Property</th>\n",
       "      <th>Property Size Description</th>\n",
       "    </tr>\n",
       "  </thead>\n",
       "  <tbody>\n",
       "    <tr>\n",
       "      <th>0</th>\n",
       "      <td>06/05/2016</td>\n",
       "      <td>21 CURZON ST, PORTOBELLO, DUBLIN 8</td>\n",
       "      <td>Dublin 8</td>\n",
       "      <td>Dublin</td>\n",
       "      <td>€630,000.00</td>\n",
       "      <td>No</td>\n",
       "      <td>No</td>\n",
       "      <td>Second-Hand Dwelling house /Apartment</td>\n",
       "      <td>NaN</td>\n",
       "    </tr>\n",
       "    <tr>\n",
       "      <th>1</th>\n",
       "      <td>22/12/2014</td>\n",
       "      <td>44 ROTHE ABBEY, KILMAINHAM, DUBLIN 8</td>\n",
       "      <td>Dublin 8</td>\n",
       "      <td>Dublin</td>\n",
       "      <td>€281,000.00</td>\n",
       "      <td>No</td>\n",
       "      <td>No</td>\n",
       "      <td>Second-Hand Dwelling house /Apartment</td>\n",
       "      <td>NaN</td>\n",
       "    </tr>\n",
       "    <tr>\n",
       "      <th>2</th>\n",
       "      <td>22/05/2020</td>\n",
       "      <td>17 MERRION PARK, BLACKROCK, DUBLIN</td>\n",
       "      <td>NaN</td>\n",
       "      <td>Dublin</td>\n",
       "      <td>€560,000.00</td>\n",
       "      <td>No</td>\n",
       "      <td>No</td>\n",
       "      <td>Second-Hand Dwelling house /Apartment</td>\n",
       "      <td>NaN</td>\n",
       "    </tr>\n",
       "    <tr>\n",
       "      <th>3</th>\n",
       "      <td>27/11/2014</td>\n",
       "      <td>KNOCKROE, RATHMOYLE, CO.KILKENNY</td>\n",
       "      <td>NaN</td>\n",
       "      <td>Kilkenny</td>\n",
       "      <td>€46,000.00</td>\n",
       "      <td>No</td>\n",
       "      <td>No</td>\n",
       "      <td>Second-Hand Dwelling house /Apartment</td>\n",
       "      <td>NaN</td>\n",
       "    </tr>\n",
       "    <tr>\n",
       "      <th>4</th>\n",
       "      <td>22/11/2018</td>\n",
       "      <td>15 SHANNON PARK, LIFFORD RD, ENNIS</td>\n",
       "      <td>NaN</td>\n",
       "      <td>Clare</td>\n",
       "      <td>€204,000.00</td>\n",
       "      <td>No</td>\n",
       "      <td>No</td>\n",
       "      <td>Second-Hand Dwelling house /Apartment</td>\n",
       "      <td>NaN</td>\n",
       "    </tr>\n",
       "  </tbody>\n",
       "</table>\n",
       "</div>"
      ],
      "text/plain": [
       "  Date of Sale (dd/mm/yyyy)                               Address Postal Code  \\\n",
       "0                06/05/2016    21 CURZON ST, PORTOBELLO, DUBLIN 8    Dublin 8   \n",
       "1                22/12/2014  44 ROTHE ABBEY, KILMAINHAM, DUBLIN 8    Dublin 8   \n",
       "2                22/05/2020    17 MERRION PARK, BLACKROCK, DUBLIN         NaN   \n",
       "3                27/11/2014      KNOCKROE, RATHMOYLE, CO.KILKENNY         NaN   \n",
       "4                22/11/2018    15 SHANNON PARK, LIFFORD RD, ENNIS         NaN   \n",
       "\n",
       "     County    Price (€) Not Full Market Price VAT Exclusive  \\\n",
       "0    Dublin  €630,000.00                    No            No   \n",
       "1    Dublin  €281,000.00                    No            No   \n",
       "2    Dublin  €560,000.00                    No            No   \n",
       "3  Kilkenny   €46,000.00                    No            No   \n",
       "4     Clare  €204,000.00                    No            No   \n",
       "\n",
       "                 Description of Property Property Size Description  \n",
       "0  Second-Hand Dwelling house /Apartment                       NaN  \n",
       "1  Second-Hand Dwelling house /Apartment                       NaN  \n",
       "2  Second-Hand Dwelling house /Apartment                       NaN  \n",
       "3  Second-Hand Dwelling house /Apartment                       NaN  \n",
       "4  Second-Hand Dwelling house /Apartment                       NaN  "
      ]
     },
     "execution_count": 125,
     "metadata": {},
     "output_type": "execute_result"
    }
   ],
   "source": [
    "df = pd.read_csv('ppr-17350796.csv', keep_default_na=True, sep=',\\s+', delimiter=',', skipinitialspace=True)\n",
    "# Show data frame first few rows\n",
    "df.head(5)"
   ]
  },
  {
   "cell_type": "markdown",
   "id": "040f20f1",
   "metadata": {},
   "source": [
    "Displaying the last 5 rows"
   ]
  },
  {
   "cell_type": "code",
   "execution_count": 126,
   "id": "4ec2c4cd",
   "metadata": {},
   "outputs": [
    {
     "data": {
      "text/html": [
       "<div>\n",
       "<style scoped>\n",
       "    .dataframe tbody tr th:only-of-type {\n",
       "        vertical-align: middle;\n",
       "    }\n",
       "\n",
       "    .dataframe tbody tr th {\n",
       "        vertical-align: top;\n",
       "    }\n",
       "\n",
       "    .dataframe thead th {\n",
       "        text-align: right;\n",
       "    }\n",
       "</style>\n",
       "<table border=\"1\" class=\"dataframe\">\n",
       "  <thead>\n",
       "    <tr style=\"text-align: right;\">\n",
       "      <th></th>\n",
       "      <th>Date of Sale (dd/mm/yyyy)</th>\n",
       "      <th>Address</th>\n",
       "      <th>Postal Code</th>\n",
       "      <th>County</th>\n",
       "      <th>Price (€)</th>\n",
       "      <th>Not Full Market Price</th>\n",
       "      <th>VAT Exclusive</th>\n",
       "      <th>Description of Property</th>\n",
       "      <th>Property Size Description</th>\n",
       "    </tr>\n",
       "  </thead>\n",
       "  <tbody>\n",
       "    <tr>\n",
       "      <th>9995</th>\n",
       "      <td>15/12/2017</td>\n",
       "      <td>KNOCKASARTNETT, KILLARNEY, KERRY</td>\n",
       "      <td>NaN</td>\n",
       "      <td>Kerry</td>\n",
       "      <td>€200,000.00</td>\n",
       "      <td>No</td>\n",
       "      <td>No</td>\n",
       "      <td>Second-Hand Dwelling house /Apartment</td>\n",
       "      <td>NaN</td>\n",
       "    </tr>\n",
       "    <tr>\n",
       "      <th>9996</th>\n",
       "      <td>18/12/2012</td>\n",
       "      <td>17 the court, cypress downs, templeogue</td>\n",
       "      <td>NaN</td>\n",
       "      <td>Dublin</td>\n",
       "      <td>€605,000.00</td>\n",
       "      <td>No</td>\n",
       "      <td>No</td>\n",
       "      <td>Second-Hand Dwelling house /Apartment</td>\n",
       "      <td>NaN</td>\n",
       "    </tr>\n",
       "    <tr>\n",
       "      <th>9997</th>\n",
       "      <td>14/12/2016</td>\n",
       "      <td>THE LOG CABIN, FORGE COTTAGE, CULLENSTOWN</td>\n",
       "      <td>NaN</td>\n",
       "      <td>Wexford</td>\n",
       "      <td>€46,666.67</td>\n",
       "      <td>No</td>\n",
       "      <td>No</td>\n",
       "      <td>Second-Hand Dwelling house /Apartment</td>\n",
       "      <td>NaN</td>\n",
       "    </tr>\n",
       "    <tr>\n",
       "      <th>9998</th>\n",
       "      <td>19/06/2017</td>\n",
       "      <td>CARRIG RD, PARKMORE, ROSCREA</td>\n",
       "      <td>NaN</td>\n",
       "      <td>Tipperary</td>\n",
       "      <td>€176,000.00</td>\n",
       "      <td>No</td>\n",
       "      <td>No</td>\n",
       "      <td>Second-Hand Dwelling house /Apartment</td>\n",
       "      <td>NaN</td>\n",
       "    </tr>\n",
       "    <tr>\n",
       "      <th>9999</th>\n",
       "      <td>02/11/2017</td>\n",
       "      <td>26 KILSHANE RD, FINGLAS, DUBLIN 11</td>\n",
       "      <td>Dublin 11</td>\n",
       "      <td>Dublin</td>\n",
       "      <td>€86,738.06</td>\n",
       "      <td>Yes</td>\n",
       "      <td>No</td>\n",
       "      <td>Second-Hand Dwelling house /Apartment</td>\n",
       "      <td>NaN</td>\n",
       "    </tr>\n",
       "  </tbody>\n",
       "</table>\n",
       "</div>"
      ],
      "text/plain": [
       "     Date of Sale (dd/mm/yyyy)                                    Address  \\\n",
       "9995                15/12/2017           KNOCKASARTNETT, KILLARNEY, KERRY   \n",
       "9996                18/12/2012    17 the court, cypress downs, templeogue   \n",
       "9997                14/12/2016  THE LOG CABIN, FORGE COTTAGE, CULLENSTOWN   \n",
       "9998                19/06/2017               CARRIG RD, PARKMORE, ROSCREA   \n",
       "9999                02/11/2017         26 KILSHANE RD, FINGLAS, DUBLIN 11   \n",
       "\n",
       "     Postal Code     County    Price (€) Not Full Market Price VAT Exclusive  \\\n",
       "9995         NaN      Kerry  €200,000.00                    No            No   \n",
       "9996         NaN     Dublin  €605,000.00                    No            No   \n",
       "9997         NaN    Wexford   €46,666.67                    No            No   \n",
       "9998         NaN  Tipperary  €176,000.00                    No            No   \n",
       "9999   Dublin 11     Dublin   €86,738.06                   Yes            No   \n",
       "\n",
       "                    Description of Property Property Size Description  \n",
       "9995  Second-Hand Dwelling house /Apartment                       NaN  \n",
       "9996  Second-Hand Dwelling house /Apartment                       NaN  \n",
       "9997  Second-Hand Dwelling house /Apartment                       NaN  \n",
       "9998  Second-Hand Dwelling house /Apartment                       NaN  \n",
       "9999  Second-Hand Dwelling house /Apartment                       NaN  "
      ]
     },
     "execution_count": 126,
     "metadata": {},
     "output_type": "execute_result"
    }
   ],
   "source": [
    "df.tail(5)"
   ]
  },
  {
   "cell_type": "markdown",
   "id": "eb5e5725",
   "metadata": {},
   "source": [
    "Display number of rows and columns- 10000 = Rows, 9 = columns"
   ]
  },
  {
   "cell_type": "code",
   "execution_count": 127,
   "id": "635a10df",
   "metadata": {},
   "outputs": [
    {
     "data": {
      "text/plain": [
       "(10000, 9)"
      ]
     },
     "execution_count": 127,
     "metadata": {},
     "output_type": "execute_result"
    }
   ],
   "source": [
    "# number of rows and columns\n",
    "df.shape"
   ]
  },
  {
   "cell_type": "markdown",
   "id": "8b5130d6",
   "metadata": {},
   "source": [
    "The data is currently all read as object. The data need to be change to the appropriate data type"
   ]
  },
  {
   "cell_type": "code",
   "execution_count": 128,
   "id": "6ea8e8ca",
   "metadata": {},
   "outputs": [
    {
     "name": "stdout",
     "output_type": "stream",
     "text": [
      "<class 'pandas.core.frame.DataFrame'>\n",
      "RangeIndex: 10000 entries, 0 to 9999\n",
      "Data columns (total 9 columns):\n",
      " #   Column                     Non-Null Count  Dtype \n",
      "---  ------                     --------------  ----- \n",
      " 0   Date of Sale (dd/mm/yyyy)  10000 non-null  object\n",
      " 1   Address                    10000 non-null  object\n",
      " 2   Postal Code                1860 non-null   object\n",
      " 3   County                     10000 non-null  object\n",
      " 4   Price (€)                  10000 non-null  object\n",
      " 5   Not Full Market Price      10000 non-null  object\n",
      " 6   VAT Exclusive              10000 non-null  object\n",
      " 7   Description of Property    10000 non-null  object\n",
      " 8   Property Size Description  1029 non-null   object\n",
      "dtypes: object(9)\n",
      "memory usage: 703.2+ KB\n"
     ]
    }
   ],
   "source": [
    "df.info()"
   ]
  },
  {
   "cell_type": "markdown",
   "id": "4db5aac5",
   "metadata": {},
   "source": [
    "Looking at the column names for errrors "
   ]
  },
  {
   "cell_type": "code",
   "execution_count": 129,
   "id": "14c5149b",
   "metadata": {},
   "outputs": [
    {
     "data": {
      "text/plain": [
       "Index(['Date of Sale (dd/mm/yyyy)', 'Address', 'Postal Code', 'County',\n",
       "       'Price (€)', 'Not Full Market Price', 'VAT Exclusive',\n",
       "       'Description of Property', 'Property Size Description'],\n",
       "      dtype='object')"
      ]
     },
     "execution_count": 129,
     "metadata": {},
     "output_type": "execute_result"
    }
   ],
   "source": [
    "df.columns"
   ]
  },
  {
   "cell_type": "code",
   "execution_count": 130,
   "id": "7290ab20",
   "metadata": {},
   "outputs": [
    {
     "data": {
      "text/html": [
       "<div>\n",
       "<style scoped>\n",
       "    .dataframe tbody tr th:only-of-type {\n",
       "        vertical-align: middle;\n",
       "    }\n",
       "\n",
       "    .dataframe tbody tr th {\n",
       "        vertical-align: top;\n",
       "    }\n",
       "\n",
       "    .dataframe thead th {\n",
       "        text-align: right;\n",
       "    }\n",
       "</style>\n",
       "<table border=\"1\" class=\"dataframe\">\n",
       "  <thead>\n",
       "    <tr style=\"text-align: right;\">\n",
       "      <th></th>\n",
       "      <th>Price (€)</th>\n",
       "    </tr>\n",
       "  </thead>\n",
       "  <tbody>\n",
       "    <tr>\n",
       "      <th>0</th>\n",
       "      <td>630000.00</td>\n",
       "    </tr>\n",
       "    <tr>\n",
       "      <th>1</th>\n",
       "      <td>281000.00</td>\n",
       "    </tr>\n",
       "    <tr>\n",
       "      <th>2</th>\n",
       "      <td>560000.00</td>\n",
       "    </tr>\n",
       "    <tr>\n",
       "      <th>3</th>\n",
       "      <td>46000.00</td>\n",
       "    </tr>\n",
       "    <tr>\n",
       "      <th>4</th>\n",
       "      <td>204000.00</td>\n",
       "    </tr>\n",
       "    <tr>\n",
       "      <th>...</th>\n",
       "      <td>...</td>\n",
       "    </tr>\n",
       "    <tr>\n",
       "      <th>9995</th>\n",
       "      <td>200000.00</td>\n",
       "    </tr>\n",
       "    <tr>\n",
       "      <th>9996</th>\n",
       "      <td>605000.00</td>\n",
       "    </tr>\n",
       "    <tr>\n",
       "      <th>9997</th>\n",
       "      <td>46666.67</td>\n",
       "    </tr>\n",
       "    <tr>\n",
       "      <th>9998</th>\n",
       "      <td>176000.00</td>\n",
       "    </tr>\n",
       "    <tr>\n",
       "      <th>9999</th>\n",
       "      <td>86738.06</td>\n",
       "    </tr>\n",
       "  </tbody>\n",
       "</table>\n",
       "<p>10000 rows × 1 columns</p>\n",
       "</div>"
      ],
      "text/plain": [
       "      Price (€)\n",
       "0     630000.00\n",
       "1     281000.00\n",
       "2     560000.00\n",
       "3      46000.00\n",
       "4     204000.00\n",
       "...         ...\n",
       "9995  200000.00\n",
       "9996  605000.00\n",
       "9997   46666.67\n",
       "9998  176000.00\n",
       "9999   86738.06\n",
       "\n",
       "[10000 rows x 1 columns]"
      ]
     },
     "execution_count": 130,
     "metadata": {},
     "output_type": "execute_result"
    }
   ],
   "source": [
    "# Converting price to float, you need to remove all symbols from strings for the command to work. \n",
    "\n",
    "\n",
    "\n",
    "df['Price (€)'] = df['Price (€)'].str.replace(',', '')\n",
    "\n",
    "\n",
    "df['Price (€)'] = df['Price (€)'].str.replace('€', '')\n",
    "\n",
    "df['Price (€)'] = df['Price (€)'].astype(float)\n",
    "\n",
    "df[['Price (€)']]"
   ]
  },
  {
   "cell_type": "code",
   "execution_count": null,
   "id": "dae838c3",
   "metadata": {},
   "outputs": [],
   "source": []
  },
  {
   "cell_type": "code",
   "execution_count": 131,
   "id": "b3e99869",
   "metadata": {},
   "outputs": [
    {
     "data": {
      "text/plain": [
       "Date of Sale (dd/mm/yyyy)      object\n",
       "Address                        object\n",
       "Postal Code                  category\n",
       "County                       category\n",
       "Price (€)                     float64\n",
       "Not Full Market Price        category\n",
       "VAT Exclusive                category\n",
       "Description of Property      category\n",
       "Property Size Description    category\n",
       "dtype: object"
      ]
     },
     "execution_count": 131,
     "metadata": {},
     "output_type": "execute_result"
    }
   ],
   "source": [
    "\n",
    "\n",
    "df['County'] = df['County'].astype('category')\n",
    "df['Description of Property'] = df['Description of Property'].astype('category')\n",
    "df['Postal Code'] = df['Postal Code'].astype('category')\n",
    "df['Property Size Description'] = df['Property Size Description'].astype('category')\n",
    "df['VAT Exclusive'] = df['VAT Exclusive'].astype('category')\n",
    "df['Not Full Market Price'] = df['Not Full Market Price'].astype('category')\n",
    "\n",
    "\n",
    "\n",
    "\n",
    "\n",
    "\n",
    "df.dtypes"
   ]
  },
  {
   "cell_type": "code",
   "execution_count": 132,
   "id": "887dce04",
   "metadata": {},
   "outputs": [
    {
     "data": {
      "text/plain": [
       "Date of Sale (dd/mm/yyyy)    datetime64[ns]\n",
       "Address                              object\n",
       "Postal Code                        category\n",
       "County                             category\n",
       "Price (€)                           float64\n",
       "Not Full Market Price              category\n",
       "VAT Exclusive                      category\n",
       "Description of Property            category\n",
       "Property Size Description          category\n",
       "dtype: object"
      ]
     },
     "execution_count": 132,
     "metadata": {},
     "output_type": "execute_result"
    }
   ],
   "source": [
    "# converting dates to date data type\n",
    "df['Date of Sale (dd/mm/yyyy)'] = pd.to_datetime(df['Date of Sale (dd/mm/yyyy)'])\n",
    "\n",
    "df.dtypes"
   ]
  },
  {
   "cell_type": "markdown",
   "id": "829ffa0c",
   "metadata": {},
   "source": [
    "Looking for duplicate rows and columns"
   ]
  },
  {
   "cell_type": "code",
   "execution_count": 133,
   "id": "c0008f93",
   "metadata": {},
   "outputs": [
    {
     "data": {
      "text/plain": [
       "Date of Sale (dd/mm/yyyy)    2759\n",
       "Address                      9980\n",
       "Postal Code                    22\n",
       "County                         26\n",
       "Price (€)                    2285\n",
       "Not Full Market Price           2\n",
       "VAT Exclusive                   2\n",
       "Description of Property         3\n",
       "Property Size Description       4\n",
       "dtype: int64"
      ]
     },
     "execution_count": 133,
     "metadata": {},
     "output_type": "execute_result"
    }
   ],
   "source": [
    "# There is 20 non unique addresses \n",
    "df.nunique()"
   ]
  },
  {
   "cell_type": "code",
   "execution_count": 134,
   "id": "23021f52",
   "metadata": {},
   "outputs": [
    {
     "data": {
      "text/plain": [
       "Date of Sale (dd/mm/yyyy)       0\n",
       "Address                         0\n",
       "Postal Code                  8140\n",
       "County                          0\n",
       "Price (€)                       0\n",
       "Not Full Market Price           0\n",
       "VAT Exclusive                   0\n",
       "Description of Property         0\n",
       "Property Size Description    8971\n",
       "dtype: int64"
      ]
     },
     "execution_count": 134,
     "metadata": {},
     "output_type": "execute_result"
    }
   ],
   "source": [
    "df.isnull().sum()"
   ]
  },
  {
   "cell_type": "code",
   "execution_count": 135,
   "id": "2345f378",
   "metadata": {},
   "outputs": [
    {
     "data": {
      "text/plain": [
       "No     9552\n",
       "Yes     448\n",
       "Name: Not Full Market Price, dtype: int64"
      ]
     },
     "execution_count": 135,
     "metadata": {},
     "output_type": "execute_result"
    }
   ],
   "source": [
    "df['Not Full Market Price'].value_counts(dropna=False)"
   ]
  },
  {
   "cell_type": "markdown",
   "id": "927f9ff2",
   "metadata": {},
   "source": [
    "There is some logical integrity issues with the data. Some post codes do not match the post codes in their addresses."
   ]
  },
  {
   "cell_type": "code",
   "execution_count": 136,
   "id": "d0477ae1",
   "metadata": {},
   "outputs": [
    {
     "data": {
      "text/html": [
       "<div>\n",
       "<style scoped>\n",
       "    .dataframe tbody tr th:only-of-type {\n",
       "        vertical-align: middle;\n",
       "    }\n",
       "\n",
       "    .dataframe tbody tr th {\n",
       "        vertical-align: top;\n",
       "    }\n",
       "\n",
       "    .dataframe thead th {\n",
       "        text-align: right;\n",
       "    }\n",
       "</style>\n",
       "<table border=\"1\" class=\"dataframe\">\n",
       "  <thead>\n",
       "    <tr style=\"text-align: right;\">\n",
       "      <th></th>\n",
       "      <th>Postal Code</th>\n",
       "      <th>County</th>\n",
       "      <th>Not Full Market Price</th>\n",
       "      <th>VAT Exclusive</th>\n",
       "      <th>Description of Property</th>\n",
       "      <th>Property Size Description</th>\n",
       "    </tr>\n",
       "  </thead>\n",
       "  <tbody>\n",
       "    <tr>\n",
       "      <th>0</th>\n",
       "      <td>Dublin 8</td>\n",
       "      <td>Dublin</td>\n",
       "      <td>No</td>\n",
       "      <td>No</td>\n",
       "      <td>Second-Hand Dwelling house /Apartment</td>\n",
       "      <td>NaN</td>\n",
       "    </tr>\n",
       "    <tr>\n",
       "      <th>1</th>\n",
       "      <td>Dublin 8</td>\n",
       "      <td>Dublin</td>\n",
       "      <td>No</td>\n",
       "      <td>No</td>\n",
       "      <td>Second-Hand Dwelling house /Apartment</td>\n",
       "      <td>NaN</td>\n",
       "    </tr>\n",
       "    <tr>\n",
       "      <th>2</th>\n",
       "      <td>NaN</td>\n",
       "      <td>Dublin</td>\n",
       "      <td>No</td>\n",
       "      <td>No</td>\n",
       "      <td>Second-Hand Dwelling house /Apartment</td>\n",
       "      <td>NaN</td>\n",
       "    </tr>\n",
       "    <tr>\n",
       "      <th>3</th>\n",
       "      <td>NaN</td>\n",
       "      <td>Kilkenny</td>\n",
       "      <td>No</td>\n",
       "      <td>No</td>\n",
       "      <td>Second-Hand Dwelling house /Apartment</td>\n",
       "      <td>NaN</td>\n",
       "    </tr>\n",
       "    <tr>\n",
       "      <th>4</th>\n",
       "      <td>NaN</td>\n",
       "      <td>Clare</td>\n",
       "      <td>No</td>\n",
       "      <td>No</td>\n",
       "      <td>Second-Hand Dwelling house /Apartment</td>\n",
       "      <td>NaN</td>\n",
       "    </tr>\n",
       "  </tbody>\n",
       "</table>\n",
       "</div>"
      ],
      "text/plain": [
       "  Postal Code    County Not Full Market Price VAT Exclusive  \\\n",
       "0    Dublin 8    Dublin                    No            No   \n",
       "1    Dublin 8    Dublin                    No            No   \n",
       "2         NaN    Dublin                    No            No   \n",
       "3         NaN  Kilkenny                    No            No   \n",
       "4         NaN     Clare                    No            No   \n",
       "\n",
       "                 Description of Property Property Size Description  \n",
       "0  Second-Hand Dwelling house /Apartment                       NaN  \n",
       "1  Second-Hand Dwelling house /Apartment                       NaN  \n",
       "2  Second-Hand Dwelling house /Apartment                       NaN  \n",
       "3  Second-Hand Dwelling house /Apartment                       NaN  \n",
       "4  Second-Hand Dwelling house /Apartment                       NaN  "
      ]
     },
     "execution_count": 136,
     "metadata": {},
     "output_type": "execute_result"
    }
   ],
   "source": [
    "category_columns = df.select_dtypes(['category']).columns\n",
    "df[category_columns].head()"
   ]
  },
  {
   "cell_type": "code",
   "execution_count": 137,
   "id": "bbbc48bb",
   "metadata": {},
   "outputs": [
    {
     "data": {
      "text/html": [
       "<div>\n",
       "<style scoped>\n",
       "    .dataframe tbody tr th:only-of-type {\n",
       "        vertical-align: middle;\n",
       "    }\n",
       "\n",
       "    .dataframe tbody tr th {\n",
       "        vertical-align: top;\n",
       "    }\n",
       "\n",
       "    .dataframe thead th {\n",
       "        text-align: right;\n",
       "    }\n",
       "</style>\n",
       "<table border=\"1\" class=\"dataframe\">\n",
       "  <thead>\n",
       "    <tr style=\"text-align: right;\">\n",
       "      <th></th>\n",
       "      <th>count</th>\n",
       "      <th>unique</th>\n",
       "      <th>top</th>\n",
       "      <th>freq</th>\n",
       "    </tr>\n",
       "  </thead>\n",
       "  <tbody>\n",
       "    <tr>\n",
       "      <th>Postal Code</th>\n",
       "      <td>1860</td>\n",
       "      <td>22</td>\n",
       "      <td>Dublin 15</td>\n",
       "      <td>232</td>\n",
       "    </tr>\n",
       "    <tr>\n",
       "      <th>County</th>\n",
       "      <td>10000</td>\n",
       "      <td>26</td>\n",
       "      <td>Dublin</td>\n",
       "      <td>3193</td>\n",
       "    </tr>\n",
       "    <tr>\n",
       "      <th>Not Full Market Price</th>\n",
       "      <td>10000</td>\n",
       "      <td>2</td>\n",
       "      <td>No</td>\n",
       "      <td>9552</td>\n",
       "    </tr>\n",
       "    <tr>\n",
       "      <th>VAT Exclusive</th>\n",
       "      <td>10000</td>\n",
       "      <td>2</td>\n",
       "      <td>No</td>\n",
       "      <td>8399</td>\n",
       "    </tr>\n",
       "    <tr>\n",
       "      <th>Description of Property</th>\n",
       "      <td>10000</td>\n",
       "      <td>3</td>\n",
       "      <td>Second-Hand Dwelling house /Apartment</td>\n",
       "      <td>8363</td>\n",
       "    </tr>\n",
       "    <tr>\n",
       "      <th>Property Size Description</th>\n",
       "      <td>1029</td>\n",
       "      <td>4</td>\n",
       "      <td>greater than or equal to 38 sq metres and less...</td>\n",
       "      <td>723</td>\n",
       "    </tr>\n",
       "  </tbody>\n",
       "</table>\n",
       "</div>"
      ],
      "text/plain": [
       "                           count unique  \\\n",
       "Postal Code                 1860     22   \n",
       "County                     10000     26   \n",
       "Not Full Market Price      10000      2   \n",
       "VAT Exclusive              10000      2   \n",
       "Description of Property    10000      3   \n",
       "Property Size Description   1029      4   \n",
       "\n",
       "                                                                         top  \\\n",
       "Postal Code                                                        Dublin 15   \n",
       "County                                                                Dublin   \n",
       "Not Full Market Price                                                     No   \n",
       "VAT Exclusive                                                             No   \n",
       "Description of Property                Second-Hand Dwelling house /Apartment   \n",
       "Property Size Description  greater than or equal to 38 sq metres and less...   \n",
       "\n",
       "                           freq  \n",
       "Postal Code                 232  \n",
       "County                     3193  \n",
       "Not Full Market Price      9552  \n",
       "VAT Exclusive              8399  \n",
       "Description of Property    8363  \n",
       "Property Size Description   723  "
      ]
     },
     "execution_count": 137,
     "metadata": {},
     "output_type": "execute_result"
    }
   ],
   "source": [
    "df[category_columns].describe().T"
   ]
  },
  {
   "cell_type": "code",
   "execution_count": 139,
   "id": "7d318617",
   "metadata": {},
   "outputs": [
    {
     "data": {
      "text/plain": [
       "Index(['Price (€)'], dtype='object')"
      ]
     },
     "execution_count": 139,
     "metadata": {},
     "output_type": "execute_result"
    }
   ],
   "source": [
    "numeric_columns = df.select_dtypes(['float64']).columns\n",
    "numeric_columns"
   ]
  },
  {
   "cell_type": "code",
   "execution_count": 141,
   "id": "34559a2a",
   "metadata": {},
   "outputs": [
    {
     "data": {
      "text/plain": [
       "count    1.000000e+04\n",
       "mean     2.602607e+05\n",
       "std      3.901703e+05\n",
       "min      5.500000e+03\n",
       "25%      1.200000e+05\n",
       "50%      2.000000e+05\n",
       "75%      3.083701e+05\n",
       "max      1.715125e+07\n",
       "Name: Price (€), dtype: float64"
      ]
     },
     "execution_count": 141,
     "metadata": {},
     "output_type": "execute_result"
    }
   ],
   "source": [
    "df['Price (€)'].describe()"
   ]
  },
  {
   "cell_type": "code",
   "execution_count": 142,
   "id": "a42e4730",
   "metadata": {},
   "outputs": [
    {
     "data": {
      "text/plain": [
       "count                                     10000\n",
       "unique                                     9980\n",
       "top       13 CATHEDRAL WALK, BLACKPOOL, CO CORK\n",
       "freq                                          2\n",
       "Name: Address, dtype: object"
      ]
     },
     "execution_count": 142,
     "metadata": {},
     "output_type": "execute_result"
    }
   ],
   "source": [
    "df['Address'].describe()"
   ]
  },
  {
   "cell_type": "code",
   "execution_count": null,
   "id": "16127952",
   "metadata": {},
   "outputs": [],
   "source": []
  }
 ],
 "metadata": {
  "kernelspec": {
   "display_name": "Python 3",
   "language": "python",
   "name": "python3"
  },
  "language_info": {
   "codemirror_mode": {
    "name": "ipython",
    "version": 3
   },
   "file_extension": ".py",
   "mimetype": "text/x-python",
   "name": "python",
   "nbconvert_exporter": "python",
   "pygments_lexer": "ipython3",
   "version": "3.8.8"
  }
 },
 "nbformat": 4,
 "nbformat_minor": 5
}
